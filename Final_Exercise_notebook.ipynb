{
  "cells": [
    {
      "cell_type": "markdown",
      "metadata": {
        "id": "view-in-github",
        "colab_type": "text"
      },
      "source": [
        "<a href=\"https://colab.research.google.com/github/ceelkamalayko/API201DFinalExercise/blob/main/Final_Exercise_notebook.ipynb\" target=\"_parent\"><img src=\"https://colab.research.google.com/assets/colab-badge.svg\" alt=\"Open In Colab\"/></a>"
      ]
    },
    {
      "cell_type": "markdown",
      "metadata": {
        "id": "xRV2EiL5kQSt"
      },
      "source": [
        "# Load packages"
      ]
    },
    {
      "cell_type": "code",
      "execution_count": 106,
      "metadata": {
        "colab": {
          "base_uri": "https://localhost:8080/"
        },
        "id": "k5FkWgckkGWz",
        "outputId": "7074bf8f-96e6-44f3-e4eb-9796bdcc06c2"
      },
      "outputs": [
        {
          "output_type": "stream",
          "name": "stderr",
          "text": [
            "Installing package into ‘/usr/local/lib/R/site-library’\n",
            "(as ‘lib’ is unspecified)\n",
            "\n",
            "Installing package into ‘/usr/local/lib/R/site-library’\n",
            "(as ‘lib’ is unspecified)\n",
            "\n",
            "Warning message in install.packages(\"reshape2\"):\n",
            "“installation of package ‘reshape2’ had non-zero exit status”\n",
            "Installing package into ‘/usr/local/lib/R/site-library’\n",
            "(as ‘lib’ is unspecified)\n",
            "\n",
            "Installing package into ‘/usr/local/lib/R/site-library’\n",
            "(as ‘lib’ is unspecified)\n",
            "\n",
            "Warning message in install.packages(\"ggthemes\"):\n",
            "“installation of package ‘ggthemes’ had non-zero exit status”\n",
            "Installing package into ‘/usr/local/lib/R/site-library’\n",
            "(as ‘lib’ is unspecified)\n",
            "\n"
          ]
        }
      ],
      "source": [
        "# Requisite package installations\n",
        "\n",
        "install.packages('formattable')\n",
        "install.packages('reshape2')\n",
        "install.packages('wesanderson')\n",
        "install.packages('ggthemes')\n",
        "install.packages(\"tidyverse\")\n",
        "library(tidyverse)\n",
        "library(ggthemes)\n",
        "library(tidyr)\n",
        "library(ggplot2)\n",
        "library(dplyr)\n",
        "library(formattable)"
      ]
    },
    {
      "cell_type": "code",
      "execution_count": 107,
      "metadata": {
        "id": "ZKgAjG5tUo7L",
        "colab": {
          "base_uri": "https://localhost:8080/"
        },
        "outputId": "dead741b-e05d-4afb-e11c-74d5c7c9fddc"
      },
      "outputs": [
        {
          "output_type": "stream",
          "name": "stderr",
          "text": [
            "Installing package into ‘/usr/local/lib/R/site-library’\n",
            "(as ‘lib’ is unspecified)\n",
            "\n",
            "Installing package into ‘/usr/local/lib/R/site-library’\n",
            "(as ‘lib’ is unspecified)\n",
            "\n"
          ]
        }
      ],
      "source": [
        "# Color palettes packages\n",
        "install.packages(\"ggthemes\")\n",
        "library(ggthemes)\n",
        "\n",
        "# Wesanderson colors, from http://www.sthda.com/english/wiki/colors-in-r\n",
        "install.packages(\"wesanderson\")\n",
        "library(wesanderson)"
      ]
    },
    {
      "cell_type": "markdown",
      "metadata": {
        "id": "W7S-rXTjlLKw"
      },
      "source": [
        "# 1. Analysis of political polarization"
      ]
    },
    {
      "cell_type": "markdown",
      "metadata": {
        "id": "QFlvkkShkr2x"
      },
      "source": [
        "## 1.1 Data cleaning"
      ]
    },
    {
      "cell_type": "code",
      "execution_count": 108,
      "metadata": {
        "id": "5DH3biCHUtRY",
        "colab": {
          "base_uri": "https://localhost:8080/"
        },
        "outputId": "2e033a2d-737a-4d1d-b6ab-15072b0af7cd"
      },
      "outputs": [
        {
          "output_type": "stream",
          "name": "stdout",
          "text": [
            "   Spectrum                        Label 1974 1975 1976 1977 1978 1980 1982\n",
            "5         1            Extremely liberal   22   46   31   37   22   36   48\n",
            "6         2                      Liberal  201  179  187  169  142  121  199\n",
            "7         3             Slightly liberal  207  196  186  214  241  208  267\n",
            "8         4 Moderate, middle of the road  564  559  559  564  549  582  694\n",
            "9         5        Slightly conservative  221  232  221  251  263  258  235\n",
            "10        6                 Conservative  160  150  190  179  188  180  229\n",
            "11        7       Extremely conservative   35   35   27   39   30   44   67\n",
            "   1983 1984 1985 1986 1987 1988 1989 1990 1991 1993 1994 1996 1998 2000 2002\n",
            "5    16   29   35   25   47   34   40   36   37   30   71   59   64  107   47\n",
            "6    67  133  163  132  234  176  178  141  154  180  328  303  357  308  143\n",
            "7    98  177  171  176  226  189  191  179  214  203  378  334  351  285  159\n",
            "8   319  568  566  579  641  514  566  476  584  575 1049 1045  986 1054  522\n",
            "9   142  276  271  242  278  246  246  240  218  264  472  451  432  390  209\n",
            "10  108  186  214  209  208  225  194  192  212  254  478  458  415  411  210\n",
            "11   20   41   42   38   45   32   27   51   40   42  103   93   86   89   41\n",
            "   2004 2006 2008 2010 2012 2014 2016 2018 2021 2022\n",
            "5    46  139   69   76   81   94  136  122  207  192\n",
            "6   120  524  240  259  244  304  350  278  623  486\n",
            "7   153  517  221  232  208  263  310  256  490  400\n",
            "8   497 1683  740  746  713  989 1032  855 1377 1245\n",
            "9   214  618  268  265  268  334  382  283  476  430\n",
            "10  223  685  327  315  292  358  426  354  617  514\n",
            "11   56  167   68   80   68  107  120   99  174  159\n"
          ]
        }
      ],
      "source": [
        "# This is the URL that will lead you to where the datafile lives on GitHub\n",
        "url <- \"https://raw.githubusercontent.com/ceelkamalayko/API201DFinalExercise/main/GSSdata.csv\"\n",
        "data <- read.csv(url)\n",
        "\n",
        "# To avoid recurring errors, we update column names\n",
        "colnames(data) <- c(\"Spectrum\", \"Label\", \"1974\", \"1975\", \"1976\", \"1977\", \"1978\", \"1980\", \"1982\", \"1983\", \"1984\", \"1985\", \"1986\", \"1987\", \"1988\", \"1989\", \"1990\", \"1991\", \"1993\", \"1994\", \"1996\", \"1998\", \"2000\", \"2002\", \"2004\", \"2006\", \"2008\", \"2010\", \"2012\", \"2014\", \"2016\", \"2018\", \"2021\", \"2022\")\n",
        "\n",
        "# IMPORTANT: I (Lucas) reversed the order between cleaning and filtering for specific years, that way the data is cleaned before it is subsetted and we can subset it differently later\n",
        "\n",
        "# We need to filter so that we can focus on 1 to 7 as opposed to -99 which is irrelevant for our research\n",
        "\n",
        "cleaned_data <- data[data$Spectrum %in% c(1, 2, 3, 4, 5, 6, 7), ]\n",
        "\n",
        "# print the clean data\n",
        "print(cleaned_data)\n",
        "\n",
        "\n"
      ]
    },
    {
      "cell_type": "markdown",
      "source": [
        "## 1.2. Polarization in 1974 vs 2022"
      ],
      "metadata": {
        "id": "OzPL87SzPPfC"
      }
    },
    {
      "cell_type": "markdown",
      "source": [
        "### 1.2.1. Histogram polarization 1974 vs 2022"
      ],
      "metadata": {
        "id": "4xrQHmUwP3wY"
      }
    },
    {
      "cell_type": "code",
      "source": [
        "# Let us now subset the data for 1974 and 2022 so that we can focus on 1974 and 2022\n",
        "\n",
        "filteredata <- cleaned_data[, c(\"Spectrum\", \"Label\", \"1974\", \"2022\")]\n",
        "\n",
        "# To plot readily, we pivot the data\n",
        "ready_data <- pivot_longer(filteredata, cols = c(\"1974\", \"2022\"), names_to = \"Year\", values_to = \"Count\")\n",
        "\n",
        "# Generating Histograms\n",
        "ggplot(ready_data, aes(x = factor(Spectrum), y = Count, fill = factor(Spectrum))) +\n",
        "  geom_bar(position = \"dodge\", stat = \"identity\") +\n",
        "  facet_wrap(~ Year, scales = \"free_x\", labeller = labeller(Year = c(\"1974\" = \"Year 1974\", \"2022\" = \"Year 2022\"))) +\n",
        "  labs(title = \"Distribution of Political Affiliation (1974 vs. 2022)\",\n",
        "       x = \"Political Affiliation\",\n",
        "       y = \"Count\") +\n",
        "  scale_x_discrete(labels = c(\"1\", \"2\", \"3\", \"4\", \"5\", \"6\", \"7\")) +\n",
        "  scale_fill_manual(values = c(\"1\" = \"#0000FF\", \"2\" = \"#3399FF\", \"3\" = \"#66B2FF\", \"4\" = \"#800080\", \"5\" = \"#FF6666\", \"6\" = \"#FF3333\", \"7\" = \"#FF0000\"),\n",
        "                    name = \"Political Affiliation\",\n",
        "                    labels = c(\"1\" = \"Extremely Liberal\", \"2\" = \"Liberal\", \"3\" = \"Slightly Liberal\",\n",
        "                               \"4\" = \"Moderate\", \"5\" = \"Slightly Conservative\", \"6\" = \"Conservative\",\n",
        "                               \"7\" = \"Extremely Conservative\")) +\n",
        "  theme_minimal()"
      ],
      "metadata": {
        "colab": {
          "base_uri": "https://localhost:8080/",
          "height": 437
        },
        "id": "yIPuBk56OObN",
        "outputId": "78ea6b2e-66cc-4e83-85c9-8fa1e0e1c4e4"
      },
      "execution_count": 109,
      "outputs": [
        {
          "output_type": "display_data",
          "data": {
            "text/plain": [
              "plot without title"
            ],
            "image/png": "[encoded data removed]"
          },
          "metadata": {
            "image/png": {
              "width": 420,
              "height": 420
            }
          }
        }
      ]
    },
    {
      "cell_type": "markdown",
      "source": [
        "### 1.2.2. Stacked bar chart polarization 1974 vs 2022"
      ],
      "metadata": {
        "id": "nnkIM3bhP62w"
      }
    },
    {
      "cell_type": "code",
      "execution_count": 110,
      "metadata": {
        "id": "LrurV7NwiO2u",
        "colab": {
          "base_uri": "https://localhost:8080/",
          "height": 437
        },
        "outputId": "ec7e6265-1bb6-41f5-aa88-64f67b8f6f3b"
      },
      "outputs": [
        {
          "output_type": "display_data",
          "data": {
            "text/plain": [
              "plot without title"
            ],
            "image/png": "[encoded data removed]"
          },
          "metadata": {
            "image/png": {
              "width": 420,
              "height": 420
            }
          }
        }
      ],
      "source": [
        "# Determining the proportion in each year after grouping\n",
        "ready_data <- ready_data %>%\n",
        "  group_by(Year) %>%\n",
        "  mutate(Proportion = Count / sum(Count))\n",
        "\n",
        "# Stacked Bar Chart\n",
        "ggplot(ready_data, aes(x = factor(Year), y = Proportion, fill = factor(Spectrum))) +\n",
        "  geom_bar(position = \"stack\", stat = \"identity\") +\n",
        "  labs(title = \"Proportion of Political Affiliation (1974-2022)\",\n",
        "       x = \"Year\",\n",
        "       y = \"Proportion\") +\n",
        "  scale_fill_manual(values = c(\"1\" = \"#0000FF\", \"2\" = \"#3399FF\", \"3\" = \"#66B2FF\", \"4\" = \"#800080\", \"5\" = \"#FF6666\", \"6\" = \"#FF3333\", \"7\" = \"#FF0000\"),\n",
        "                    name = \"Political Affiliation\",\n",
        "                    labels = c(\"1\" = \"Extremely Liberal\", \"2\" = \"Liberal\", \"3\" = \"Slightly Liberal\",\n",
        "                               \"4\" = \"Moderate\", \"5\" = \"Slightly Conservative\", \"6\" = \"Conservative\",\n",
        "                               \"7\" = \"Extremely Conservative\")) +\n",
        "  theme_minimal()"
      ]
    },
    {
      "cell_type": "markdown",
      "source": [
        "### 1.2.3. Line graph of proportion of extremes"
      ],
      "metadata": {
        "id": "OtxUofQ2QERV"
      }
    },
    {
      "cell_type": "code",
      "source": [
        "# Adding rows to track the evolution of the proportion over time\n",
        "\n",
        "# Adding a total row\n",
        "\n",
        "dfpolarizationfinal <- cleaned_data %>%\n",
        "  bind_rows(summarise(., across(where(is.numeric), sum), across(where(is.character), ~'Total')))\n",
        "\n",
        "# Adding blank rows for the proportions of extreme and near-extreme\n",
        "\n",
        "new_row <- dfpolarizationfinal[1,]\n",
        "new_row[] <- NA\n",
        "new_row$Label <- \"propextr\"\n",
        "dfpolarizationfinal <- rbind(dfpolarizationfinal , new_row)\n",
        "\n",
        "new_row <- dfpolarizationfinal[1,]\n",
        "new_row[] <- NA\n",
        "new_row$Label <- \"propnearextr\"\n",
        "dfpolarizationfinal <- rbind(dfpolarizationfinal , new_row)\n",
        "\n",
        "# Computing the values for these new rows\n",
        "\n",
        "dfpolarizationfinal[9,-2] <- ( dfpolarizationfinal[1,-2] + dfpolarizationfinal[7,-2] ) / dfpolarizationfinal[8,-2]\n",
        "dfpolarizationfinal[10,-2] <- ( dfpolarizationfinal[1,-2] + dfpolarizationfinal[2,-2] + dfpolarizationfinal[6,-2] + dfpolarizationfinal[7,-2] )/ dfpolarizationfinal[8,-2]\n",
        "\n",
        "dfpolarizationfinal\n"
      ],
      "metadata": {
        "colab": {
          "base_uri": "https://localhost:8080/",
          "height": 535
        },
        "id": "QvkDayt0xmNc",
        "outputId": "68728a1c-a44b-4f2f-b96c-5b093d2af745"
      },
      "execution_count": 111,
      "outputs": [
        {
          "output_type": "display_data",
          "data": {
            "text/html": [
              "<table class=\"dataframe\">\n",
              "<caption>A data.frame: 10 × 34</caption>\n",
              "<thead>\n",
              "\t<tr><th scope=col>Spectrum</th><th scope=col>Label</th><th scope=col>1974</th><th scope=col>1975</th><th scope=col>1976</th><th scope=col>1977</th><th scope=col>1978</th><th scope=col>1980</th><th scope=col>1982</th><th scope=col>1983</th><th scope=col>⋯</th><th scope=col>2004</th><th scope=col>2006</th><th scope=col>2008</th><th scope=col>2010</th><th scope=col>2012</th><th scope=col>2014</th><th scope=col>2016</th><th scope=col>2018</th><th scope=col>2021</th><th scope=col>2022</th></tr>\n",
              "\t<tr><th scope=col>&lt;dbl&gt;</th><th scope=col>&lt;chr&gt;</th><th scope=col>&lt;dbl&gt;</th><th scope=col>&lt;dbl&gt;</th><th scope=col>&lt;dbl&gt;</th><th scope=col>&lt;dbl&gt;</th><th scope=col>&lt;dbl&gt;</th><th scope=col>&lt;dbl&gt;</th><th scope=col>&lt;dbl&gt;</th><th scope=col>&lt;dbl&gt;</th><th scope=col>⋯</th><th scope=col>&lt;dbl&gt;</th><th scope=col>&lt;dbl&gt;</th><th scope=col>&lt;dbl&gt;</th><th scope=col>&lt;dbl&gt;</th><th scope=col>&lt;dbl&gt;</th><th scope=col>&lt;dbl&gt;</th><th scope=col>&lt;dbl&gt;</th><th scope=col>&lt;dbl&gt;</th><th scope=col>&lt;dbl&gt;</th><th scope=col>&lt;dbl&gt;</th></tr>\n",
              "</thead>\n",
              "<tbody>\n",
              "\t<tr><td> 1.0000000</td><td>Extremely liberal           </td><td>2.200000e+01</td><td>4.600000e+01</td><td>  31.0000000</td><td>3.700000e+01</td><td>2.200000e+01</td><td>3.600000e+01</td><td>4.800000e+01</td><td> 16.00000000</td><td>⋯</td><td>4.600000e+01</td><td>1.390000e+02</td><td>6.900000e+01</td><td>7.600000e+01</td><td>8.100000e+01</td><td>9.400000e+01</td><td>1.360000e+02</td><td>1.220000e+02</td><td>2.070000e+02</td><td> 192.0000000</td></tr>\n",
              "\t<tr><td> 2.0000000</td><td>Liberal                     </td><td>2.010000e+02</td><td>1.790000e+02</td><td> 187.0000000</td><td>1.690000e+02</td><td>1.420000e+02</td><td>1.210000e+02</td><td>1.990000e+02</td><td> 67.00000000</td><td>⋯</td><td>1.200000e+02</td><td>5.240000e+02</td><td>2.400000e+02</td><td>2.590000e+02</td><td>2.440000e+02</td><td>3.040000e+02</td><td>3.500000e+02</td><td>2.780000e+02</td><td>6.230000e+02</td><td> 486.0000000</td></tr>\n",
              "\t<tr><td> 3.0000000</td><td>Slightly liberal            </td><td>2.070000e+02</td><td>1.960000e+02</td><td> 186.0000000</td><td>2.140000e+02</td><td>2.410000e+02</td><td>2.080000e+02</td><td>2.670000e+02</td><td> 98.00000000</td><td>⋯</td><td>1.530000e+02</td><td>5.170000e+02</td><td>2.210000e+02</td><td>2.320000e+02</td><td>2.080000e+02</td><td>2.630000e+02</td><td>3.100000e+02</td><td>2.560000e+02</td><td>4.900000e+02</td><td> 400.0000000</td></tr>\n",
              "\t<tr><td> 4.0000000</td><td>Moderate, middle of the road</td><td>5.640000e+02</td><td>5.590000e+02</td><td> 559.0000000</td><td>5.640000e+02</td><td>5.490000e+02</td><td>5.820000e+02</td><td>6.940000e+02</td><td>319.00000000</td><td>⋯</td><td>4.970000e+02</td><td>1.683000e+03</td><td>7.400000e+02</td><td>7.460000e+02</td><td>7.130000e+02</td><td>9.890000e+02</td><td>1.032000e+03</td><td>8.550000e+02</td><td>1.377000e+03</td><td>1245.0000000</td></tr>\n",
              "\t<tr><td> 5.0000000</td><td>Slightly conservative       </td><td>2.210000e+02</td><td>2.320000e+02</td><td> 221.0000000</td><td>2.510000e+02</td><td>2.630000e+02</td><td>2.580000e+02</td><td>2.350000e+02</td><td>142.00000000</td><td>⋯</td><td>2.140000e+02</td><td>6.180000e+02</td><td>2.680000e+02</td><td>2.650000e+02</td><td>2.680000e+02</td><td>3.340000e+02</td><td>3.820000e+02</td><td>2.830000e+02</td><td>4.760000e+02</td><td> 430.0000000</td></tr>\n",
              "\t<tr><td> 6.0000000</td><td>Conservative                </td><td>1.600000e+02</td><td>1.500000e+02</td><td> 190.0000000</td><td>1.790000e+02</td><td>1.880000e+02</td><td>1.800000e+02</td><td>2.290000e+02</td><td>108.00000000</td><td>⋯</td><td>2.230000e+02</td><td>6.850000e+02</td><td>3.270000e+02</td><td>3.150000e+02</td><td>2.920000e+02</td><td>3.580000e+02</td><td>4.260000e+02</td><td>3.540000e+02</td><td>6.170000e+02</td><td> 514.0000000</td></tr>\n",
              "\t<tr><td> 7.0000000</td><td>Extremely conservative      </td><td>3.500000e+01</td><td>3.500000e+01</td><td>  27.0000000</td><td>3.900000e+01</td><td>3.000000e+01</td><td>4.400000e+01</td><td>6.700000e+01</td><td> 20.00000000</td><td>⋯</td><td>5.600000e+01</td><td>1.670000e+02</td><td>6.800000e+01</td><td>8.000000e+01</td><td>6.800000e+01</td><td>1.070000e+02</td><td>1.200000e+02</td><td>9.900000e+01</td><td>1.740000e+02</td><td> 159.0000000</td></tr>\n",
              "\t<tr><td>28.0000000</td><td>Total                       </td><td>1.410000e+03</td><td>1.397000e+03</td><td>1401.0000000</td><td>1.453000e+03</td><td>1.435000e+03</td><td>1.429000e+03</td><td>1.739000e+03</td><td>770.00000000</td><td>⋯</td><td>1.309000e+03</td><td>4.333000e+03</td><td>1.933000e+03</td><td>1.973000e+03</td><td>1.874000e+03</td><td>2.449000e+03</td><td>2.756000e+03</td><td>2.247000e+03</td><td>3.964000e+03</td><td>3426.0000000</td></tr>\n",
              "\t<tr><td> 0.2857143</td><td>propextr                    </td><td>4.042553e-02</td><td>5.798139e-02</td><td>   0.0413990</td><td>5.230557e-02</td><td>3.623693e-02</td><td>5.598321e-02</td><td>6.612996e-02</td><td>  0.04675325</td><td>⋯</td><td>7.792208e-02</td><td>7.062082e-02</td><td>7.087429e-02</td><td>7.906741e-02</td><td>7.950907e-02</td><td>8.207432e-02</td><td>9.288824e-02</td><td>9.835336e-02</td><td>9.611504e-02</td><td>   0.1024518</td></tr>\n",
              "\t<tr><td> 0.5714286</td><td>propnearextr                </td><td>2.964539e-01</td><td>2.934860e-01</td><td>   0.3104925</td><td>2.918100e-01</td><td>2.662021e-01</td><td>2.666200e-01</td><td>3.122484e-01</td><td>  0.27402597</td><td>⋯</td><td>3.399542e-01</td><td>3.496423e-01</td><td>3.642007e-01</td><td>3.699949e-01</td><td>3.655283e-01</td><td>3.523887e-01</td><td>3.744557e-01</td><td>3.796173e-01</td><td>4.089304e-01</td><td>   0.3943374</td></tr>\n",
              "</tbody>\n",
              "</table>\n"
            ],
            "text/markdown": "\nA data.frame: 10 × 34\n\n| Spectrum &lt;dbl&gt; | Label &lt;chr&gt; | 1974 &lt;dbl&gt; | 1975 &lt;dbl&gt; | 1976 &lt;dbl&gt; | 1977 &lt;dbl&gt; | 1978 &lt;dbl&gt; | 1980 &lt;dbl&gt; | 1982 &lt;dbl&gt; | 1983 &lt;dbl&gt; | ⋯ ⋯ | 2004 &lt;dbl&gt; | 2006 &lt;dbl&gt; | 2008 &lt;dbl&gt; | 2010 &lt;dbl&gt; | 2012 &lt;dbl&gt; | 2014 &lt;dbl&gt; | 2016 &lt;dbl&gt; | 2018 &lt;dbl&gt; | 2021 &lt;dbl&gt; | 2022 &lt;dbl&gt; |\n|---|---|---|---|---|---|---|---|---|---|---|---|---|---|---|---|---|---|---|---|---|\n|  1.0000000 | Extremely liberal            | 2.200000e+01 | 4.600000e+01 |   31.0000000 | 3.700000e+01 | 2.200000e+01 | 3.600000e+01 | 4.800000e+01 |  16.00000000 | ⋯ | 4.600000e+01 | 1.390000e+02 | 6.900000e+01 | 7.600000e+01 | 8.100000e+01 | 9.400000e+01 | 1.360000e+02 | 1.220000e+02 | 2.070000e+02 |  192.0000000 |\n|  2.0000000 | Liberal                      | 2.010000e+02 | 1.790000e+02 |  187.0000000 | 1.690000e+02 | 1.420000e+02 | 1.210000e+02 | 1.990000e+02 |  67.00000000 | ⋯ | 1.200000e+02 | 5.240000e+02 | 2.400000e+02 | 2.590000e+02 | 2.440000e+02 | 3.040000e+02 | 3.500000e+02 | 2.780000e+02 | 6.230000e+02 |  486.0000000 |\n|  3.0000000 | Slightly liberal             | 2.070000e+02 | 1.960000e+02 |  186.0000000 | 2.140000e+02 | 2.410000e+02 | 2.080000e+02 | 2.670000e+02 |  98.00000000 | ⋯ | 1.530000e+02 | 5.170000e+02 | 2.210000e+02 | 2.320000e+02 | 2.080000e+02 | 2.630000e+02 | 3.100000e+02 | 2.560000e+02 | 4.900000e+02 |  400.0000000 |\n|  4.0000000 | Moderate, middle of the road | 5.640000e+02 | 5.590000e+02 |  559.0000000 | 5.640000e+02 | 5.490000e+02 | 5.820000e+02 | 6.940000e+02 | 319.00000000 | ⋯ | 4.970000e+02 | 1.683000e+03 | 7.400000e+02 | 7.460000e+02 | 7.130000e+02 | 9.890000e+02 | 1.032000e+03 | 8.550000e+02 | 1.377000e+03 | 1245.0000000 |\n|  5.0000000 | Slightly conservative        | 2.210000e+02 | 2.320000e+02 |  221.0000000 | 2.510000e+02 | 2.630000e+02 | 2.580000e+02 | 2.350000e+02 | 142.00000000 | ⋯ | 2.140000e+02 | 6.180000e+02 | 2.680000e+02 | 2.650000e+02 | 2.680000e+02 | 3.340000e+02 | 3.820000e+02 | 2.830000e+02 | 4.760000e+02 |  430.0000000 |\n|  6.0000000 | Conservative                 | 1.600000e+02 | 1.500000e+02 |  190.0000000 | 1.790000e+02 | 1.880000e+02 | 1.800000e+02 | 2.290000e+02 | 108.00000000 | ⋯ | 2.230000e+02 | 6.850000e+02 | 3.270000e+02 | 3.150000e+02 | 2.920000e+02 | 3.580000e+02 | 4.260000e+02 | 3.540000e+02 | 6.170000e+02 |  514.0000000 |\n|  7.0000000 | Extremely conservative       | 3.500000e+01 | 3.500000e+01 |   27.0000000 | 3.900000e+01 | 3.000000e+01 | 4.400000e+01 | 6.700000e+01 |  20.00000000 | ⋯ | 5.600000e+01 | 1.670000e+02 | 6.800000e+01 | 8.000000e+01 | 6.800000e+01 | 1.070000e+02 | 1.200000e+02 | 9.900000e+01 | 1.740000e+02 |  159.0000000 |\n| 28.0000000 | Total                        | 1.410000e+03 | 1.397000e+03 | 1401.0000000 | 1.453000e+03 | 1.435000e+03 | 1.429000e+03 | 1.739000e+03 | 770.00000000 | ⋯ | 1.309000e+03 | 4.333000e+03 | 1.933000e+03 | 1.973000e+03 | 1.874000e+03 | 2.449000e+03 | 2.756000e+03 | 2.247000e+03 | 3.964000e+03 | 3426.0000000 |\n|  0.2857143 | propextr                     | 4.042553e-02 | 5.798139e-02 |    0.0413990 | 5.230557e-02 | 3.623693e-02 | 5.598321e-02 | 6.612996e-02 |   0.04675325 | ⋯ | 7.792208e-02 | 7.062082e-02 | 7.087429e-02 | 7.906741e-02 | 7.950907e-02 | 8.207432e-02 | 9.288824e-02 | 9.835336e-02 | 9.611504e-02 |    0.1024518 |\n|  0.5714286 | propnearextr                 | 2.964539e-01 | 2.934860e-01 |    0.3104925 | 2.918100e-01 | 2.662021e-01 | 2.666200e-01 | 3.122484e-01 |   0.27402597 | ⋯ | 3.399542e-01 | 3.496423e-01 | 3.642007e-01 | 3.699949e-01 | 3.655283e-01 | 3.523887e-01 | 3.744557e-01 | 3.796173e-01 | 4.089304e-01 |    0.3943374 |\n\n",
            "text/latex": "A data.frame: 10 × 34\n\\begin{tabular}{lllllllllllllllllllll}\n Spectrum & Label & 1974 & 1975 & 1976 & 1977 & 1978 & 1980 & 1982 & 1983 & ⋯ & 2004 & 2006 & 2008 & 2010 & 2012 & 2014 & 2016 & 2018 & 2021 & 2022\\\\\n <dbl> & <chr> & <dbl> & <dbl> & <dbl> & <dbl> & <dbl> & <dbl> & <dbl> & <dbl> & ⋯ & <dbl> & <dbl> & <dbl> & <dbl> & <dbl> & <dbl> & <dbl> & <dbl> & <dbl> & <dbl>\\\\\n\\hline\n\t  1.0000000 & Extremely liberal            & 2.200000e+01 & 4.600000e+01 &   31.0000000 & 3.700000e+01 & 2.200000e+01 & 3.600000e+01 & 4.800000e+01 &  16.00000000 & ⋯ & 4.600000e+01 & 1.390000e+02 & 6.900000e+01 & 7.600000e+01 & 8.100000e+01 & 9.400000e+01 & 1.360000e+02 & 1.220000e+02 & 2.070000e+02 &  192.0000000\\\\\n\t  2.0000000 & Liberal                      & 2.010000e+02 & 1.790000e+02 &  187.0000000 & 1.690000e+02 & 1.420000e+02 & 1.210000e+02 & 1.990000e+02 &  67.00000000 & ⋯ & 1.200000e+02 & 5.240000e+02 & 2.400000e+02 & 2.590000e+02 & 2.440000e+02 & 3.040000e+02 & 3.500000e+02 & 2.780000e+02 & 6.230000e+02 &  486.0000000\\\\\n\t  3.0000000 & Slightly liberal             & 2.070000e+02 & 1.960000e+02 &  186.0000000 & 2.140000e+02 & 2.410000e+02 & 2.080000e+02 & 2.670000e+02 &  98.00000000 & ⋯ & 1.530000e+02 & 5.170000e+02 & 2.210000e+02 & 2.320000e+02 & 2.080000e+02 & 2.630000e+02 & 3.100000e+02 & 2.560000e+02 & 4.900000e+02 &  400.0000000\\\\\n\t  4.0000000 & Moderate, middle of the road & 5.640000e+02 & 5.590000e+02 &  559.0000000 & 5.640000e+02 & 5.490000e+02 & 5.820000e+02 & 6.940000e+02 & 319.00000000 & ⋯ & 4.970000e+02 & 1.683000e+03 & 7.400000e+02 & 7.460000e+02 & 7.130000e+02 & 9.890000e+02 & 1.032000e+03 & 8.550000e+02 & 1.377000e+03 & 1245.0000000\\\\\n\t  5.0000000 & Slightly conservative        & 2.210000e+02 & 2.320000e+02 &  221.0000000 & 2.510000e+02 & 2.630000e+02 & 2.580000e+02 & 2.350000e+02 & 142.00000000 & ⋯ & 2.140000e+02 & 6.180000e+02 & 2.680000e+02 & 2.650000e+02 & 2.680000e+02 & 3.340000e+02 & 3.820000e+02 & 2.830000e+02 & 4.760000e+02 &  430.0000000\\\\\n\t  6.0000000 & Conservative                 & 1.600000e+02 & 1.500000e+02 &  190.0000000 & 1.790000e+02 & 1.880000e+02 & 1.800000e+02 & 2.290000e+02 & 108.00000000 & ⋯ & 2.230000e+02 & 6.850000e+02 & 3.270000e+02 & 3.150000e+02 & 2.920000e+02 & 3.580000e+02 & 4.260000e+02 & 3.540000e+02 & 6.170000e+02 &  514.0000000\\\\\n\t  7.0000000 & Extremely conservative       & 3.500000e+01 & 3.500000e+01 &   27.0000000 & 3.900000e+01 & 3.000000e+01 & 4.400000e+01 & 6.700000e+01 &  20.00000000 & ⋯ & 5.600000e+01 & 1.670000e+02 & 6.800000e+01 & 8.000000e+01 & 6.800000e+01 & 1.070000e+02 & 1.200000e+02 & 9.900000e+01 & 1.740000e+02 &  159.0000000\\\\\n\t 28.0000000 & Total                        & 1.410000e+03 & 1.397000e+03 & 1401.0000000 & 1.453000e+03 & 1.435000e+03 & 1.429000e+03 & 1.739000e+03 & 770.00000000 & ⋯ & 1.309000e+03 & 4.333000e+03 & 1.933000e+03 & 1.973000e+03 & 1.874000e+03 & 2.449000e+03 & 2.756000e+03 & 2.247000e+03 & 3.964000e+03 & 3426.0000000\\\\\n\t  0.2857143 & propextr                     & 4.042553e-02 & 5.798139e-02 &    0.0413990 & 5.230557e-02 & 3.623693e-02 & 5.598321e-02 & 6.612996e-02 &   0.04675325 & ⋯ & 7.792208e-02 & 7.062082e-02 & 7.087429e-02 & 7.906741e-02 & 7.950907e-02 & 8.207432e-02 & 9.288824e-02 & 9.835336e-02 & 9.611504e-02 &    0.1024518\\\\\n\t  0.5714286 & propnearextr                 & 2.964539e-01 & 2.934860e-01 &    0.3104925 & 2.918100e-01 & 2.662021e-01 & 2.666200e-01 & 3.122484e-01 &   0.27402597 & ⋯ & 3.399542e-01 & 3.496423e-01 & 3.642007e-01 & 3.699949e-01 & 3.655283e-01 & 3.523887e-01 & 3.744557e-01 & 3.796173e-01 & 4.089304e-01 &    0.3943374\\\\\n\\end{tabular}\n",
            "text/plain": [
              "   Spectrum   Label                        1974         1975        \n",
              "1   1.0000000 Extremely liberal            2.200000e+01 4.600000e+01\n",
              "2   2.0000000 Liberal                      2.010000e+02 1.790000e+02\n",
              "3   3.0000000 Slightly liberal             2.070000e+02 1.960000e+02\n",
              "4   4.0000000 Moderate, middle of the road 5.640000e+02 5.590000e+02\n",
              "5   5.0000000 Slightly conservative        2.210000e+02 2.320000e+02\n",
              "6   6.0000000 Conservative                 1.600000e+02 1.500000e+02\n",
              "7   7.0000000 Extremely conservative       3.500000e+01 3.500000e+01\n",
              "8  28.0000000 Total                        1.410000e+03 1.397000e+03\n",
              "9   0.2857143 propextr                     4.042553e-02 5.798139e-02\n",
              "10  0.5714286 propnearextr                 2.964539e-01 2.934860e-01\n",
              "   1976         1977         1978         1980         1982        \n",
              "1    31.0000000 3.700000e+01 2.200000e+01 3.600000e+01 4.800000e+01\n",
              "2   187.0000000 1.690000e+02 1.420000e+02 1.210000e+02 1.990000e+02\n",
              "3   186.0000000 2.140000e+02 2.410000e+02 2.080000e+02 2.670000e+02\n",
              "4   559.0000000 5.640000e+02 5.490000e+02 5.820000e+02 6.940000e+02\n",
              "5   221.0000000 2.510000e+02 2.630000e+02 2.580000e+02 2.350000e+02\n",
              "6   190.0000000 1.790000e+02 1.880000e+02 1.800000e+02 2.290000e+02\n",
              "7    27.0000000 3.900000e+01 3.000000e+01 4.400000e+01 6.700000e+01\n",
              "8  1401.0000000 1.453000e+03 1.435000e+03 1.429000e+03 1.739000e+03\n",
              "9     0.0413990 5.230557e-02 3.623693e-02 5.598321e-02 6.612996e-02\n",
              "10    0.3104925 2.918100e-01 2.662021e-01 2.666200e-01 3.122484e-01\n",
              "   1983         ⋯ 2004         2006         2008         2010        \n",
              "1   16.00000000 ⋯ 4.600000e+01 1.390000e+02 6.900000e+01 7.600000e+01\n",
              "2   67.00000000 ⋯ 1.200000e+02 5.240000e+02 2.400000e+02 2.590000e+02\n",
              "3   98.00000000 ⋯ 1.530000e+02 5.170000e+02 2.210000e+02 2.320000e+02\n",
              "4  319.00000000 ⋯ 4.970000e+02 1.683000e+03 7.400000e+02 7.460000e+02\n",
              "5  142.00000000 ⋯ 2.140000e+02 6.180000e+02 2.680000e+02 2.650000e+02\n",
              "6  108.00000000 ⋯ 2.230000e+02 6.850000e+02 3.270000e+02 3.150000e+02\n",
              "7   20.00000000 ⋯ 5.600000e+01 1.670000e+02 6.800000e+01 8.000000e+01\n",
              "8  770.00000000 ⋯ 1.309000e+03 4.333000e+03 1.933000e+03 1.973000e+03\n",
              "9    0.04675325 ⋯ 7.792208e-02 7.062082e-02 7.087429e-02 7.906741e-02\n",
              "10   0.27402597 ⋯ 3.399542e-01 3.496423e-01 3.642007e-01 3.699949e-01\n",
              "   2012         2014         2016         2018         2021        \n",
              "1  8.100000e+01 9.400000e+01 1.360000e+02 1.220000e+02 2.070000e+02\n",
              "2  2.440000e+02 3.040000e+02 3.500000e+02 2.780000e+02 6.230000e+02\n",
              "3  2.080000e+02 2.630000e+02 3.100000e+02 2.560000e+02 4.900000e+02\n",
              "4  7.130000e+02 9.890000e+02 1.032000e+03 8.550000e+02 1.377000e+03\n",
              "5  2.680000e+02 3.340000e+02 3.820000e+02 2.830000e+02 4.760000e+02\n",
              "6  2.920000e+02 3.580000e+02 4.260000e+02 3.540000e+02 6.170000e+02\n",
              "7  6.800000e+01 1.070000e+02 1.200000e+02 9.900000e+01 1.740000e+02\n",
              "8  1.874000e+03 2.449000e+03 2.756000e+03 2.247000e+03 3.964000e+03\n",
              "9  7.950907e-02 8.207432e-02 9.288824e-02 9.835336e-02 9.611504e-02\n",
              "10 3.655283e-01 3.523887e-01 3.744557e-01 3.796173e-01 4.089304e-01\n",
              "   2022        \n",
              "1   192.0000000\n",
              "2   486.0000000\n",
              "3   400.0000000\n",
              "4  1245.0000000\n",
              "5   430.0000000\n",
              "6   514.0000000\n",
              "7   159.0000000\n",
              "8  3426.0000000\n",
              "9     0.1024518\n",
              "10    0.3943374"
            ]
          },
          "metadata": {}
        }
      ]
    },
    {
      "cell_type": "markdown",
      "source": [
        "@Yussuf we can make the graph below nicer by adjusting axes, legend etc."
      ],
      "metadata": {
        "id": "N9OqH3aAzqdf"
      }
    },
    {
      "cell_type": "code",
      "execution_count": 112,
      "metadata": {
        "id": "c_dWVJIjiul5",
        "colab": {
          "base_uri": "https://localhost:8080/",
          "height": 506
        },
        "outputId": "3a779a70-411c-4e53-dbb9-9815e67ed27b"
      },
      "outputs": [
        {
          "output_type": "stream",
          "name": "stderr",
          "text": [
            "Warning message in eval(expr, envir, enclos):\n",
            "“NAs introduced by coercion”\n",
            "Warning message:\n",
            "“\u001b[1m\u001b[22mRemoved 2 rows containing missing values (`geom_line()`).”\n"
          ]
        },
        {
          "output_type": "display_data",
          "data": {
            "text/plain": [
              "plot without title"
            ],
            "image/png": "[encoded data removed]"
          },
          "metadata": {
            "image/png": {
              "width": 420,
              "height": 420
            }
          }
        }
      ],
      "source": [
        "# Grouping variables to be able to show several lines\n",
        "\n",
        "linegraph <- dfpolarizationfinal %>%\n",
        "  filter(Label == \"propextr\" | Label == \"propnearextr\") %>%\n",
        "  pivot_longer(,cols = -2, names_to = \"Year\", values_to = \"Proportion\")\n",
        "#  linegraph\n",
        "\n",
        "linegraph$Year <- as.numeric(as.character(linegraph$Year))\n",
        "\n",
        "# Plotting graph\n",
        "linegraph %>%\n",
        "  ggplot(aes(x=Year , y = Proportion, group = Label , color = Label)) +\n",
        "  geom_line() +\n",
        "  labs(title = \"Evolution of extreme and near-extreme polarization\", x = \"Year\",\n",
        "        y = \"Proportion of people identifying as extreme or near-extreme\", fill= \"Type of digital media\") +\n",
        "  theme_minimal()\n"
      ]
    },
    {
      "cell_type": "code",
      "source": [
        "\n",
        "\n",
        "\n",
        "# linegraph variablef filters for dataset\n",
        "linegraph <- dfpolarizationfinal %>%\n",
        "  filter(Label == \"propextr\" | Label == \"propnearextr\") %>%\n",
        "  pivot_longer(, cols = -2, names_to = \"Year\", values_to = \"Proportion\")\n",
        "\n",
        "linegraph$Year <- as.numeric(as.character(linegraph$Year))\n",
        "\n",
        "# Plotting graph with enhanced aesthetics\n",
        "thegraph <- ggplot(linegraph, aes(x = Year, y = Proportion, group = Label, color = Label)) +\n",
        "  geom_line(size = 1.5, linetype = \"solid\") +\n",
        "  labs(title = \"The evolution of extreme & near-extreme political polarization\",\n",
        "       x = \"Year\",\n",
        "       y = \"The proportion of people identifying as extreme or near-extreme\",\n",
        "       color = \"Type of digital media\") +\n",
        "  scale_x_continuous(expand = c(0, 0)) +\n",
        "  scale_color_manual(values = c(\"propextr\" = \"#F08080\", \"propnearextr\" = \"#6495ED\")) +\n",
        "  theme_minimal()\n",
        "#Adjusting the legends and axis to make them more visually appealing\n",
        "  thegraph <- thegraph + theme(legend.position = \"right\",\n",
        "        legend.title = element_text(size = 12, face = \"bold\"),\n",
        "        legend.text = element_text(size = 10),\n",
        "        axis.text.x = element_text(color = \"black\", size = 14),\n",
        "        axis.text.y = element_text(color = \"black\", size = 14),\n",
        "        axis.title.x = element_text(color = \"black\", size = 16),\n",
        "        axis.title.y = element_text(color = \"black\", size = 16),\n",
        "        panel.grid.major = element_line(color = \"black\", linetype = \"solid\"),\n",
        "        panel.grid.minor = element_blank())\n",
        "    #Displaying the graph\n",
        "    thegraph\n",
        "\n"
      ],
      "metadata": {
        "colab": {
          "base_uri": "https://localhost:8080/",
          "height": 506
        },
        "id": "ROc7RBpe1qNQ",
        "outputId": "3e05d776-d405-47b3-d84f-738bc9fdf39e"
      },
      "execution_count": 113,
      "outputs": [
        {
          "output_type": "stream",
          "name": "stderr",
          "text": [
            "Warning message in eval(expr, envir, enclos):\n",
            "“NAs introduced by coercion”\n",
            "Warning message:\n",
            "“\u001b[1m\u001b[22mRemoved 2 rows containing missing values (`geom_line()`).”\n"
          ]
        },
        {
          "output_type": "display_data",
          "data": {
            "text/plain": [
              "plot without title"
            ],
            "image/png": "[encoded data removed]"
          },
          "metadata": {
            "image/png": {
              "width": 420,
              "height": 420
            }
          }
        }
      ]
    },
    {
      "cell_type": "markdown",
      "source": [
        "### 1.2.4. Difference in proportions of extremes and near extremes, 1974 vs 2022 & 2006 vs 2018"
      ],
      "metadata": {
        "id": "3V4__u6yRnFq"
      }
    },
    {
      "cell_type": "code",
      "source": [
        "# This is the difference between 1974 and 2022 for extremes - below for the same between 2006 and 2018\n",
        "\n",
        "# Proportion of extremes\n",
        "pextreme1974 <- dfpolarizationfinal[dfpolarizationfinal$Label == \"propextr\",'1974']\n",
        "pextreme1974\n",
        "pextreme2022 <- dfpolarizationfinal[dfpolarizationfinal$Label == \"propextr\",'2022']\n",
        "pextreme2022\n",
        "\n",
        "# Effect size & standard error\n",
        "diffextreme <- abs(pextreme1974-pextreme2022)\n",
        "SEextreme <- sqrt(pextreme1974*(1-pextreme1974)/1410 + pextreme2022*(1-pextreme2022)/3426)\n",
        "print(paste(\"For 1974-2022, Effect size is of\",diffextreme))\n",
        "print(paste(\"For 1974-2022, Standard error is of\",SEextreme))\n",
        "\n",
        "# Confidence interval\n",
        "\n",
        "lowCI <- diffextreme - 2*SEextreme\n",
        "highCI <- diffextreme + 2*SEextreme\n",
        "print(paste(\"Lower bound of confidence interval is of\",lowCI))\n",
        "print(paste(\"Higher bound of confidence interval is of\",highCI))\n",
        "\n",
        "# Z score & P value\n",
        "zscore <- diffextreme/SEextreme\n",
        "print(paste(\"Z score is of\",zscore))\n",
        "pvalue <- 2*pnorm(-zscore)\n",
        "print(paste(\"Pvalue is of \",pvalue))\n"
      ],
      "metadata": {
        "id": "gV8unbMtgAU3",
        "colab": {
          "base_uri": "https://localhost:8080/",
          "height": 156
        },
        "outputId": "bc762ebf-bd6f-47b4-c6d6-786f186b8b8a"
      },
      "execution_count": 114,
      "outputs": [
        {
          "output_type": "display_data",
          "data": {
            "text/html": [
              "0.0404255319148936"
            ],
            "text/markdown": "0.0404255319148936",
            "text/latex": "0.0404255319148936",
            "text/plain": [
              "[1] 0.04042553"
            ]
          },
          "metadata": {}
        },
        {
          "output_type": "display_data",
          "data": {
            "text/html": [
              "0.102451838879159"
            ],
            "text/markdown": "0.102451838879159",
            "text/latex": "0.102451838879159",
            "text/plain": [
              "[1] 0.1024518"
            ]
          },
          "metadata": {}
        },
        {
          "output_type": "stream",
          "name": "stdout",
          "text": [
            "[1] \"For 1974-2022, Effect size is of 0.0620263069642658\"\n",
            "[1] \"For 1974-2022, Standard error is of 0.00737238352867483\"\n",
            "[1] \"Lower bound of confidence interval is of 0.0472815399069161\"\n",
            "[1] \"Higher bound of confidence interval is of 0.0767710740216154\"\n",
            "[1] \"Z score is of 8.41333155322358\"\n",
            "[1] \"Pvalue is of  3.98526427191653e-17\"\n"
          ]
        }
      ]
    },
    {
      "cell_type": "code",
      "source": [
        "# We are looking at 2006 & 2018 (extremes only) in order to compare with the social media dataset timeframe, which spans from 2005 to 2019 (there are no records for 2005 and 2019 in the polarization dataset, so this is the closest)\n",
        "\n",
        "# Proportion of extremes\n",
        "pextreme2006 <- dfpolarizationfinal[dfpolarizationfinal$Label == \"propextr\",'2006']\n",
        "pextreme2006\n",
        "pextreme2018 <- dfpolarizationfinal[dfpolarizationfinal$Label == \"propextr\",'2018']\n",
        "pextreme2018\n",
        "\n",
        "# Effect size & standard error\n",
        "diffextreme <- abs(pextreme2006-pextreme2018)\n",
        "SEextreme <- sqrt(pextreme2006*(1-pextreme2006)/1410 + pextreme2018*(1-pextreme2018)/3426)\n",
        "print(paste(\"Effect size is of\",diffextreme))\n",
        "print(paste(\"Standard error is of\",SEextreme))\n",
        "\n",
        "# Confidence interval\n",
        "\n",
        "lowCI <- diffextreme - 2*SEextreme\n",
        "highCI <- diffextreme + 2*SEextreme\n",
        "print(paste(\"Lower bound of confidence interval is of\",lowCI))\n",
        "print(paste(\"Higher bound of confidence interval is of\",highCI))\n",
        "\n",
        "# Z score & P value\n",
        "zscore <- diffextreme/SEextreme\n",
        "print(paste(\"Z score is of\",zscore))\n",
        "pvalue <- 2*pnorm(-zscore)\n",
        "print(paste(\"Pvalue is of \",pvalue))\n"
      ],
      "metadata": {
        "colab": {
          "base_uri": "https://localhost:8080/",
          "height": 156
        },
        "outputId": "ae745ce6-a957-4ee5-b334-8809c2111085",
        "id": "0G-WYDO1w0VH"
      },
      "execution_count": 115,
      "outputs": [
        {
          "output_type": "display_data",
          "data": {
            "text/html": [
              "0.070620816985922"
            ],
            "text/markdown": "0.070620816985922",
            "text/latex": "0.070620816985922",
            "text/plain": [
              "[1] 0.07062082"
            ]
          },
          "metadata": {}
        },
        {
          "output_type": "display_data",
          "data": {
            "text/html": [
              "0.098353360035603"
            ],
            "text/markdown": "0.098353360035603",
            "text/latex": "0.098353360035603",
            "text/plain": [
              "[1] 0.09835336"
            ]
          },
          "metadata": {}
        },
        {
          "output_type": "stream",
          "name": "stdout",
          "text": [
            "[1] \"Effect size is of 0.027732543049681\"\n",
            "[1] \"Standard error is of 0.00851075791196855\"\n",
            "[1] \"Lower bound of confidence interval is of 0.0107110272257439\"\n",
            "[1] \"Higher bound of confidence interval is of 0.0447540588736181\"\n",
            "[1] \"Z score is of 3.25852801084627\"\n",
            "[1] \"Pvalue is of  0.00111991819887282\"\n"
          ]
        }
      ]
    },
    {
      "cell_type": "code",
      "source": [
        "# This is the difference between 1974 and 2022 for extremes AND near extremes - below for the same between 2006 and 2018\n",
        "\n",
        "# Proportion of extremes and near extremes\n",
        "pextreme1974 <- dfpolarizationfinal[dfpolarizationfinal$Label == \"propnearextr\",'1974']\n",
        "pextreme1974\n",
        "pextreme2022 <- dfpolarizationfinal[dfpolarizationfinal$Label == \"propnearextr\",'2022']\n",
        "pextreme2022\n",
        "\n",
        "# Effect size & standard error\n",
        "diffextreme <- abs(pextreme1974-pextreme2022)\n",
        "SEextreme <- sqrt(pextreme1974*(1-pextreme1974)/1410 + pextreme2022*(1-pextreme2022)/3426)\n",
        "print(paste(\"Effect size is of\",diffextreme))\n",
        "print(paste(\"Standard error is of\",SEextreme))\n",
        "\n",
        "# Confidence interval\n",
        "\n",
        "lowCI <- diffextreme - 2*SEextreme\n",
        "highCI <- diffextreme + 2*SEextreme\n",
        "print(paste(\"Lower bound of confidence interval is of\",lowCI))\n",
        "print(paste(\"Higher bound of confidence interval is of\",highCI))\n",
        "\n",
        "# Z score & P value\n",
        "zscore <- diffextreme/SEextreme\n",
        "print(paste(\"Z score is of\",zscore))\n",
        "pvalue <- 2*pnorm(-zscore)\n",
        "print(paste(\"Pvalue is of \",pvalue))"
      ],
      "metadata": {
        "colab": {
          "base_uri": "https://localhost:8080/",
          "height": 156
        },
        "id": "jGa78AZmx_43",
        "outputId": "fafd7222-5eba-4537-8d52-d00725c45271"
      },
      "execution_count": 116,
      "outputs": [
        {
          "output_type": "display_data",
          "data": {
            "text/html": [
              "0.29645390070922"
            ],
            "text/markdown": "0.29645390070922",
            "text/latex": "0.29645390070922",
            "text/plain": [
              "[1] 0.2964539"
            ]
          },
          "metadata": {}
        },
        {
          "output_type": "display_data",
          "data": {
            "text/html": [
              "0.394337419731465"
            ],
            "text/markdown": "0.394337419731465",
            "text/latex": "0.394337419731465",
            "text/plain": [
              "[1] 0.3943374"
            ]
          },
          "metadata": {}
        },
        {
          "output_type": "stream",
          "name": "stdout",
          "text": [
            "[1] \"Effect size is of 0.0978835190222454\"\n",
            "[1] \"Standard error is of 0.0147524195075699\"\n",
            "[1] \"Lower bound of confidence interval is of 0.0683786800071055\"\n",
            "[1] \"Higher bound of confidence interval is of 0.127388358037385\"\n",
            "[1] \"Z score is of 6.63508239933241\"\n",
            "[1] \"Pvalue is of  3.24321308049928e-11\"\n"
          ]
        }
      ]
    },
    {
      "cell_type": "code",
      "source": [
        "# We are looking at 2006 & 2018 (extremes AND near extremes) in order to compare with the social media dataset timeframe, which spans from 2005 to 2019 (there are no records for 2005 and 2019 in the polarization dataset, so this is the closest)\n",
        "\n",
        "# Proportion of extremes AND near extremes\n",
        "pextreme2006 <- dfpolarizationfinal[dfpolarizationfinal$Label == \"propnearextr\",'2006']\n",
        "pextreme2006\n",
        "pextreme2018 <- dfpolarizationfinal[dfpolarizationfinal$Label == \"propnearextr\",'2018']\n",
        "pextreme2018\n",
        "\n",
        "# Effect size & standard error\n",
        "diffextreme <- abs(pextreme2006-pextreme2018)\n",
        "SEextreme <- sqrt(pextreme2006*(1-pextreme2006)/1410 + pextreme2018*(1-pextreme2018)/3426)\n",
        "print(paste(\"Effect size is of\",diffextreme))\n",
        "print(paste(\"Standard error is of\",SEextreme))\n",
        "\n",
        "# Confidence interval\n",
        "\n",
        "lowCI <- diffextreme - 2*SEextreme\n",
        "highCI <- diffextreme + 2*SEextreme\n",
        "print(paste(\"Lower bound of confidence interval is of\",lowCI))\n",
        "print(paste(\"Higher bound of confidence interval is of\",highCI))\n",
        "\n",
        "# Z score & P value\n",
        "zscore <- diffextreme/SEextreme\n",
        "print(paste(\"Z score is of\",zscore))\n",
        "pvalue <- 2*pnorm(-zscore)\n",
        "print(paste(\"Pvalue is of \",pvalue))\n"
      ],
      "metadata": {
        "colab": {
          "base_uri": "https://localhost:8080/",
          "height": 156
        },
        "id": "lOzd_Ys5yL00",
        "outputId": "ae3be9ee-a6e6-4b10-edce-66db7fc01534"
      },
      "execution_count": 117,
      "outputs": [
        {
          "output_type": "display_data",
          "data": {
            "text/html": [
              "0.349642280175398"
            ],
            "text/markdown": "0.349642280175398",
            "text/latex": "0.349642280175398",
            "text/plain": [
              "[1] 0.3496423"
            ]
          },
          "metadata": {}
        },
        {
          "output_type": "display_data",
          "data": {
            "text/html": [
              "0.379617267467735"
            ],
            "text/markdown": "0.379617267467735",
            "text/latex": "0.379617267467735",
            "text/plain": [
              "[1] 0.3796173"
            ]
          },
          "metadata": {}
        },
        {
          "output_type": "stream",
          "name": "stdout",
          "text": [
            "[1] \"Effect size is of 0.0299749872923367\"\n",
            "[1] \"Standard error is of 0.0151661697564567\"\n",
            "[1] \"Lower bound of confidence interval is of -0.000357352220576833\"\n",
            "[1] \"Higher bound of confidence interval is of 0.0603073268052502\"\n",
            "[1] \"Z score is of 1.97643754314271\"\n",
            "[1] \"Pvalue is of  0.0481052429864934\"\n"
          ]
        }
      ]
    },
    {
      "cell_type": "markdown",
      "source": [
        "#### Summary table of difference in proportions (WIP)\n",
        "@Yussuf\n",
        "\n",
        "This would be great to have! Basically just a compilation of the numbers computed in previous code cells: difference in proportions, standard error, confidence intervals, z score and p value for each of the 4 combinations:\n",
        "*   1974 vs 2022 Extreme only\n",
        "*   1974 vs 2022 Extreme and near extreme\n",
        "*   2004 vs 2018 Extreme only\n",
        "*   2004 vs 2018 Extreme and near extreme"
      ],
      "metadata": {
        "id": "LV-w-DYJy8l7"
      }
    },
    {
      "cell_type": "code",
      "source": [
        "\n",
        "print('A Recap Table on the Difference in Proportions')\n",
        "# dataframe with the proportions data to be recapped\n",
        "proportions_data <- data.frame(\n",
        "  Comparison = c('1974 vs 2022 Extreme only', '1974 vs 2022 Extreme and near extreme', '2006 vs 2018 Extreme only', '2006 vs 2018 Extreme and near extreme'),\n",
        "  Effect_Size = c(0.062, 0.098, 0.028, 0.030),\n",
        "  Standard_Error = c(0.007, 0.015, 0.009, 0.015),\n",
        "  Lower_CI_Bound = c(0.047, 0.068, 0.011, -0.0004),\n",
        "  Upper_CI_Bound = c(0.077, 0.127, 0.045, 0.060),\n",
        "  Z_Score = c(8.413, 6.635, 3.259, 1.976),\n",
        "  P_Value = c(3.985e-17, 3.243e-11, 0.00112, 0.0481)\n",
        ")\n",
        "\n",
        "# Formatting number-based columns for better visualization\n",
        "data_formatted_table <- formattable(proportions_data, align = c(\"l\", \"r\", \"r\", \"r\", \"r\", \"r\", \"r\"), list(\n",
        "  `Effect Size` = color_tile(\"white\", \"blue\", proportions_data$Effect_Size),\n",
        "  `Standard Error` = color_tile(\"white\", \"blue\", proportions_data$Standard_Error),\n",
        "  `Lower CI Bound` = color_tile(\"white\", \"blue\", proportions_data$Lower_CI_Bound),\n",
        "  `Upper CI Bound` = color_tile(\"white\", \"blue\", proportions_data$Upper_CI_Bound),\n",
        "  `Z Score` = color_tile(\"white\", \"red\", proportions_data$Z_Score),\n",
        "  `P Value` = color_tile(\"white\", \"red\", proportions_data$P_Value)\n",
        "))\n",
        "\n",
        "# Making the column names more readable\n",
        "col_names <- c('Comparison', 'Effect Size', 'Standard Error', 'Lower CI Bound', 'Upper CI Bound', 'Z Score', 'P-value')\n",
        "colnames(data_formatted_table) <- col_names\n",
        "\n",
        "# Showing the table\n",
        "data_formatted_table\n"
      ],
      "metadata": {
        "id": "B4JTDWW0y8By",
        "colab": {
          "base_uri": "https://localhost:8080/",
          "height": 241
        },
        "outputId": "963e0cbb-b45e-4db5-f779-6cfa288ca907"
      },
      "execution_count": 118,
      "outputs": [
        {
          "output_type": "stream",
          "name": "stdout",
          "text": [
            "[1] \"A Recap Table on the Difference in Proportions\"\n"
          ]
        },
        {
          "output_type": "display_data",
          "data": {
            "text/html": [
              "<table class=\"dataframe\">\n",
              "<caption>A formattable: 4 × 7</caption>\n",
              "<thead>\n",
              "\t<tr><th scope=col>Comparison</th><th scope=col>Effect Size</th><th scope=col>Standard Error</th><th scope=col>Lower CI Bound</th><th scope=col>Upper CI Bound</th><th scope=col>Z Score</th><th scope=col>P-value</th></tr>\n",
              "\t<tr><th scope=col>&lt;chr&gt;</th><th scope=col>&lt;dbl&gt;</th><th scope=col>&lt;dbl&gt;</th><th scope=col>&lt;dbl&gt;</th><th scope=col>&lt;dbl&gt;</th><th scope=col>&lt;dbl&gt;</th><th scope=col>&lt;dbl&gt;</th></tr>\n",
              "</thead>\n",
              "<tbody>\n",
              "\t<tr><td>1974 vs 2022 Extreme only            </td><td>0.062</td><td>0.007</td><td> 0.0470</td><td>0.077</td><td>8.413</td><td>3.985e-17</td></tr>\n",
              "\t<tr><td>1974 vs 2022 Extreme and near extreme</td><td>0.098</td><td>0.015</td><td> 0.0680</td><td>0.127</td><td>6.635</td><td>3.243e-11</td></tr>\n",
              "\t<tr><td>2006 vs 2018 Extreme only            </td><td>0.028</td><td>0.009</td><td> 0.0110</td><td>0.045</td><td>3.259</td><td>1.120e-03</td></tr>\n",
              "\t<tr><td>2006 vs 2018 Extreme and near extreme</td><td>0.030</td><td>0.015</td><td>-0.0004</td><td>0.060</td><td>1.976</td><td>4.810e-02</td></tr>\n",
              "</tbody>\n",
              "</table>\n"
            ],
            "text/markdown": "\nA formattable: 4 × 7\n\n| Comparison &lt;chr&gt; | Effect Size &lt;dbl&gt; | Standard Error &lt;dbl&gt; | Lower CI Bound &lt;dbl&gt; | Upper CI Bound &lt;dbl&gt; | Z Score &lt;dbl&gt; | P-value &lt;dbl&gt; |\n|---|---|---|---|---|---|---|\n| 1974 vs 2022 Extreme only             | 0.062 | 0.007 |  0.0470 | 0.077 | 8.413 | 3.985e-17 |\n| 1974 vs 2022 Extreme and near extreme | 0.098 | 0.015 |  0.0680 | 0.127 | 6.635 | 3.243e-11 |\n| 2006 vs 2018 Extreme only             | 0.028 | 0.009 |  0.0110 | 0.045 | 3.259 | 1.120e-03 |\n| 2006 vs 2018 Extreme and near extreme | 0.030 | 0.015 | -0.0004 | 0.060 | 1.976 | 4.810e-02 |\n\n",
            "text/latex": "A formattable: 4 × 7\n\\begin{tabular}{lllllll}\n Comparison & Effect Size & Standard Error & Lower CI Bound & Upper CI Bound & Z Score & P-value\\\\\n <chr> & <dbl> & <dbl> & <dbl> & <dbl> & <dbl> & <dbl>\\\\\n\\hline\n\t 1974 vs 2022 Extreme only             & 0.062 & 0.007 &  0.0470 & 0.077 & 8.413 & 3.985e-17\\\\\n\t 1974 vs 2022 Extreme and near extreme & 0.098 & 0.015 &  0.0680 & 0.127 & 6.635 & 3.243e-11\\\\\n\t 2006 vs 2018 Extreme only             & 0.028 & 0.009 &  0.0110 & 0.045 & 3.259 & 1.120e-03\\\\\n\t 2006 vs 2018 Extreme and near extreme & 0.030 & 0.015 & -0.0004 & 0.060 & 1.976 & 4.810e-02\\\\\n\\end{tabular}\n",
            "text/plain": [
              "  Comparison                            Effect Size Standard Error\n",
              "1 1974 vs 2022 Extreme only             0.062       0.007         \n",
              "2 1974 vs 2022 Extreme and near extreme 0.098       0.015         \n",
              "3 2006 vs 2018 Extreme only             0.028       0.009         \n",
              "4 2006 vs 2018 Extreme and near extreme 0.030       0.015         \n",
              "  Lower CI Bound Upper CI Bound Z Score P-value  \n",
              "1  0.0470        0.077          8.413   3.985e-17\n",
              "2  0.0680        0.127          6.635   3.243e-11\n",
              "3  0.0110        0.045          3.259   1.120e-03\n",
              "4 -0.0004        0.060          1.976   4.810e-02"
            ]
          },
          "metadata": {}
        }
      ]
    },
    {
      "cell_type": "markdown",
      "source": [
        "### *Political affiliation dataset (TBD if will be included)*"
      ],
      "metadata": {
        "id": "JOf_6xdGO635"
      }
    },
    {
      "cell_type": "code",
      "execution_count": 119,
      "metadata": {
        "id": "WOjXX-qisD5n",
        "colab": {
          "base_uri": "https://localhost:8080/",
          "height": 286
        },
        "outputId": "04c2167e-4d5b-4034-fb53-2ba757f5dad8"
      },
      "outputs": [
        {
          "output_type": "display_data",
          "data": {
            "text/html": [
              "<table class=\"dataframe\">\n",
              "<caption>A data.frame: 6 × 7</caption>\n",
              "<thead>\n",
              "\t<tr><th></th><th scope=col>Among.white.registered.voters</th><th scope=col>X</th><th scope=col>X.1</th><th scope=col>X.2</th><th scope=col>X.3</th><th scope=col>X.4</th><th scope=col>X.5</th></tr>\n",
              "\t<tr><th></th><th scope=col>&lt;chr&gt;</th><th scope=col>&lt;chr&gt;</th><th scope=col>&lt;chr&gt;</th><th scope=col>&lt;chr&gt;</th><th scope=col>&lt;lgl&gt;</th><th scope=col>&lt;chr&gt;</th><th scope=col>&lt;chr&gt;</th></tr>\n",
              "</thead>\n",
              "<tbody>\n",
              "\t<tr><th scope=row>1</th><td>    </td><td>                      </td><td>        </td><td>           </td><td>NA</td><td>                                 </td><td>            </td></tr>\n",
              "\t<tr><th scope=row>2</th><td>    </td><td> % who identify as ...</td><td>        </td><td>           </td><td>NA</td><td>% who identify as/lean toward ...</td><td>            </td></tr>\n",
              "\t<tr><th scope=row>3</th><td>Year</td><td>Republican            </td><td>Democrat</td><td>Independent</td><td>NA</td><td>Rep/Lean Rep                     </td><td>Dem/Lean Dem</td></tr>\n",
              "\t<tr><th scope=row>4</th><td>1994</td><td>36                    </td><td>29      </td><td>31         </td><td>NA</td><td>51                               </td><td>39          </td></tr>\n",
              "\t<tr><th scope=row>5</th><td>1995</td><td>36                    </td><td>29      </td><td>31         </td><td>NA</td><td>52                               </td><td>41          </td></tr>\n",
              "\t<tr><th scope=row>6</th><td>1996</td><td>36                    </td><td>30      </td><td>30         </td><td>NA</td><td>49                               </td><td>44          </td></tr>\n",
              "</tbody>\n",
              "</table>\n"
            ],
            "text/markdown": "\nA data.frame: 6 × 7\n\n| <!--/--> | Among.white.registered.voters &lt;chr&gt; | X &lt;chr&gt; | X.1 &lt;chr&gt; | X.2 &lt;chr&gt; | X.3 &lt;lgl&gt; | X.4 &lt;chr&gt; | X.5 &lt;chr&gt; |\n|---|---|---|---|---|---|---|---|\n| 1 | <!----> | <!----> | <!----> | <!----> | NA | <!----> | <!----> |\n| 2 | <!----> |  % who identify as ... | <!----> | <!----> | NA | % who identify as/lean toward ... | <!----> |\n| 3 | Year | Republican             | Democrat | Independent | NA | Rep/Lean Rep                      | Dem/Lean Dem |\n| 4 | 1994 | 36                     | 29       | 31          | NA | 51                                | 39           |\n| 5 | 1995 | 36                     | 29       | 31          | NA | 52                                | 41           |\n| 6 | 1996 | 36                     | 30       | 30          | NA | 49                                | 44           |\n\n",
            "text/latex": "A data.frame: 6 × 7\n\\begin{tabular}{r|lllllll}\n  & Among.white.registered.voters & X & X.1 & X.2 & X.3 & X.4 & X.5\\\\\n  & <chr> & <chr> & <chr> & <chr> & <lgl> & <chr> & <chr>\\\\\n\\hline\n\t1 &      &                        &          &             & NA &                                   &             \\\\\n\t2 &      &  \\% who identify as ... &          &             & NA & \\% who identify as/lean toward ... &             \\\\\n\t3 & Year & Republican             & Democrat & Independent & NA & Rep/Lean Rep                      & Dem/Lean Dem\\\\\n\t4 & 1994 & 36                     & 29       & 31          & NA & 51                                & 39          \\\\\n\t5 & 1995 & 36                     & 29       & 31          & NA & 52                                & 41          \\\\\n\t6 & 1996 & 36                     & 30       & 30          & NA & 49                                & 44          \\\\\n\\end{tabular}\n",
            "text/plain": [
              "  Among.white.registered.voters X                      X.1      X.2         X.3\n",
              "1                                                                           NA \n",
              "2                                % who identify as ...                      NA \n",
              "3 Year                          Republican             Democrat Independent NA \n",
              "4 1994                          36                     29       31          NA \n",
              "5 1995                          36                     29       31          NA \n",
              "6 1996                          36                     30       30          NA \n",
              "  X.4                               X.5         \n",
              "1                                               \n",
              "2 % who identify as/lean toward ...             \n",
              "3 Rep/Lean Rep                      Dem/Lean Dem\n",
              "4 51                                39          \n",
              "5 52                                41          \n",
              "6 49                                44          "
            ]
          },
          "metadata": {}
        }
      ],
      "source": [
        "df_partyidentification <- read.csv('https://raw.githubusercontent.com/LucasLMS9/API201DFinalExercise/main/Party%20identification%20among%20registered%20voters%201994-2019%20(Detailed%20Tables)%20-%20White%2C%20non-Hispanic.csv')\n",
        "head(df_partyidentification)"
      ]
    },
    {
      "cell_type": "markdown",
      "metadata": {
        "id": "3PHRjTL8k9mh"
      },
      "source": [
        "# 2. Analysis of social media usage"
      ]
    },
    {
      "cell_type": "markdown",
      "source": [
        "## 2.1. Data cleaning"
      ],
      "metadata": {
        "id": "4e7ZOuoPQ3hT"
      }
    },
    {
      "cell_type": "code",
      "execution_count": 120,
      "metadata": {
        "id": "0SaTONqrk92o",
        "colab": {
          "base_uri": "https://localhost:8080/",
          "height": 286
        },
        "outputId": "74507492-1bff-48f0-ef87-d88664985903"
      },
      "outputs": [
        {
          "output_type": "display_data",
          "data": {
            "text/html": [
              "<table class=\"dataframe\">\n",
              "<caption>A data.frame: 6 × 4</caption>\n",
              "<thead>\n",
              "\t<tr><th></th><th scope=col>Entity</th><th scope=col>Code</th><th scope=col>Year</th><th scope=col>Technology.Diffusion..Comin.and.Hobijn..2004..and.others.</th></tr>\n",
              "\t<tr><th></th><th scope=col>&lt;chr&gt;</th><th scope=col>&lt;lgl&gt;</th><th scope=col>&lt;int&gt;</th><th scope=col>&lt;dbl&gt;</th></tr>\n",
              "</thead>\n",
              "<tbody>\n",
              "\t<tr><th scope=row>1</th><td>Amazon Prime users    </td><td>NA</td><td>2014</td><td>11.13</td></tr>\n",
              "\t<tr><th scope=row>2</th><td>Amazon Prime users    </td><td>NA</td><td>2015</td><td>17.09</td></tr>\n",
              "\t<tr><th scope=row>3</th><td>Amazon Prime users    </td><td>NA</td><td>2016</td><td>24.58</td></tr>\n",
              "\t<tr><th scope=row>4</th><td>Amazon Prime users    </td><td>NA</td><td>2017</td><td>32.51</td></tr>\n",
              "\t<tr><th scope=row>5</th><td>Amazon Prime users    </td><td>NA</td><td>2018</td><td>36.58</td></tr>\n",
              "\t<tr><th scope=row>6</th><td>Automatic transmission</td><td>NA</td><td>1910</td><td> 0.00</td></tr>\n",
              "</tbody>\n",
              "</table>\n"
            ],
            "text/markdown": "\nA data.frame: 6 × 4\n\n| <!--/--> | Entity &lt;chr&gt; | Code &lt;lgl&gt; | Year &lt;int&gt; | Technology.Diffusion..Comin.and.Hobijn..2004..and.others. &lt;dbl&gt; |\n|---|---|---|---|---|\n| 1 | Amazon Prime users     | NA | 2014 | 11.13 |\n| 2 | Amazon Prime users     | NA | 2015 | 17.09 |\n| 3 | Amazon Prime users     | NA | 2016 | 24.58 |\n| 4 | Amazon Prime users     | NA | 2017 | 32.51 |\n| 5 | Amazon Prime users     | NA | 2018 | 36.58 |\n| 6 | Automatic transmission | NA | 1910 |  0.00 |\n\n",
            "text/latex": "A data.frame: 6 × 4\n\\begin{tabular}{r|llll}\n  & Entity & Code & Year & Technology.Diffusion..Comin.and.Hobijn..2004..and.others.\\\\\n  & <chr> & <lgl> & <int> & <dbl>\\\\\n\\hline\n\t1 & Amazon Prime users     & NA & 2014 & 11.13\\\\\n\t2 & Amazon Prime users     & NA & 2015 & 17.09\\\\\n\t3 & Amazon Prime users     & NA & 2016 & 24.58\\\\\n\t4 & Amazon Prime users     & NA & 2017 & 32.51\\\\\n\t5 & Amazon Prime users     & NA & 2018 & 36.58\\\\\n\t6 & Automatic transmission & NA & 1910 &  0.00\\\\\n\\end{tabular}\n",
            "text/plain": [
              "  Entity                 Code Year\n",
              "1 Amazon Prime users     NA   2014\n",
              "2 Amazon Prime users     NA   2015\n",
              "3 Amazon Prime users     NA   2016\n",
              "4 Amazon Prime users     NA   2017\n",
              "5 Amazon Prime users     NA   2018\n",
              "6 Automatic transmission NA   1910\n",
              "  Technology.Diffusion..Comin.and.Hobijn..2004..and.others.\n",
              "1 11.13                                                    \n",
              "2 17.09                                                    \n",
              "3 24.58                                                    \n",
              "4 32.51                                                    \n",
              "5 36.58                                                    \n",
              "6  0.00                                                    "
            ]
          },
          "metadata": {}
        }
      ],
      "source": [
        "df_techusage <- read.csv('https://raw.githubusercontent.com/LucasLMS9/API201DFinalExercise/main/technology-adoption-by-households-in-the-united-states%20(1).csv')\n",
        "head(df_techusage)"
      ]
    },
    {
      "cell_type": "code",
      "execution_count": 121,
      "metadata": {
        "id": "vSQrOzwJihkh",
        "colab": {
          "base_uri": "https://localhost:8080/",
          "height": 286
        },
        "outputId": "a8dd54a7-67ec-4e0d-c098-1727d737e74b"
      },
      "outputs": [
        {
          "output_type": "display_data",
          "data": {
            "text/html": [
              "<table class=\"dataframe\">\n",
              "<caption>A data.frame: 6 × 4</caption>\n",
              "<thead>\n",
              "\t<tr><th></th><th scope=col>Entity</th><th scope=col>Code</th><th scope=col>Year</th><th scope=col>Usage</th></tr>\n",
              "\t<tr><th></th><th scope=col>&lt;chr&gt;</th><th scope=col>&lt;lgl&gt;</th><th scope=col>&lt;int&gt;</th><th scope=col>&lt;dbl&gt;</th></tr>\n",
              "</thead>\n",
              "<tbody>\n",
              "\t<tr><th scope=row>1</th><td>Amazon Prime users    </td><td>NA</td><td>2014</td><td>11.13</td></tr>\n",
              "\t<tr><th scope=row>2</th><td>Amazon Prime users    </td><td>NA</td><td>2015</td><td>17.09</td></tr>\n",
              "\t<tr><th scope=row>3</th><td>Amazon Prime users    </td><td>NA</td><td>2016</td><td>24.58</td></tr>\n",
              "\t<tr><th scope=row>4</th><td>Amazon Prime users    </td><td>NA</td><td>2017</td><td>32.51</td></tr>\n",
              "\t<tr><th scope=row>5</th><td>Amazon Prime users    </td><td>NA</td><td>2018</td><td>36.58</td></tr>\n",
              "\t<tr><th scope=row>6</th><td>Automatic transmission</td><td>NA</td><td>1910</td><td> 0.00</td></tr>\n",
              "</tbody>\n",
              "</table>\n"
            ],
            "text/markdown": "\nA data.frame: 6 × 4\n\n| <!--/--> | Entity &lt;chr&gt; | Code &lt;lgl&gt; | Year &lt;int&gt; | Usage &lt;dbl&gt; |\n|---|---|---|---|---|\n| 1 | Amazon Prime users     | NA | 2014 | 11.13 |\n| 2 | Amazon Prime users     | NA | 2015 | 17.09 |\n| 3 | Amazon Prime users     | NA | 2016 | 24.58 |\n| 4 | Amazon Prime users     | NA | 2017 | 32.51 |\n| 5 | Amazon Prime users     | NA | 2018 | 36.58 |\n| 6 | Automatic transmission | NA | 1910 |  0.00 |\n\n",
            "text/latex": "A data.frame: 6 × 4\n\\begin{tabular}{r|llll}\n  & Entity & Code & Year & Usage\\\\\n  & <chr> & <lgl> & <int> & <dbl>\\\\\n\\hline\n\t1 & Amazon Prime users     & NA & 2014 & 11.13\\\\\n\t2 & Amazon Prime users     & NA & 2015 & 17.09\\\\\n\t3 & Amazon Prime users     & NA & 2016 & 24.58\\\\\n\t4 & Amazon Prime users     & NA & 2017 & 32.51\\\\\n\t5 & Amazon Prime users     & NA & 2018 & 36.58\\\\\n\t6 & Automatic transmission & NA & 1910 &  0.00\\\\\n\\end{tabular}\n",
            "text/plain": [
              "  Entity                 Code Year Usage\n",
              "1 Amazon Prime users     NA   2014 11.13\n",
              "2 Amazon Prime users     NA   2015 17.09\n",
              "3 Amazon Prime users     NA   2016 24.58\n",
              "4 Amazon Prime users     NA   2017 32.51\n",
              "5 Amazon Prime users     NA   2018 36.58\n",
              "6 Automatic transmission NA   1910  0.00"
            ]
          },
          "metadata": {}
        }
      ],
      "source": [
        "#Rename variables in df_techusage\n",
        "\n",
        "colnames(df_techusage)[colnames(df_techusage) == \"Technology.Diffusion..Comin.and.Hobijn..2004..and.others.\"] <- \"Usage\"\n",
        "head(df_techusage)\n"
      ]
    },
    {
      "cell_type": "markdown",
      "source": [
        "## 2.2. Line chart of social media usage"
      ],
      "metadata": {
        "id": "0a5E510iQ59l"
      }
    },
    {
      "cell_type": "markdown",
      "source": [
        "@Yussuf we can also make this graph slightly cleaner, with colour scheme and more detailed description of 'usage'"
      ],
      "metadata": {
        "id": "Z1A7pejEz8Z0"
      }
    },
    {
      "cell_type": "code",
      "execution_count": 122,
      "metadata": {
        "id": "DtehStBwh1JK",
        "colab": {
          "base_uri": "https://localhost:8080/",
          "height": 437
        },
        "outputId": "09feaaa3-59f7-4ef9-f2b1-990b18ed9a3b"
      },
      "outputs": [
        {
          "output_type": "display_data",
          "data": {
            "text/plain": [
              "plot without title"
            ],
            "image/png": "[encoded data removed]"
          },
          "metadata": {
            "image/png": {
              "width": 420,
              "height": 420
            }
          }
        }
      ],
      "source": [
        "#Line chart of social media usage (Isabel's chart for P-Set 10)\n",
        "\n",
        "df_techusage <- df_techusage %>%\n",
        "  filter(Entity == \"Social media usage\")\n",
        "\n",
        "df_techusage %>%\n",
        "  ggplot(aes(x = Year, y = Usage)) +\n",
        "  geom_line() +\n",
        "    labs(title = \"Social media usage, 2005 - 2019\") +\n",
        "    scale_y_continuous(breaks = c(0,10,20,30,40,50,60,70,80,90,100)) +\n",
        "      scale_x_continuous(breaks = c(2005, 2007, 2009, 2011, 2013, 2015, 2017, 2019)) +\n",
        "      theme_bw()\n"
      ]
    },
    {
      "cell_type": "markdown",
      "source": [
        "## 2.3. Daily hours spent with digital media"
      ],
      "metadata": {
        "id": "2YgDDrFERApK"
      }
    },
    {
      "cell_type": "code",
      "execution_count": 123,
      "metadata": {
        "id": "wRxig17uhS6U",
        "colab": {
          "base_uri": "https://localhost:8080/",
          "height": 286
        },
        "outputId": "e6c54070-51f3-433d-a96a-52359f0cef8d"
      },
      "outputs": [
        {
          "output_type": "display_data",
          "data": {
            "text/html": [
              "<table class=\"dataframe\">\n",
              "<caption>A data.frame: 6 × 6</caption>\n",
              "<thead>\n",
              "\t<tr><th></th><th scope=col>Entity</th><th scope=col>Code</th><th scope=col>Year</th><th scope=col>Mobile..BOND.Internet.Trends..2019..</th><th scope=col>Desktop.Laptop..BOND.Internet.Trends..2019..</th><th scope=col>Other.Connected.Devices..BOND.Internet.Trends..2019..</th></tr>\n",
              "\t<tr><th></th><th scope=col>&lt;chr&gt;</th><th scope=col>&lt;chr&gt;</th><th scope=col>&lt;int&gt;</th><th scope=col>&lt;dbl&gt;</th><th scope=col>&lt;dbl&gt;</th><th scope=col>&lt;dbl&gt;</th></tr>\n",
              "</thead>\n",
              "<tbody>\n",
              "\t<tr><th scope=row>1</th><td>United States</td><td>USA</td><td>2008</td><td>0.3</td><td>2.2</td><td>0.2</td></tr>\n",
              "\t<tr><th scope=row>2</th><td>United States</td><td>USA</td><td>2009</td><td>0.3</td><td>2.3</td><td>0.3</td></tr>\n",
              "\t<tr><th scope=row>3</th><td>United States</td><td>USA</td><td>2010</td><td>0.4</td><td>2.4</td><td>0.4</td></tr>\n",
              "\t<tr><th scope=row>4</th><td>United States</td><td>USA</td><td>2011</td><td>0.8</td><td>2.6</td><td>0.3</td></tr>\n",
              "\t<tr><th scope=row>5</th><td>United States</td><td>USA</td><td>2012</td><td>1.6</td><td>2.5</td><td>0.3</td></tr>\n",
              "\t<tr><th scope=row>6</th><td>United States</td><td>USA</td><td>2013</td><td>2.3</td><td>2.3</td><td>0.3</td></tr>\n",
              "</tbody>\n",
              "</table>\n"
            ],
            "text/markdown": "\nA data.frame: 6 × 6\n\n| <!--/--> | Entity &lt;chr&gt; | Code &lt;chr&gt; | Year &lt;int&gt; | Mobile..BOND.Internet.Trends..2019.. &lt;dbl&gt; | Desktop.Laptop..BOND.Internet.Trends..2019.. &lt;dbl&gt; | Other.Connected.Devices..BOND.Internet.Trends..2019.. &lt;dbl&gt; |\n|---|---|---|---|---|---|---|\n| 1 | United States | USA | 2008 | 0.3 | 2.2 | 0.2 |\n| 2 | United States | USA | 2009 | 0.3 | 2.3 | 0.3 |\n| 3 | United States | USA | 2010 | 0.4 | 2.4 | 0.4 |\n| 4 | United States | USA | 2011 | 0.8 | 2.6 | 0.3 |\n| 5 | United States | USA | 2012 | 1.6 | 2.5 | 0.3 |\n| 6 | United States | USA | 2013 | 2.3 | 2.3 | 0.3 |\n\n",
            "text/latex": "A data.frame: 6 × 6\n\\begin{tabular}{r|llllll}\n  & Entity & Code & Year & Mobile..BOND.Internet.Trends..2019.. & Desktop.Laptop..BOND.Internet.Trends..2019.. & Other.Connected.Devices..BOND.Internet.Trends..2019..\\\\\n  & <chr> & <chr> & <int> & <dbl> & <dbl> & <dbl>\\\\\n\\hline\n\t1 & United States & USA & 2008 & 0.3 & 2.2 & 0.2\\\\\n\t2 & United States & USA & 2009 & 0.3 & 2.3 & 0.3\\\\\n\t3 & United States & USA & 2010 & 0.4 & 2.4 & 0.4\\\\\n\t4 & United States & USA & 2011 & 0.8 & 2.6 & 0.3\\\\\n\t5 & United States & USA & 2012 & 1.6 & 2.5 & 0.3\\\\\n\t6 & United States & USA & 2013 & 2.3 & 2.3 & 0.3\\\\\n\\end{tabular}\n",
            "text/plain": [
              "  Entity        Code Year Mobile..BOND.Internet.Trends..2019..\n",
              "1 United States USA  2008 0.3                                 \n",
              "2 United States USA  2009 0.3                                 \n",
              "3 United States USA  2010 0.4                                 \n",
              "4 United States USA  2011 0.8                                 \n",
              "5 United States USA  2012 1.6                                 \n",
              "6 United States USA  2013 2.3                                 \n",
              "  Desktop.Laptop..BOND.Internet.Trends..2019..\n",
              "1 2.2                                         \n",
              "2 2.3                                         \n",
              "3 2.4                                         \n",
              "4 2.6                                         \n",
              "5 2.5                                         \n",
              "6 2.3                                         \n",
              "  Other.Connected.Devices..BOND.Internet.Trends..2019..\n",
              "1 0.2                                                  \n",
              "2 0.3                                                  \n",
              "3 0.4                                                  \n",
              "4 0.3                                                  \n",
              "5 0.3                                                  \n",
              "6 0.3                                                  "
            ]
          },
          "metadata": {}
        }
      ],
      "source": [
        "# Importing dataset\n",
        "\n",
        "socialmediahours <- read.csv(\"https://raw.githubusercontent.com/LucasLMS9/API201DFinalExercise/main/daily-hours-spent-with-digital-media-per-adult-user.csv\")\n",
        "head(socialmediahours)\n"
      ]
    },
    {
      "cell_type": "code",
      "execution_count": 124,
      "metadata": {
        "id": "cdQuxOkgFZ58",
        "colab": {
          "base_uri": "https://localhost:8080/",
          "height": 286
        },
        "outputId": "89de488f-0966-45e0-ac5a-ac11e966215d"
      },
      "outputs": [
        {
          "output_type": "display_data",
          "data": {
            "text/html": [
              "<table class=\"dataframe\">\n",
              "<caption>A data.frame: 6 × 6</caption>\n",
              "<thead>\n",
              "\t<tr><th></th><th scope=col>Entity</th><th scope=col>Code</th><th scope=col>Year</th><th scope=col>HoursMobile</th><th scope=col>HoursDesktoplaptop</th><th scope=col>HoursOtherconnecteddevices</th></tr>\n",
              "\t<tr><th></th><th scope=col>&lt;chr&gt;</th><th scope=col>&lt;chr&gt;</th><th scope=col>&lt;int&gt;</th><th scope=col>&lt;dbl&gt;</th><th scope=col>&lt;dbl&gt;</th><th scope=col>&lt;dbl&gt;</th></tr>\n",
              "</thead>\n",
              "<tbody>\n",
              "\t<tr><th scope=row>1</th><td>United States</td><td>USA</td><td>2008</td><td>0.3</td><td>2.2</td><td>0.2</td></tr>\n",
              "\t<tr><th scope=row>2</th><td>United States</td><td>USA</td><td>2009</td><td>0.3</td><td>2.3</td><td>0.3</td></tr>\n",
              "\t<tr><th scope=row>3</th><td>United States</td><td>USA</td><td>2010</td><td>0.4</td><td>2.4</td><td>0.4</td></tr>\n",
              "\t<tr><th scope=row>4</th><td>United States</td><td>USA</td><td>2011</td><td>0.8</td><td>2.6</td><td>0.3</td></tr>\n",
              "\t<tr><th scope=row>5</th><td>United States</td><td>USA</td><td>2012</td><td>1.6</td><td>2.5</td><td>0.3</td></tr>\n",
              "\t<tr><th scope=row>6</th><td>United States</td><td>USA</td><td>2013</td><td>2.3</td><td>2.3</td><td>0.3</td></tr>\n",
              "</tbody>\n",
              "</table>\n"
            ],
            "text/markdown": "\nA data.frame: 6 × 6\n\n| <!--/--> | Entity &lt;chr&gt; | Code &lt;chr&gt; | Year &lt;int&gt; | HoursMobile &lt;dbl&gt; | HoursDesktoplaptop &lt;dbl&gt; | HoursOtherconnecteddevices &lt;dbl&gt; |\n|---|---|---|---|---|---|---|\n| 1 | United States | USA | 2008 | 0.3 | 2.2 | 0.2 |\n| 2 | United States | USA | 2009 | 0.3 | 2.3 | 0.3 |\n| 3 | United States | USA | 2010 | 0.4 | 2.4 | 0.4 |\n| 4 | United States | USA | 2011 | 0.8 | 2.6 | 0.3 |\n| 5 | United States | USA | 2012 | 1.6 | 2.5 | 0.3 |\n| 6 | United States | USA | 2013 | 2.3 | 2.3 | 0.3 |\n\n",
            "text/latex": "A data.frame: 6 × 6\n\\begin{tabular}{r|llllll}\n  & Entity & Code & Year & HoursMobile & HoursDesktoplaptop & HoursOtherconnecteddevices\\\\\n  & <chr> & <chr> & <int> & <dbl> & <dbl> & <dbl>\\\\\n\\hline\n\t1 & United States & USA & 2008 & 0.3 & 2.2 & 0.2\\\\\n\t2 & United States & USA & 2009 & 0.3 & 2.3 & 0.3\\\\\n\t3 & United States & USA & 2010 & 0.4 & 2.4 & 0.4\\\\\n\t4 & United States & USA & 2011 & 0.8 & 2.6 & 0.3\\\\\n\t5 & United States & USA & 2012 & 1.6 & 2.5 & 0.3\\\\\n\t6 & United States & USA & 2013 & 2.3 & 2.3 & 0.3\\\\\n\\end{tabular}\n",
            "text/plain": [
              "  Entity        Code Year HoursMobile HoursDesktoplaptop\n",
              "1 United States USA  2008 0.3         2.2               \n",
              "2 United States USA  2009 0.3         2.3               \n",
              "3 United States USA  2010 0.4         2.4               \n",
              "4 United States USA  2011 0.8         2.6               \n",
              "5 United States USA  2012 1.6         2.5               \n",
              "6 United States USA  2013 2.3         2.3               \n",
              "  HoursOtherconnecteddevices\n",
              "1 0.2                       \n",
              "2 0.3                       \n",
              "3 0.4                       \n",
              "4 0.3                       \n",
              "5 0.3                       \n",
              "6 0.3                       "
            ]
          },
          "metadata": {}
        }
      ],
      "source": [
        "# Rename columns\n",
        "\n",
        "colnames(socialmediahours)[colnames(socialmediahours) == \"Mobile..BOND.Internet.Trends..2019..\"] <- \"HoursMobile\"\n",
        "colnames(socialmediahours)[colnames(socialmediahours) == \"Desktop.Laptop..BOND.Internet.Trends..2019..\"] <- \"HoursDesktoplaptop\"\n",
        "colnames(socialmediahours)[colnames(socialmediahours) == \"Other.Connected.Devices..BOND.Internet.Trends..2019..\"] <- \"HoursOtherconnecteddevices\"\n",
        "head(socialmediahours)\n"
      ]
    },
    {
      "cell_type": "code",
      "execution_count": 125,
      "metadata": {
        "id": "8kfXm2rjG6Tx",
        "colab": {
          "base_uri": "https://localhost:8080/",
          "height": 437
        },
        "outputId": "e44b5cf5-8d0d-449f-c97f-1cadab306e7b"
      },
      "outputs": [
        {
          "output_type": "display_data",
          "data": {
            "text/plain": [
              "plot without title"
            ],
            "image/png": "[encoded data removed]"
          },
          "metadata": {
            "image/png": {
              "width": 420,
              "height": 420
            }
          }
        }
      ],
      "source": [
        "# Bar graph of hours spent on digital media\n",
        "\n",
        "# Grouping variables to be able to show a stacked bar chart\n",
        "\n",
        "stackeddigitalmedia <- pivot_longer(socialmediahours, cols = c(\"HoursMobile\",\"HoursDesktoplaptop\",\"HoursOtherconnecteddevices\"), names_to = \"Socialhours\", values_to = \"Count\")\n",
        "\n",
        "# Plotting graph\n",
        "stackeddigitalmedia %>%\n",
        "  ggplot(aes(x=Year, y = Count, fill = Socialhours)) +\n",
        "  geom_bar(position = \"stack\", stat = \"identity\") +\n",
        "  labs(title = \"Digital media usage (2008-2018)\", x = \"Year\", y = \"Number of hours\", fill= \"Type of digital media\") +\n",
        "  scale_x_continuous(breaks = c(2008, 2010, 2010, 2012, 2014, 2016, 2018)) +\n",
        "  scale_fill_manual(values = wes_palette(n=3,name=\"Moonrise3\"),\n",
        "                    labels = c(\"Desktop/laptop\", \"Mobile\", \"Other connected devices\")) +\n",
        "  theme_minimal()"
      ]
    },
    {
      "cell_type": "code",
      "execution_count": 126,
      "metadata": {
        "id": "B2Rbmn5vV4uq"
      },
      "outputs": [],
      "source": [
        "# Multiplication of hours spent on social media by the proportion of households using social media\n",
        "\n",
        "# maybe would require the matching between the two datasets to be done here\n"
      ]
    },
    {
      "cell_type": "markdown",
      "metadata": {
        "id": "Bm2dqozIlB7V"
      },
      "source": [
        "# 3. Regression analysis\n"
      ]
    },
    {
      "cell_type": "markdown",
      "source": [
        "## 3.1. Matching datasets & installing regression package"
      ],
      "metadata": {
        "id": "mMLi1CLqSRA8"
      }
    },
    {
      "cell_type": "code",
      "execution_count": 127,
      "metadata": {
        "id": "y05TR2jRlCQ1",
        "colab": {
          "base_uri": "https://localhost:8080/",
          "height": 1000
        },
        "outputId": "08a026a3-00df-429e-b6aa-eeb51ec571b3"
      },
      "outputs": [
        {
          "output_type": "display_data",
          "data": {
            "text/html": [
              "<table class=\"dataframe\">\n",
              "<caption>A data.frame: 10 × 34</caption>\n",
              "<thead>\n",
              "\t<tr><th scope=col>Spectrum</th><th scope=col>Label</th><th scope=col>1974</th><th scope=col>1975</th><th scope=col>1976</th><th scope=col>1977</th><th scope=col>1978</th><th scope=col>1980</th><th scope=col>1982</th><th scope=col>1983</th><th scope=col>⋯</th><th scope=col>2004</th><th scope=col>2006</th><th scope=col>2008</th><th scope=col>2010</th><th scope=col>2012</th><th scope=col>2014</th><th scope=col>2016</th><th scope=col>2018</th><th scope=col>2021</th><th scope=col>2022</th></tr>\n",
              "\t<tr><th scope=col>&lt;dbl&gt;</th><th scope=col>&lt;chr&gt;</th><th scope=col>&lt;dbl&gt;</th><th scope=col>&lt;dbl&gt;</th><th scope=col>&lt;dbl&gt;</th><th scope=col>&lt;dbl&gt;</th><th scope=col>&lt;dbl&gt;</th><th scope=col>&lt;dbl&gt;</th><th scope=col>&lt;dbl&gt;</th><th scope=col>&lt;dbl&gt;</th><th scope=col>⋯</th><th scope=col>&lt;dbl&gt;</th><th scope=col>&lt;dbl&gt;</th><th scope=col>&lt;dbl&gt;</th><th scope=col>&lt;dbl&gt;</th><th scope=col>&lt;dbl&gt;</th><th scope=col>&lt;dbl&gt;</th><th scope=col>&lt;dbl&gt;</th><th scope=col>&lt;dbl&gt;</th><th scope=col>&lt;dbl&gt;</th><th scope=col>&lt;dbl&gt;</th></tr>\n",
              "</thead>\n",
              "<tbody>\n",
              "\t<tr><td> 1.0000000</td><td>Extremely liberal           </td><td>2.200000e+01</td><td>4.600000e+01</td><td>  31.0000000</td><td>3.700000e+01</td><td>2.200000e+01</td><td>3.600000e+01</td><td>4.800000e+01</td><td> 16.00000000</td><td>⋯</td><td>4.600000e+01</td><td>1.390000e+02</td><td>6.900000e+01</td><td>7.600000e+01</td><td>8.100000e+01</td><td>9.400000e+01</td><td>1.360000e+02</td><td>1.220000e+02</td><td>2.070000e+02</td><td> 192.0000000</td></tr>\n",
              "\t<tr><td> 2.0000000</td><td>Liberal                     </td><td>2.010000e+02</td><td>1.790000e+02</td><td> 187.0000000</td><td>1.690000e+02</td><td>1.420000e+02</td><td>1.210000e+02</td><td>1.990000e+02</td><td> 67.00000000</td><td>⋯</td><td>1.200000e+02</td><td>5.240000e+02</td><td>2.400000e+02</td><td>2.590000e+02</td><td>2.440000e+02</td><td>3.040000e+02</td><td>3.500000e+02</td><td>2.780000e+02</td><td>6.230000e+02</td><td> 486.0000000</td></tr>\n",
              "\t<tr><td> 3.0000000</td><td>Slightly liberal            </td><td>2.070000e+02</td><td>1.960000e+02</td><td> 186.0000000</td><td>2.140000e+02</td><td>2.410000e+02</td><td>2.080000e+02</td><td>2.670000e+02</td><td> 98.00000000</td><td>⋯</td><td>1.530000e+02</td><td>5.170000e+02</td><td>2.210000e+02</td><td>2.320000e+02</td><td>2.080000e+02</td><td>2.630000e+02</td><td>3.100000e+02</td><td>2.560000e+02</td><td>4.900000e+02</td><td> 400.0000000</td></tr>\n",
              "\t<tr><td> 4.0000000</td><td>Moderate, middle of the road</td><td>5.640000e+02</td><td>5.590000e+02</td><td> 559.0000000</td><td>5.640000e+02</td><td>5.490000e+02</td><td>5.820000e+02</td><td>6.940000e+02</td><td>319.00000000</td><td>⋯</td><td>4.970000e+02</td><td>1.683000e+03</td><td>7.400000e+02</td><td>7.460000e+02</td><td>7.130000e+02</td><td>9.890000e+02</td><td>1.032000e+03</td><td>8.550000e+02</td><td>1.377000e+03</td><td>1245.0000000</td></tr>\n",
              "\t<tr><td> 5.0000000</td><td>Slightly conservative       </td><td>2.210000e+02</td><td>2.320000e+02</td><td> 221.0000000</td><td>2.510000e+02</td><td>2.630000e+02</td><td>2.580000e+02</td><td>2.350000e+02</td><td>142.00000000</td><td>⋯</td><td>2.140000e+02</td><td>6.180000e+02</td><td>2.680000e+02</td><td>2.650000e+02</td><td>2.680000e+02</td><td>3.340000e+02</td><td>3.820000e+02</td><td>2.830000e+02</td><td>4.760000e+02</td><td> 430.0000000</td></tr>\n",
              "\t<tr><td> 6.0000000</td><td>Conservative                </td><td>1.600000e+02</td><td>1.500000e+02</td><td> 190.0000000</td><td>1.790000e+02</td><td>1.880000e+02</td><td>1.800000e+02</td><td>2.290000e+02</td><td>108.00000000</td><td>⋯</td><td>2.230000e+02</td><td>6.850000e+02</td><td>3.270000e+02</td><td>3.150000e+02</td><td>2.920000e+02</td><td>3.580000e+02</td><td>4.260000e+02</td><td>3.540000e+02</td><td>6.170000e+02</td><td> 514.0000000</td></tr>\n",
              "\t<tr><td> 7.0000000</td><td>Extremely conservative      </td><td>3.500000e+01</td><td>3.500000e+01</td><td>  27.0000000</td><td>3.900000e+01</td><td>3.000000e+01</td><td>4.400000e+01</td><td>6.700000e+01</td><td> 20.00000000</td><td>⋯</td><td>5.600000e+01</td><td>1.670000e+02</td><td>6.800000e+01</td><td>8.000000e+01</td><td>6.800000e+01</td><td>1.070000e+02</td><td>1.200000e+02</td><td>9.900000e+01</td><td>1.740000e+02</td><td> 159.0000000</td></tr>\n",
              "\t<tr><td>28.0000000</td><td>Total                       </td><td>1.410000e+03</td><td>1.397000e+03</td><td>1401.0000000</td><td>1.453000e+03</td><td>1.435000e+03</td><td>1.429000e+03</td><td>1.739000e+03</td><td>770.00000000</td><td>⋯</td><td>1.309000e+03</td><td>4.333000e+03</td><td>1.933000e+03</td><td>1.973000e+03</td><td>1.874000e+03</td><td>2.449000e+03</td><td>2.756000e+03</td><td>2.247000e+03</td><td>3.964000e+03</td><td>3426.0000000</td></tr>\n",
              "\t<tr><td> 0.2857143</td><td>propextr                    </td><td>4.042553e-02</td><td>5.798139e-02</td><td>   0.0413990</td><td>5.230557e-02</td><td>3.623693e-02</td><td>5.598321e-02</td><td>6.612996e-02</td><td>  0.04675325</td><td>⋯</td><td>7.792208e-02</td><td>7.062082e-02</td><td>7.087429e-02</td><td>7.906741e-02</td><td>7.950907e-02</td><td>8.207432e-02</td><td>9.288824e-02</td><td>9.835336e-02</td><td>9.611504e-02</td><td>   0.1024518</td></tr>\n",
              "\t<tr><td> 0.5714286</td><td>propnearextr                </td><td>2.964539e-01</td><td>2.934860e-01</td><td>   0.3104925</td><td>2.918100e-01</td><td>2.662021e-01</td><td>2.666200e-01</td><td>3.122484e-01</td><td>  0.27402597</td><td>⋯</td><td>3.399542e-01</td><td>3.496423e-01</td><td>3.642007e-01</td><td>3.699949e-01</td><td>3.655283e-01</td><td>3.523887e-01</td><td>3.744557e-01</td><td>3.796173e-01</td><td>4.089304e-01</td><td>   0.3943374</td></tr>\n",
              "</tbody>\n",
              "</table>\n"
            ],
            "text/markdown": "\nA data.frame: 10 × 34\n\n| Spectrum &lt;dbl&gt; | Label &lt;chr&gt; | 1974 &lt;dbl&gt; | 1975 &lt;dbl&gt; | 1976 &lt;dbl&gt; | 1977 &lt;dbl&gt; | 1978 &lt;dbl&gt; | 1980 &lt;dbl&gt; | 1982 &lt;dbl&gt; | 1983 &lt;dbl&gt; | ⋯ ⋯ | 2004 &lt;dbl&gt; | 2006 &lt;dbl&gt; | 2008 &lt;dbl&gt; | 2010 &lt;dbl&gt; | 2012 &lt;dbl&gt; | 2014 &lt;dbl&gt; | 2016 &lt;dbl&gt; | 2018 &lt;dbl&gt; | 2021 &lt;dbl&gt; | 2022 &lt;dbl&gt; |\n|---|---|---|---|---|---|---|---|---|---|---|---|---|---|---|---|---|---|---|---|---|\n|  1.0000000 | Extremely liberal            | 2.200000e+01 | 4.600000e+01 |   31.0000000 | 3.700000e+01 | 2.200000e+01 | 3.600000e+01 | 4.800000e+01 |  16.00000000 | ⋯ | 4.600000e+01 | 1.390000e+02 | 6.900000e+01 | 7.600000e+01 | 8.100000e+01 | 9.400000e+01 | 1.360000e+02 | 1.220000e+02 | 2.070000e+02 |  192.0000000 |\n|  2.0000000 | Liberal                      | 2.010000e+02 | 1.790000e+02 |  187.0000000 | 1.690000e+02 | 1.420000e+02 | 1.210000e+02 | 1.990000e+02 |  67.00000000 | ⋯ | 1.200000e+02 | 5.240000e+02 | 2.400000e+02 | 2.590000e+02 | 2.440000e+02 | 3.040000e+02 | 3.500000e+02 | 2.780000e+02 | 6.230000e+02 |  486.0000000 |\n|  3.0000000 | Slightly liberal             | 2.070000e+02 | 1.960000e+02 |  186.0000000 | 2.140000e+02 | 2.410000e+02 | 2.080000e+02 | 2.670000e+02 |  98.00000000 | ⋯ | 1.530000e+02 | 5.170000e+02 | 2.210000e+02 | 2.320000e+02 | 2.080000e+02 | 2.630000e+02 | 3.100000e+02 | 2.560000e+02 | 4.900000e+02 |  400.0000000 |\n|  4.0000000 | Moderate, middle of the road | 5.640000e+02 | 5.590000e+02 |  559.0000000 | 5.640000e+02 | 5.490000e+02 | 5.820000e+02 | 6.940000e+02 | 319.00000000 | ⋯ | 4.970000e+02 | 1.683000e+03 | 7.400000e+02 | 7.460000e+02 | 7.130000e+02 | 9.890000e+02 | 1.032000e+03 | 8.550000e+02 | 1.377000e+03 | 1245.0000000 |\n|  5.0000000 | Slightly conservative        | 2.210000e+02 | 2.320000e+02 |  221.0000000 | 2.510000e+02 | 2.630000e+02 | 2.580000e+02 | 2.350000e+02 | 142.00000000 | ⋯ | 2.140000e+02 | 6.180000e+02 | 2.680000e+02 | 2.650000e+02 | 2.680000e+02 | 3.340000e+02 | 3.820000e+02 | 2.830000e+02 | 4.760000e+02 |  430.0000000 |\n|  6.0000000 | Conservative                 | 1.600000e+02 | 1.500000e+02 |  190.0000000 | 1.790000e+02 | 1.880000e+02 | 1.800000e+02 | 2.290000e+02 | 108.00000000 | ⋯ | 2.230000e+02 | 6.850000e+02 | 3.270000e+02 | 3.150000e+02 | 2.920000e+02 | 3.580000e+02 | 4.260000e+02 | 3.540000e+02 | 6.170000e+02 |  514.0000000 |\n|  7.0000000 | Extremely conservative       | 3.500000e+01 | 3.500000e+01 |   27.0000000 | 3.900000e+01 | 3.000000e+01 | 4.400000e+01 | 6.700000e+01 |  20.00000000 | ⋯ | 5.600000e+01 | 1.670000e+02 | 6.800000e+01 | 8.000000e+01 | 6.800000e+01 | 1.070000e+02 | 1.200000e+02 | 9.900000e+01 | 1.740000e+02 |  159.0000000 |\n| 28.0000000 | Total                        | 1.410000e+03 | 1.397000e+03 | 1401.0000000 | 1.453000e+03 | 1.435000e+03 | 1.429000e+03 | 1.739000e+03 | 770.00000000 | ⋯ | 1.309000e+03 | 4.333000e+03 | 1.933000e+03 | 1.973000e+03 | 1.874000e+03 | 2.449000e+03 | 2.756000e+03 | 2.247000e+03 | 3.964000e+03 | 3426.0000000 |\n|  0.2857143 | propextr                     | 4.042553e-02 | 5.798139e-02 |    0.0413990 | 5.230557e-02 | 3.623693e-02 | 5.598321e-02 | 6.612996e-02 |   0.04675325 | ⋯ | 7.792208e-02 | 7.062082e-02 | 7.087429e-02 | 7.906741e-02 | 7.950907e-02 | 8.207432e-02 | 9.288824e-02 | 9.835336e-02 | 9.611504e-02 |    0.1024518 |\n|  0.5714286 | propnearextr                 | 2.964539e-01 | 2.934860e-01 |    0.3104925 | 2.918100e-01 | 2.662021e-01 | 2.666200e-01 | 3.122484e-01 |   0.27402597 | ⋯ | 3.399542e-01 | 3.496423e-01 | 3.642007e-01 | 3.699949e-01 | 3.655283e-01 | 3.523887e-01 | 3.744557e-01 | 3.796173e-01 | 4.089304e-01 |    0.3943374 |\n\n",
            "text/latex": "A data.frame: 10 × 34\n\\begin{tabular}{lllllllllllllllllllll}\n Spectrum & Label & 1974 & 1975 & 1976 & 1977 & 1978 & 1980 & 1982 & 1983 & ⋯ & 2004 & 2006 & 2008 & 2010 & 2012 & 2014 & 2016 & 2018 & 2021 & 2022\\\\\n <dbl> & <chr> & <dbl> & <dbl> & <dbl> & <dbl> & <dbl> & <dbl> & <dbl> & <dbl> & ⋯ & <dbl> & <dbl> & <dbl> & <dbl> & <dbl> & <dbl> & <dbl> & <dbl> & <dbl> & <dbl>\\\\\n\\hline\n\t  1.0000000 & Extremely liberal            & 2.200000e+01 & 4.600000e+01 &   31.0000000 & 3.700000e+01 & 2.200000e+01 & 3.600000e+01 & 4.800000e+01 &  16.00000000 & ⋯ & 4.600000e+01 & 1.390000e+02 & 6.900000e+01 & 7.600000e+01 & 8.100000e+01 & 9.400000e+01 & 1.360000e+02 & 1.220000e+02 & 2.070000e+02 &  192.0000000\\\\\n\t  2.0000000 & Liberal                      & 2.010000e+02 & 1.790000e+02 &  187.0000000 & 1.690000e+02 & 1.420000e+02 & 1.210000e+02 & 1.990000e+02 &  67.00000000 & ⋯ & 1.200000e+02 & 5.240000e+02 & 2.400000e+02 & 2.590000e+02 & 2.440000e+02 & 3.040000e+02 & 3.500000e+02 & 2.780000e+02 & 6.230000e+02 &  486.0000000\\\\\n\t  3.0000000 & Slightly liberal             & 2.070000e+02 & 1.960000e+02 &  186.0000000 & 2.140000e+02 & 2.410000e+02 & 2.080000e+02 & 2.670000e+02 &  98.00000000 & ⋯ & 1.530000e+02 & 5.170000e+02 & 2.210000e+02 & 2.320000e+02 & 2.080000e+02 & 2.630000e+02 & 3.100000e+02 & 2.560000e+02 & 4.900000e+02 &  400.0000000\\\\\n\t  4.0000000 & Moderate, middle of the road & 5.640000e+02 & 5.590000e+02 &  559.0000000 & 5.640000e+02 & 5.490000e+02 & 5.820000e+02 & 6.940000e+02 & 319.00000000 & ⋯ & 4.970000e+02 & 1.683000e+03 & 7.400000e+02 & 7.460000e+02 & 7.130000e+02 & 9.890000e+02 & 1.032000e+03 & 8.550000e+02 & 1.377000e+03 & 1245.0000000\\\\\n\t  5.0000000 & Slightly conservative        & 2.210000e+02 & 2.320000e+02 &  221.0000000 & 2.510000e+02 & 2.630000e+02 & 2.580000e+02 & 2.350000e+02 & 142.00000000 & ⋯ & 2.140000e+02 & 6.180000e+02 & 2.680000e+02 & 2.650000e+02 & 2.680000e+02 & 3.340000e+02 & 3.820000e+02 & 2.830000e+02 & 4.760000e+02 &  430.0000000\\\\\n\t  6.0000000 & Conservative                 & 1.600000e+02 & 1.500000e+02 &  190.0000000 & 1.790000e+02 & 1.880000e+02 & 1.800000e+02 & 2.290000e+02 & 108.00000000 & ⋯ & 2.230000e+02 & 6.850000e+02 & 3.270000e+02 & 3.150000e+02 & 2.920000e+02 & 3.580000e+02 & 4.260000e+02 & 3.540000e+02 & 6.170000e+02 &  514.0000000\\\\\n\t  7.0000000 & Extremely conservative       & 3.500000e+01 & 3.500000e+01 &   27.0000000 & 3.900000e+01 & 3.000000e+01 & 4.400000e+01 & 6.700000e+01 &  20.00000000 & ⋯ & 5.600000e+01 & 1.670000e+02 & 6.800000e+01 & 8.000000e+01 & 6.800000e+01 & 1.070000e+02 & 1.200000e+02 & 9.900000e+01 & 1.740000e+02 &  159.0000000\\\\\n\t 28.0000000 & Total                        & 1.410000e+03 & 1.397000e+03 & 1401.0000000 & 1.453000e+03 & 1.435000e+03 & 1.429000e+03 & 1.739000e+03 & 770.00000000 & ⋯ & 1.309000e+03 & 4.333000e+03 & 1.933000e+03 & 1.973000e+03 & 1.874000e+03 & 2.449000e+03 & 2.756000e+03 & 2.247000e+03 & 3.964000e+03 & 3426.0000000\\\\\n\t  0.2857143 & propextr                     & 4.042553e-02 & 5.798139e-02 &    0.0413990 & 5.230557e-02 & 3.623693e-02 & 5.598321e-02 & 6.612996e-02 &   0.04675325 & ⋯ & 7.792208e-02 & 7.062082e-02 & 7.087429e-02 & 7.906741e-02 & 7.950907e-02 & 8.207432e-02 & 9.288824e-02 & 9.835336e-02 & 9.611504e-02 &    0.1024518\\\\\n\t  0.5714286 & propnearextr                 & 2.964539e-01 & 2.934860e-01 &    0.3104925 & 2.918100e-01 & 2.662021e-01 & 2.666200e-01 & 3.122484e-01 &   0.27402597 & ⋯ & 3.399542e-01 & 3.496423e-01 & 3.642007e-01 & 3.699949e-01 & 3.655283e-01 & 3.523887e-01 & 3.744557e-01 & 3.796173e-01 & 4.089304e-01 &    0.3943374\\\\\n\\end{tabular}\n",
            "text/plain": [
              "   Spectrum   Label                        1974         1975        \n",
              "1   1.0000000 Extremely liberal            2.200000e+01 4.600000e+01\n",
              "2   2.0000000 Liberal                      2.010000e+02 1.790000e+02\n",
              "3   3.0000000 Slightly liberal             2.070000e+02 1.960000e+02\n",
              "4   4.0000000 Moderate, middle of the road 5.640000e+02 5.590000e+02\n",
              "5   5.0000000 Slightly conservative        2.210000e+02 2.320000e+02\n",
              "6   6.0000000 Conservative                 1.600000e+02 1.500000e+02\n",
              "7   7.0000000 Extremely conservative       3.500000e+01 3.500000e+01\n",
              "8  28.0000000 Total                        1.410000e+03 1.397000e+03\n",
              "9   0.2857143 propextr                     4.042553e-02 5.798139e-02\n",
              "10  0.5714286 propnearextr                 2.964539e-01 2.934860e-01\n",
              "   1976         1977         1978         1980         1982        \n",
              "1    31.0000000 3.700000e+01 2.200000e+01 3.600000e+01 4.800000e+01\n",
              "2   187.0000000 1.690000e+02 1.420000e+02 1.210000e+02 1.990000e+02\n",
              "3   186.0000000 2.140000e+02 2.410000e+02 2.080000e+02 2.670000e+02\n",
              "4   559.0000000 5.640000e+02 5.490000e+02 5.820000e+02 6.940000e+02\n",
              "5   221.0000000 2.510000e+02 2.630000e+02 2.580000e+02 2.350000e+02\n",
              "6   190.0000000 1.790000e+02 1.880000e+02 1.800000e+02 2.290000e+02\n",
              "7    27.0000000 3.900000e+01 3.000000e+01 4.400000e+01 6.700000e+01\n",
              "8  1401.0000000 1.453000e+03 1.435000e+03 1.429000e+03 1.739000e+03\n",
              "9     0.0413990 5.230557e-02 3.623693e-02 5.598321e-02 6.612996e-02\n",
              "10    0.3104925 2.918100e-01 2.662021e-01 2.666200e-01 3.122484e-01\n",
              "   1983         ⋯ 2004         2006         2008         2010        \n",
              "1   16.00000000 ⋯ 4.600000e+01 1.390000e+02 6.900000e+01 7.600000e+01\n",
              "2   67.00000000 ⋯ 1.200000e+02 5.240000e+02 2.400000e+02 2.590000e+02\n",
              "3   98.00000000 ⋯ 1.530000e+02 5.170000e+02 2.210000e+02 2.320000e+02\n",
              "4  319.00000000 ⋯ 4.970000e+02 1.683000e+03 7.400000e+02 7.460000e+02\n",
              "5  142.00000000 ⋯ 2.140000e+02 6.180000e+02 2.680000e+02 2.650000e+02\n",
              "6  108.00000000 ⋯ 2.230000e+02 6.850000e+02 3.270000e+02 3.150000e+02\n",
              "7   20.00000000 ⋯ 5.600000e+01 1.670000e+02 6.800000e+01 8.000000e+01\n",
              "8  770.00000000 ⋯ 1.309000e+03 4.333000e+03 1.933000e+03 1.973000e+03\n",
              "9    0.04675325 ⋯ 7.792208e-02 7.062082e-02 7.087429e-02 7.906741e-02\n",
              "10   0.27402597 ⋯ 3.399542e-01 3.496423e-01 3.642007e-01 3.699949e-01\n",
              "   2012         2014         2016         2018         2021        \n",
              "1  8.100000e+01 9.400000e+01 1.360000e+02 1.220000e+02 2.070000e+02\n",
              "2  2.440000e+02 3.040000e+02 3.500000e+02 2.780000e+02 6.230000e+02\n",
              "3  2.080000e+02 2.630000e+02 3.100000e+02 2.560000e+02 4.900000e+02\n",
              "4  7.130000e+02 9.890000e+02 1.032000e+03 8.550000e+02 1.377000e+03\n",
              "5  2.680000e+02 3.340000e+02 3.820000e+02 2.830000e+02 4.760000e+02\n",
              "6  2.920000e+02 3.580000e+02 4.260000e+02 3.540000e+02 6.170000e+02\n",
              "7  6.800000e+01 1.070000e+02 1.200000e+02 9.900000e+01 1.740000e+02\n",
              "8  1.874000e+03 2.449000e+03 2.756000e+03 2.247000e+03 3.964000e+03\n",
              "9  7.950907e-02 8.207432e-02 9.288824e-02 9.835336e-02 9.611504e-02\n",
              "10 3.655283e-01 3.523887e-01 3.744557e-01 3.796173e-01 4.089304e-01\n",
              "   2022        \n",
              "1   192.0000000\n",
              "2   486.0000000\n",
              "3   400.0000000\n",
              "4  1245.0000000\n",
              "5   430.0000000\n",
              "6   514.0000000\n",
              "7   159.0000000\n",
              "8  3426.0000000\n",
              "9     0.1024518\n",
              "10    0.3943374"
            ]
          },
          "metadata": {}
        },
        {
          "output_type": "display_data",
          "data": {
            "text/html": [
              "<table class=\"dataframe\">\n",
              "<caption>A data.frame: 15 × 4</caption>\n",
              "<thead>\n",
              "\t<tr><th scope=col>Entity</th><th scope=col>Code</th><th scope=col>Year</th><th scope=col>Usage</th></tr>\n",
              "\t<tr><th scope=col>&lt;chr&gt;</th><th scope=col>&lt;lgl&gt;</th><th scope=col>&lt;int&gt;</th><th scope=col>&lt;dbl&gt;</th></tr>\n",
              "</thead>\n",
              "<tbody>\n",
              "\t<tr><td>Social media usage</td><td>NA</td><td>2005</td><td> 5</td></tr>\n",
              "\t<tr><td>Social media usage</td><td>NA</td><td>2006</td><td>11</td></tr>\n",
              "\t<tr><td>Social media usage</td><td>NA</td><td>2007</td><td>15</td></tr>\n",
              "\t<tr><td>Social media usage</td><td>NA</td><td>2008</td><td>21</td></tr>\n",
              "\t<tr><td>Social media usage</td><td>NA</td><td>2009</td><td>37</td></tr>\n",
              "\t<tr><td>Social media usage</td><td>NA</td><td>2010</td><td>48</td></tr>\n",
              "\t<tr><td>Social media usage</td><td>NA</td><td>2011</td><td>50</td></tr>\n",
              "\t<tr><td>Social media usage</td><td>NA</td><td>2012</td><td>59</td></tr>\n",
              "\t<tr><td>Social media usage</td><td>NA</td><td>2013</td><td>63</td></tr>\n",
              "\t<tr><td>Social media usage</td><td>NA</td><td>2014</td><td>62</td></tr>\n",
              "\t<tr><td>Social media usage</td><td>NA</td><td>2015</td><td>65</td></tr>\n",
              "\t<tr><td>Social media usage</td><td>NA</td><td>2016</td><td>69</td></tr>\n",
              "\t<tr><td>Social media usage</td><td>NA</td><td>2017</td><td>80</td></tr>\n",
              "\t<tr><td>Social media usage</td><td>NA</td><td>2018</td><td>77</td></tr>\n",
              "\t<tr><td>Social media usage</td><td>NA</td><td>2019</td><td>79</td></tr>\n",
              "</tbody>\n",
              "</table>\n"
            ],
            "text/markdown": "\nA data.frame: 15 × 4\n\n| Entity &lt;chr&gt; | Code &lt;lgl&gt; | Year &lt;int&gt; | Usage &lt;dbl&gt; |\n|---|---|---|---|\n| Social media usage | NA | 2005 |  5 |\n| Social media usage | NA | 2006 | 11 |\n| Social media usage | NA | 2007 | 15 |\n| Social media usage | NA | 2008 | 21 |\n| Social media usage | NA | 2009 | 37 |\n| Social media usage | NA | 2010 | 48 |\n| Social media usage | NA | 2011 | 50 |\n| Social media usage | NA | 2012 | 59 |\n| Social media usage | NA | 2013 | 63 |\n| Social media usage | NA | 2014 | 62 |\n| Social media usage | NA | 2015 | 65 |\n| Social media usage | NA | 2016 | 69 |\n| Social media usage | NA | 2017 | 80 |\n| Social media usage | NA | 2018 | 77 |\n| Social media usage | NA | 2019 | 79 |\n\n",
            "text/latex": "A data.frame: 15 × 4\n\\begin{tabular}{llll}\n Entity & Code & Year & Usage\\\\\n <chr> & <lgl> & <int> & <dbl>\\\\\n\\hline\n\t Social media usage & NA & 2005 &  5\\\\\n\t Social media usage & NA & 2006 & 11\\\\\n\t Social media usage & NA & 2007 & 15\\\\\n\t Social media usage & NA & 2008 & 21\\\\\n\t Social media usage & NA & 2009 & 37\\\\\n\t Social media usage & NA & 2010 & 48\\\\\n\t Social media usage & NA & 2011 & 50\\\\\n\t Social media usage & NA & 2012 & 59\\\\\n\t Social media usage & NA & 2013 & 63\\\\\n\t Social media usage & NA & 2014 & 62\\\\\n\t Social media usage & NA & 2015 & 65\\\\\n\t Social media usage & NA & 2016 & 69\\\\\n\t Social media usage & NA & 2017 & 80\\\\\n\t Social media usage & NA & 2018 & 77\\\\\n\t Social media usage & NA & 2019 & 79\\\\\n\\end{tabular}\n",
            "text/plain": [
              "   Entity             Code Year Usage\n",
              "1  Social media usage NA   2005  5   \n",
              "2  Social media usage NA   2006 11   \n",
              "3  Social media usage NA   2007 15   \n",
              "4  Social media usage NA   2008 21   \n",
              "5  Social media usage NA   2009 37   \n",
              "6  Social media usage NA   2010 48   \n",
              "7  Social media usage NA   2011 50   \n",
              "8  Social media usage NA   2012 59   \n",
              "9  Social media usage NA   2013 63   \n",
              "10 Social media usage NA   2014 62   \n",
              "11 Social media usage NA   2015 65   \n",
              "12 Social media usage NA   2016 69   \n",
              "13 Social media usage NA   2017 80   \n",
              "14 Social media usage NA   2018 77   \n",
              "15 Social media usage NA   2019 79   "
            ]
          },
          "metadata": {}
        }
      ],
      "source": [
        "# ignore: IM WORKING ON THIS ABOVE - Before matching the datasets we need to be able to add new rows that compute proportions (prop of people identifying as extreme, prop of people extreme or near extreme)\n",
        "\n",
        "dfpolarizationfinal\n",
        "df_techusage"
      ]
    },
    {
      "cell_type": "code",
      "source": [
        "# Filtering the datasets to match columns\n",
        "\n",
        "df_techusagewider <- pivot_wider(df_techusage, names_from = Year, values_from = Usage)\n",
        "df_techusagewider <- df_techusagewider %>%\n",
        "  select (-\"Code\") %>%\n",
        "  rename(\"Label\" = \"Entity\")\n",
        "df_techusagewider"
      ],
      "metadata": {
        "colab": {
          "base_uri": "https://localhost:8080/",
          "height": 129
        },
        "id": "9-IQ88cF0iBU",
        "outputId": "9db188fe-6826-4fdf-972c-21e56ce91a9b"
      },
      "execution_count": 128,
      "outputs": [
        {
          "output_type": "display_data",
          "data": {
            "text/html": [
              "<table class=\"dataframe\">\n",
              "<caption>A tibble: 1 × 16</caption>\n",
              "<thead>\n",
              "\t<tr><th scope=col>Label</th><th scope=col>2005</th><th scope=col>2006</th><th scope=col>2007</th><th scope=col>2008</th><th scope=col>2009</th><th scope=col>2010</th><th scope=col>2011</th><th scope=col>2012</th><th scope=col>2013</th><th scope=col>2014</th><th scope=col>2015</th><th scope=col>2016</th><th scope=col>2017</th><th scope=col>2018</th><th scope=col>2019</th></tr>\n",
              "\t<tr><th scope=col>&lt;chr&gt;</th><th scope=col>&lt;dbl&gt;</th><th scope=col>&lt;dbl&gt;</th><th scope=col>&lt;dbl&gt;</th><th scope=col>&lt;dbl&gt;</th><th scope=col>&lt;dbl&gt;</th><th scope=col>&lt;dbl&gt;</th><th scope=col>&lt;dbl&gt;</th><th scope=col>&lt;dbl&gt;</th><th scope=col>&lt;dbl&gt;</th><th scope=col>&lt;dbl&gt;</th><th scope=col>&lt;dbl&gt;</th><th scope=col>&lt;dbl&gt;</th><th scope=col>&lt;dbl&gt;</th><th scope=col>&lt;dbl&gt;</th><th scope=col>&lt;dbl&gt;</th></tr>\n",
              "</thead>\n",
              "<tbody>\n",
              "\t<tr><td>Social media usage</td><td>5</td><td>11</td><td>15</td><td>21</td><td>37</td><td>48</td><td>50</td><td>59</td><td>63</td><td>62</td><td>65</td><td>69</td><td>80</td><td>77</td><td>79</td></tr>\n",
              "</tbody>\n",
              "</table>\n"
            ],
            "text/markdown": "\nA tibble: 1 × 16\n\n| Label &lt;chr&gt; | 2005 &lt;dbl&gt; | 2006 &lt;dbl&gt; | 2007 &lt;dbl&gt; | 2008 &lt;dbl&gt; | 2009 &lt;dbl&gt; | 2010 &lt;dbl&gt; | 2011 &lt;dbl&gt; | 2012 &lt;dbl&gt; | 2013 &lt;dbl&gt; | 2014 &lt;dbl&gt; | 2015 &lt;dbl&gt; | 2016 &lt;dbl&gt; | 2017 &lt;dbl&gt; | 2018 &lt;dbl&gt; | 2019 &lt;dbl&gt; |\n|---|---|---|---|---|---|---|---|---|---|---|---|---|---|---|---|\n| Social media usage | 5 | 11 | 15 | 21 | 37 | 48 | 50 | 59 | 63 | 62 | 65 | 69 | 80 | 77 | 79 |\n\n",
            "text/latex": "A tibble: 1 × 16\n\\begin{tabular}{llllllllllllllll}\n Label & 2005 & 2006 & 2007 & 2008 & 2009 & 2010 & 2011 & 2012 & 2013 & 2014 & 2015 & 2016 & 2017 & 2018 & 2019\\\\\n <chr> & <dbl> & <dbl> & <dbl> & <dbl> & <dbl> & <dbl> & <dbl> & <dbl> & <dbl> & <dbl> & <dbl> & <dbl> & <dbl> & <dbl> & <dbl>\\\\\n\\hline\n\t Social media usage & 5 & 11 & 15 & 21 & 37 & 48 & 50 & 59 & 63 & 62 & 65 & 69 & 80 & 77 & 79\\\\\n\\end{tabular}\n",
            "text/plain": [
              "  Label              2005 2006 2007 2008 2009 2010 2011 2012 2013 2014 2015\n",
              "1 Social media usage 5    11   15   21   37   48   50   59   63   62   65  \n",
              "  2016 2017 2018 2019\n",
              "1 69   80   77   79  "
            ]
          },
          "metadata": {}
        }
      ]
    },
    {
      "cell_type": "markdown",
      "source": [
        "@ Yussuf. Joining datasets together below. For now only doing polarization and social media usage, but ideally we'd want to also add social media hours.\n",
        "We only have a match on years that are even (thats the data we have in the polarization dataset), even though there are more years in the social media dataset. Ideally we'd find to include the additional datapoints from the social media dataset in one way or another."
      ],
      "metadata": {
        "id": "XHj0JHMj5oMt"
      }
    },
    {
      "cell_type": "code",
      "source": [
        "# Joining datasets together using rbind\n",
        "\n",
        "combined_df <- bind_rows(dfpolarizationfinal,df_techusagewider)\n",
        "\n",
        "# Showing a filtered dataset only with columns that match\n",
        "\n",
        "combined_dftest <- combined_df %>%\n",
        "  select(where(~ all(complete.cases(.))))\n",
        "\n",
        "combined_dftest"
      ],
      "metadata": {
        "id": "zQBxsGmcNJgN",
        "colab": {
          "base_uri": "https://localhost:8080/",
          "height": 443
        },
        "outputId": "0e17fbde-0a8c-4a63-f267-913519fc8db3"
      },
      "execution_count": 129,
      "outputs": [
        {
          "output_type": "display_data",
          "data": {
            "text/html": [
              "<table class=\"dataframe\">\n",
              "<caption>A data.frame: 11 × 8</caption>\n",
              "<thead>\n",
              "\t<tr><th scope=col>Label</th><th scope=col>2006</th><th scope=col>2008</th><th scope=col>2010</th><th scope=col>2012</th><th scope=col>2014</th><th scope=col>2016</th><th scope=col>2018</th></tr>\n",
              "\t<tr><th scope=col>&lt;chr&gt;</th><th scope=col>&lt;dbl&gt;</th><th scope=col>&lt;dbl&gt;</th><th scope=col>&lt;dbl&gt;</th><th scope=col>&lt;dbl&gt;</th><th scope=col>&lt;dbl&gt;</th><th scope=col>&lt;dbl&gt;</th><th scope=col>&lt;dbl&gt;</th></tr>\n",
              "</thead>\n",
              "<tbody>\n",
              "\t<tr><td>Extremely liberal           </td><td>1.390000e+02</td><td>6.900000e+01</td><td>7.600000e+01</td><td>8.100000e+01</td><td>9.400000e+01</td><td>1.360000e+02</td><td>1.220000e+02</td></tr>\n",
              "\t<tr><td>Liberal                     </td><td>5.240000e+02</td><td>2.400000e+02</td><td>2.590000e+02</td><td>2.440000e+02</td><td>3.040000e+02</td><td>3.500000e+02</td><td>2.780000e+02</td></tr>\n",
              "\t<tr><td>Slightly liberal            </td><td>5.170000e+02</td><td>2.210000e+02</td><td>2.320000e+02</td><td>2.080000e+02</td><td>2.630000e+02</td><td>3.100000e+02</td><td>2.560000e+02</td></tr>\n",
              "\t<tr><td>Moderate, middle of the road</td><td>1.683000e+03</td><td>7.400000e+02</td><td>7.460000e+02</td><td>7.130000e+02</td><td>9.890000e+02</td><td>1.032000e+03</td><td>8.550000e+02</td></tr>\n",
              "\t<tr><td>Slightly conservative       </td><td>6.180000e+02</td><td>2.680000e+02</td><td>2.650000e+02</td><td>2.680000e+02</td><td>3.340000e+02</td><td>3.820000e+02</td><td>2.830000e+02</td></tr>\n",
              "\t<tr><td>Conservative                </td><td>6.850000e+02</td><td>3.270000e+02</td><td>3.150000e+02</td><td>2.920000e+02</td><td>3.580000e+02</td><td>4.260000e+02</td><td>3.540000e+02</td></tr>\n",
              "\t<tr><td>Extremely conservative      </td><td>1.670000e+02</td><td>6.800000e+01</td><td>8.000000e+01</td><td>6.800000e+01</td><td>1.070000e+02</td><td>1.200000e+02</td><td>9.900000e+01</td></tr>\n",
              "\t<tr><td>Total                       </td><td>4.333000e+03</td><td>1.933000e+03</td><td>1.973000e+03</td><td>1.874000e+03</td><td>2.449000e+03</td><td>2.756000e+03</td><td>2.247000e+03</td></tr>\n",
              "\t<tr><td>propextr                    </td><td>7.062082e-02</td><td>7.087429e-02</td><td>7.906741e-02</td><td>7.950907e-02</td><td>8.207432e-02</td><td>9.288824e-02</td><td>9.835336e-02</td></tr>\n",
              "\t<tr><td>propnearextr                </td><td>3.496423e-01</td><td>3.642007e-01</td><td>3.699949e-01</td><td>3.655283e-01</td><td>3.523887e-01</td><td>3.744557e-01</td><td>3.796173e-01</td></tr>\n",
              "\t<tr><td>Social media usage          </td><td>1.100000e+01</td><td>2.100000e+01</td><td>4.800000e+01</td><td>5.900000e+01</td><td>6.200000e+01</td><td>6.900000e+01</td><td>7.700000e+01</td></tr>\n",
              "</tbody>\n",
              "</table>\n"
            ],
            "text/markdown": "\nA data.frame: 11 × 8\n\n| Label &lt;chr&gt; | 2006 &lt;dbl&gt; | 2008 &lt;dbl&gt; | 2010 &lt;dbl&gt; | 2012 &lt;dbl&gt; | 2014 &lt;dbl&gt; | 2016 &lt;dbl&gt; | 2018 &lt;dbl&gt; |\n|---|---|---|---|---|---|---|---|\n| Extremely liberal            | 1.390000e+02 | 6.900000e+01 | 7.600000e+01 | 8.100000e+01 | 9.400000e+01 | 1.360000e+02 | 1.220000e+02 |\n| Liberal                      | 5.240000e+02 | 2.400000e+02 | 2.590000e+02 | 2.440000e+02 | 3.040000e+02 | 3.500000e+02 | 2.780000e+02 |\n| Slightly liberal             | 5.170000e+02 | 2.210000e+02 | 2.320000e+02 | 2.080000e+02 | 2.630000e+02 | 3.100000e+02 | 2.560000e+02 |\n| Moderate, middle of the road | 1.683000e+03 | 7.400000e+02 | 7.460000e+02 | 7.130000e+02 | 9.890000e+02 | 1.032000e+03 | 8.550000e+02 |\n| Slightly conservative        | 6.180000e+02 | 2.680000e+02 | 2.650000e+02 | 2.680000e+02 | 3.340000e+02 | 3.820000e+02 | 2.830000e+02 |\n| Conservative                 | 6.850000e+02 | 3.270000e+02 | 3.150000e+02 | 2.920000e+02 | 3.580000e+02 | 4.260000e+02 | 3.540000e+02 |\n| Extremely conservative       | 1.670000e+02 | 6.800000e+01 | 8.000000e+01 | 6.800000e+01 | 1.070000e+02 | 1.200000e+02 | 9.900000e+01 |\n| Total                        | 4.333000e+03 | 1.933000e+03 | 1.973000e+03 | 1.874000e+03 | 2.449000e+03 | 2.756000e+03 | 2.247000e+03 |\n| propextr                     | 7.062082e-02 | 7.087429e-02 | 7.906741e-02 | 7.950907e-02 | 8.207432e-02 | 9.288824e-02 | 9.835336e-02 |\n| propnearextr                 | 3.496423e-01 | 3.642007e-01 | 3.699949e-01 | 3.655283e-01 | 3.523887e-01 | 3.744557e-01 | 3.796173e-01 |\n| Social media usage           | 1.100000e+01 | 2.100000e+01 | 4.800000e+01 | 5.900000e+01 | 6.200000e+01 | 6.900000e+01 | 7.700000e+01 |\n\n",
            "text/latex": "A data.frame: 11 × 8\n\\begin{tabular}{llllllll}\n Label & 2006 & 2008 & 2010 & 2012 & 2014 & 2016 & 2018\\\\\n <chr> & <dbl> & <dbl> & <dbl> & <dbl> & <dbl> & <dbl> & <dbl>\\\\\n\\hline\n\t Extremely liberal            & 1.390000e+02 & 6.900000e+01 & 7.600000e+01 & 8.100000e+01 & 9.400000e+01 & 1.360000e+02 & 1.220000e+02\\\\\n\t Liberal                      & 5.240000e+02 & 2.400000e+02 & 2.590000e+02 & 2.440000e+02 & 3.040000e+02 & 3.500000e+02 & 2.780000e+02\\\\\n\t Slightly liberal             & 5.170000e+02 & 2.210000e+02 & 2.320000e+02 & 2.080000e+02 & 2.630000e+02 & 3.100000e+02 & 2.560000e+02\\\\\n\t Moderate, middle of the road & 1.683000e+03 & 7.400000e+02 & 7.460000e+02 & 7.130000e+02 & 9.890000e+02 & 1.032000e+03 & 8.550000e+02\\\\\n\t Slightly conservative        & 6.180000e+02 & 2.680000e+02 & 2.650000e+02 & 2.680000e+02 & 3.340000e+02 & 3.820000e+02 & 2.830000e+02\\\\\n\t Conservative                 & 6.850000e+02 & 3.270000e+02 & 3.150000e+02 & 2.920000e+02 & 3.580000e+02 & 4.260000e+02 & 3.540000e+02\\\\\n\t Extremely conservative       & 1.670000e+02 & 6.800000e+01 & 8.000000e+01 & 6.800000e+01 & 1.070000e+02 & 1.200000e+02 & 9.900000e+01\\\\\n\t Total                        & 4.333000e+03 & 1.933000e+03 & 1.973000e+03 & 1.874000e+03 & 2.449000e+03 & 2.756000e+03 & 2.247000e+03\\\\\n\t propextr                     & 7.062082e-02 & 7.087429e-02 & 7.906741e-02 & 7.950907e-02 & 8.207432e-02 & 9.288824e-02 & 9.835336e-02\\\\\n\t propnearextr                 & 3.496423e-01 & 3.642007e-01 & 3.699949e-01 & 3.655283e-01 & 3.523887e-01 & 3.744557e-01 & 3.796173e-01\\\\\n\t Social media usage           & 1.100000e+01 & 2.100000e+01 & 4.800000e+01 & 5.900000e+01 & 6.200000e+01 & 6.900000e+01 & 7.700000e+01\\\\\n\\end{tabular}\n",
            "text/plain": [
              "   Label                        2006         2008         2010        \n",
              "1  Extremely liberal            1.390000e+02 6.900000e+01 7.600000e+01\n",
              "2  Liberal                      5.240000e+02 2.400000e+02 2.590000e+02\n",
              "3  Slightly liberal             5.170000e+02 2.210000e+02 2.320000e+02\n",
              "4  Moderate, middle of the road 1.683000e+03 7.400000e+02 7.460000e+02\n",
              "5  Slightly conservative        6.180000e+02 2.680000e+02 2.650000e+02\n",
              "6  Conservative                 6.850000e+02 3.270000e+02 3.150000e+02\n",
              "7  Extremely conservative       1.670000e+02 6.800000e+01 8.000000e+01\n",
              "8  Total                        4.333000e+03 1.933000e+03 1.973000e+03\n",
              "9  propextr                     7.062082e-02 7.087429e-02 7.906741e-02\n",
              "10 propnearextr                 3.496423e-01 3.642007e-01 3.699949e-01\n",
              "11 Social media usage           1.100000e+01 2.100000e+01 4.800000e+01\n",
              "   2012         2014         2016         2018        \n",
              "1  8.100000e+01 9.400000e+01 1.360000e+02 1.220000e+02\n",
              "2  2.440000e+02 3.040000e+02 3.500000e+02 2.780000e+02\n",
              "3  2.080000e+02 2.630000e+02 3.100000e+02 2.560000e+02\n",
              "4  7.130000e+02 9.890000e+02 1.032000e+03 8.550000e+02\n",
              "5  2.680000e+02 3.340000e+02 3.820000e+02 2.830000e+02\n",
              "6  2.920000e+02 3.580000e+02 4.260000e+02 3.540000e+02\n",
              "7  6.800000e+01 1.070000e+02 1.200000e+02 9.900000e+01\n",
              "8  1.874000e+03 2.449000e+03 2.756000e+03 2.247000e+03\n",
              "9  7.950907e-02 8.207432e-02 9.288824e-02 9.835336e-02\n",
              "10 3.655283e-01 3.523887e-01 3.744557e-01 3.796173e-01\n",
              "11 5.900000e+01 6.200000e+01 6.900000e+01 7.700000e+01"
            ]
          },
          "metadata": {}
        }
      ]
    },
    {
      "cell_type": "code",
      "execution_count": 130,
      "metadata": {
        "id": "qolwkCsIlESU"
      },
      "outputs": [],
      "source": [
        "# installing the package for a simple logistic regression if not already included in ggplot & stuff (we can check later if there are other regressions we can run)\n",
        "\n"
      ]
    },
    {
      "cell_type": "markdown",
      "metadata": {
        "id": "TK4gjvRtlEHF"
      },
      "source": [
        "## 3.2. Linear regression on extreme polarization"
      ]
    },
    {
      "cell_type": "code",
      "source": [
        "# running a simple regression (the basic format is that you have a variable Y (for us its polarization) which is impacted by variables in X (for now we focus on one, which is social media use))\n",
        "# the format for the formula is usually smth like regression(y~x)\n",
        "# the clearest form of output is a graphic of the points (x on x axis, y on y axis), which also typically has a correlation coefficient associated to it, and an R^2 (the equivalent of standard error for regressions)\n",
        "\n",
        "\n",
        "# transposing since necessary for regression\n",
        "combined_dftest2 <- t(combined_dftest)\n",
        "# converting to dataframe\n",
        "combined_dftest2 <- as.data.frame(combined_dftest2,stringsAsFactors = FALSE)\n",
        "# changing the title of the columns to the first row\n",
        "colnames(combined_dftest2) <- combined_dftest2[1, ]\n",
        "combined_dftest2 <- combined_dftest2[-1, ]\n",
        "# changing data type to numeric since necessary for regression\n",
        "combined_dftest2 <- combined_dftest2 %>%\n",
        "  mutate(across(everything(), ~as.numeric(as.character(.))))\n",
        "# changing the name of the social media column since causing problems in the regression\n",
        "colnames(combined_dftest2)[colnames(combined_dftest2) == \"Social media usage\"] <- \"SocialMediaUsage\"\n",
        "combined_dftest2\n",
        "\n",
        "# Graph of social media usage vs proportion of extreme\n",
        "ggplot(combined_dftest2, aes(x = `Social media usage`, y = propextr)) +\n",
        "  geom_point() +\n",
        "  geom_smooth(method = \"lm\", se = FALSE, color = \"red\") +\n",
        "  labs(x = \"Social Media Usage\", y = \"PropExtr\", title = \"Linear Regression\")\n",
        "\n",
        "\n",
        "# running linear regression\n",
        "model <- lm(propextr ~ SocialMediaUsage, data = combined_dftest2)\n",
        "summary(model)\n",
        "\n",
        "\n"
      ],
      "metadata": {
        "colab": {
          "base_uri": "https://localhost:8080/",
          "height": 1000
        },
        "id": "663LBAY0qPnc",
        "outputId": "c0f8b2ff-a396-4010-a470-add37d0f264d"
      },
      "execution_count": 131,
      "outputs": [
        {
          "output_type": "display_data",
          "data": {
            "text/html": [
              "<table class=\"dataframe\">\n",
              "<caption>A data.frame: 7 × 11</caption>\n",
              "<thead>\n",
              "\t<tr><th></th><th scope=col>Extremely liberal</th><th scope=col>Liberal</th><th scope=col>Slightly liberal</th><th scope=col>Moderate, middle of the road</th><th scope=col>Slightly conservative</th><th scope=col>Conservative</th><th scope=col>Extremely conservative</th><th scope=col>Total</th><th scope=col>propextr</th><th scope=col>propnearextr</th><th scope=col>SocialMediaUsage</th></tr>\n",
              "\t<tr><th></th><th scope=col>&lt;dbl&gt;</th><th scope=col>&lt;dbl&gt;</th><th scope=col>&lt;dbl&gt;</th><th scope=col>&lt;dbl&gt;</th><th scope=col>&lt;dbl&gt;</th><th scope=col>&lt;dbl&gt;</th><th scope=col>&lt;dbl&gt;</th><th scope=col>&lt;dbl&gt;</th><th scope=col>&lt;dbl&gt;</th><th scope=col>&lt;dbl&gt;</th><th scope=col>&lt;dbl&gt;</th></tr>\n",
              "</thead>\n",
              "<tbody>\n",
              "\t<tr><th scope=row>2006</th><td>139</td><td>524</td><td>517</td><td>1683</td><td>618</td><td>685</td><td>167</td><td>4333</td><td>0.07062082</td><td>0.3496423</td><td>11</td></tr>\n",
              "\t<tr><th scope=row>2008</th><td> 69</td><td>240</td><td>221</td><td> 740</td><td>268</td><td>327</td><td> 68</td><td>1933</td><td>0.07087429</td><td>0.3642007</td><td>21</td></tr>\n",
              "\t<tr><th scope=row>2010</th><td> 76</td><td>259</td><td>232</td><td> 746</td><td>265</td><td>315</td><td> 80</td><td>1973</td><td>0.07906741</td><td>0.3699949</td><td>48</td></tr>\n",
              "\t<tr><th scope=row>2012</th><td> 81</td><td>244</td><td>208</td><td> 713</td><td>268</td><td>292</td><td> 68</td><td>1874</td><td>0.07950907</td><td>0.3655283</td><td>59</td></tr>\n",
              "\t<tr><th scope=row>2014</th><td> 94</td><td>304</td><td>263</td><td> 989</td><td>334</td><td>358</td><td>107</td><td>2449</td><td>0.08207432</td><td>0.3523887</td><td>62</td></tr>\n",
              "\t<tr><th scope=row>2016</th><td>136</td><td>350</td><td>310</td><td>1032</td><td>382</td><td>426</td><td>120</td><td>2756</td><td>0.09288824</td><td>0.3744557</td><td>69</td></tr>\n",
              "\t<tr><th scope=row>2018</th><td>122</td><td>278</td><td>256</td><td> 855</td><td>283</td><td>354</td><td> 99</td><td>2247</td><td>0.09835336</td><td>0.3796173</td><td>77</td></tr>\n",
              "</tbody>\n",
              "</table>\n"
            ],
            "text/markdown": "\nA data.frame: 7 × 11\n\n| <!--/--> | Extremely liberal &lt;dbl&gt; | Liberal &lt;dbl&gt; | Slightly liberal &lt;dbl&gt; | Moderate, middle of the road &lt;dbl&gt; | Slightly conservative &lt;dbl&gt; | Conservative &lt;dbl&gt; | Extremely conservative &lt;dbl&gt; | Total &lt;dbl&gt; | propextr &lt;dbl&gt; | propnearextr &lt;dbl&gt; | SocialMediaUsage &lt;dbl&gt; |\n|---|---|---|---|---|---|---|---|---|---|---|---|\n| 2006 | 139 | 524 | 517 | 1683 | 618 | 685 | 167 | 4333 | 0.07062082 | 0.3496423 | 11 |\n| 2008 |  69 | 240 | 221 |  740 | 268 | 327 |  68 | 1933 | 0.07087429 | 0.3642007 | 21 |\n| 2010 |  76 | 259 | 232 |  746 | 265 | 315 |  80 | 1973 | 0.07906741 | 0.3699949 | 48 |\n| 2012 |  81 | 244 | 208 |  713 | 268 | 292 |  68 | 1874 | 0.07950907 | 0.3655283 | 59 |\n| 2014 |  94 | 304 | 263 |  989 | 334 | 358 | 107 | 2449 | 0.08207432 | 0.3523887 | 62 |\n| 2016 | 136 | 350 | 310 | 1032 | 382 | 426 | 120 | 2756 | 0.09288824 | 0.3744557 | 69 |\n| 2018 | 122 | 278 | 256 |  855 | 283 | 354 |  99 | 2247 | 0.09835336 | 0.3796173 | 77 |\n\n",
            "text/latex": "A data.frame: 7 × 11\n\\begin{tabular}{r|lllllllllll}\n  & Extremely liberal & Liberal & Slightly liberal & Moderate, middle of the road & Slightly conservative & Conservative & Extremely conservative & Total & propextr & propnearextr & SocialMediaUsage\\\\\n  & <dbl> & <dbl> & <dbl> & <dbl> & <dbl> & <dbl> & <dbl> & <dbl> & <dbl> & <dbl> & <dbl>\\\\\n\\hline\n\t2006 & 139 & 524 & 517 & 1683 & 618 & 685 & 167 & 4333 & 0.07062082 & 0.3496423 & 11\\\\\n\t2008 &  69 & 240 & 221 &  740 & 268 & 327 &  68 & 1933 & 0.07087429 & 0.3642007 & 21\\\\\n\t2010 &  76 & 259 & 232 &  746 & 265 & 315 &  80 & 1973 & 0.07906741 & 0.3699949 & 48\\\\\n\t2012 &  81 & 244 & 208 &  713 & 268 & 292 &  68 & 1874 & 0.07950907 & 0.3655283 & 59\\\\\n\t2014 &  94 & 304 & 263 &  989 & 334 & 358 & 107 & 2449 & 0.08207432 & 0.3523887 & 62\\\\\n\t2016 & 136 & 350 & 310 & 1032 & 382 & 426 & 120 & 2756 & 0.09288824 & 0.3744557 & 69\\\\\n\t2018 & 122 & 278 & 256 &  855 & 283 & 354 &  99 & 2247 & 0.09835336 & 0.3796173 & 77\\\\\n\\end{tabular}\n",
            "text/plain": [
              "     Extremely liberal Liberal Slightly liberal Moderate, middle of the road\n",
              "2006 139               524     517              1683                        \n",
              "2008  69               240     221               740                        \n",
              "2010  76               259     232               746                        \n",
              "2012  81               244     208               713                        \n",
              "2014  94               304     263               989                        \n",
              "2016 136               350     310              1032                        \n",
              "2018 122               278     256               855                        \n",
              "     Slightly conservative Conservative Extremely conservative Total propextr  \n",
              "2006 618                   685          167                    4333  0.07062082\n",
              "2008 268                   327           68                    1933  0.07087429\n",
              "2010 265                   315           80                    1973  0.07906741\n",
              "2012 268                   292           68                    1874  0.07950907\n",
              "2014 334                   358          107                    2449  0.08207432\n",
              "2016 382                   426          120                    2756  0.09288824\n",
              "2018 283                   354           99                    2247  0.09835336\n",
              "     propnearextr SocialMediaUsage\n",
              "2006 0.3496423    11              \n",
              "2008 0.3642007    21              \n",
              "2010 0.3699949    48              \n",
              "2012 0.3655283    59              \n",
              "2014 0.3523887    62              \n",
              "2016 0.3744557    69              \n",
              "2018 0.3796173    77              "
            ]
          },
          "metadata": {}
        },
        {
          "output_type": "stream",
          "name": "stderr",
          "text": [
            "ERROR while rich displaying an object: \u001b[1m\u001b[33mError\u001b[39m in `geom_point()`:\u001b[22m\n",
            "\u001b[1m\u001b[22m\u001b[33m!\u001b[39m Problem while computing aesthetics.\n",
            "\u001b[36mℹ\u001b[39m Error occurred in the 1st layer.\n",
            "\u001b[1mCaused by error:\u001b[22m\n",
            "\u001b[33m!\u001b[39m object 'Social media usage' not found\n",
            "\n",
            "Traceback:\n",
            "1. tryCatch(withCallingHandlers({\n",
            " .     if (!mime %in% names(repr::mime2repr)) \n",
            " .         stop(\"No repr_* for mimetype \", mime, \" in repr::mime2repr\")\n",
            " .     rpr <- repr::mime2repr[[mime]](obj)\n",
            " .     if (is.null(rpr)) \n",
            " .         return(NULL)\n",
            " .     prepare_content(is.raw(rpr), rpr)\n",
            " . }, error = error_handler), error = outer_handler)\n",
            "2. tryCatchList(expr, classes, parentenv, handlers)\n",
            "3. tryCatchOne(expr, names, parentenv, handlers[[1L]])\n",
            "4. doTryCatch(return(expr), name, parentenv, handler)\n",
            "5. withCallingHandlers({\n",
            " .     if (!mime %in% names(repr::mime2repr)) \n",
            " .         stop(\"No repr_* for mimetype \", mime, \" in repr::mime2repr\")\n",
            " .     rpr <- repr::mime2repr[[mime]](obj)\n",
            " .     if (is.null(rpr)) \n",
            " .         return(NULL)\n",
            " .     prepare_content(is.raw(rpr), rpr)\n",
            " . }, error = error_handler)\n",
            "6. repr::mime2repr[[mime]](obj)\n",
            "7. repr_text.default(obj)\n",
            "8. paste(capture.output(print(obj)), collapse = \"\\n\")\n",
            "9. capture.output(print(obj))\n",
            "10. withVisible(...elt(i))\n",
            "11. print(obj)\n",
            "12. print.ggplot(obj)\n",
            "13. ggplot_build(x)\n",
            "14. ggplot_build.ggplot(x)\n",
            "15. by_layer(function(l, d) l$compute_aesthetics(d, plot), layers, \n",
            "  .     data, \"computing aesthetics\")\n",
            "16. try_fetch(for (i in seq_along(data)) {\n",
            "  .     out[[i]] <- f(l = layers[[i]], d = data[[i]])\n",
            "  . }, error = function(cnd) {\n",
            "  .     cli::cli_abort(c(\"Problem while {step}.\", i = \"Error occurred in the {ordinal(i)} layer.\"), \n",
            "  .         call = layers[[i]]$constructor, parent = cnd)\n",
            "  . })\n",
            "17. tryCatch(withCallingHandlers(expr, condition = function(cnd) {\n",
            "  .     {\n",
            "  .         .__handler_frame__. <- TRUE\n",
            "  .         .__setup_frame__. <- frame\n",
            "  .         if (inherits(cnd, \"message\")) {\n",
            "  .             except <- c(\"warning\", \"error\")\n",
            "  .         }\n",
            "  .         else if (inherits(cnd, \"warning\")) {\n",
            "  .             except <- \"error\"\n",
            "  .         }\n",
            "  .         else {\n",
            "  .             except <- \"\"\n",
            "  .         }\n",
            "  .     }\n",
            "  .     while (!is_null(cnd)) {\n",
            "  .         if (inherits(cnd, \"error\")) {\n",
            "  .             out <- handlers[[1L]](cnd)\n",
            "  .             if (!inherits(out, \"rlang_zap\")) \n",
            "  .                 throw(out)\n",
            "  .         }\n",
            "  .         inherit <- .subset2(.subset2(cnd, \"rlang\"), \"inherit\")\n",
            "  .         if (is_false(inherit)) {\n",
            "  .             return()\n",
            "  .         }\n",
            "  .         cnd <- .subset2(cnd, \"parent\")\n",
            "  .     }\n",
            "  . }), stackOverflowError = handlers[[1L]])\n",
            "18. tryCatchList(expr, classes, parentenv, handlers)\n",
            "19. tryCatchOne(expr, names, parentenv, handlers[[1L]])\n",
            "20. doTryCatch(return(expr), name, parentenv, handler)\n",
            "21. withCallingHandlers(expr, condition = function(cnd) {\n",
            "  .     {\n",
            "  .         .__handler_frame__. <- TRUE\n",
            "  .         .__setup_frame__. <- frame\n",
            "  .         if (inherits(cnd, \"message\")) {\n",
            "  .             except <- c(\"warning\", \"error\")\n",
            "  .         }\n",
            "  .         else if (inherits(cnd, \"warning\")) {\n",
            "  .             except <- \"error\"\n",
            "  .         }\n",
            "  .         else {\n",
            "  .             except <- \"\"\n",
            "  .         }\n",
            "  .     }\n",
            "  .     while (!is_null(cnd)) {\n",
            "  .         if (inherits(cnd, \"error\")) {\n",
            "  .             out <- handlers[[1L]](cnd)\n",
            "  .             if (!inherits(out, \"rlang_zap\")) \n",
            "  .                 throw(out)\n",
            "  .         }\n",
            "  .         inherit <- .subset2(.subset2(cnd, \"rlang\"), \"inherit\")\n",
            "  .         if (is_false(inherit)) {\n",
            "  .             return()\n",
            "  .         }\n",
            "  .         cnd <- .subset2(cnd, \"parent\")\n",
            "  .     }\n",
            "  . })\n",
            "22. f(l = layers[[i]], d = data[[i]])\n",
            "23. l$compute_aesthetics(d, plot)\n",
            "24. compute_aesthetics(..., self = self)\n",
            "25. scales_add_defaults(plot$scales, data, aesthetics, plot$plot_env)\n",
            "26. lapply(aesthetics[new_aesthetics], eval_tidy, data = data)\n",
            "27. FUN(X[[i]], ...)\n",
            "28. .handleSimpleError(function (cnd) \n",
            "  . {\n",
            "  .     {\n",
            "  .         .__handler_frame__. <- TRUE\n",
            "  .         .__setup_frame__. <- frame\n",
            "  .         if (inherits(cnd, \"message\")) {\n",
            "  .             except <- c(\"warning\", \"error\")\n",
            "  .         }\n",
            "  .         else if (inherits(cnd, \"warning\")) {\n",
            "  .             except <- \"error\"\n",
            "  .         }\n",
            "  .         else {\n",
            "  .             except <- \"\"\n",
            "  .         }\n",
            "  .     }\n",
            "  .     while (!is_null(cnd)) {\n",
            "  .         if (inherits(cnd, \"error\")) {\n",
            "  .             out <- handlers[[1L]](cnd)\n",
            "  .             if (!inherits(out, \"rlang_zap\")) \n",
            "  .                 throw(out)\n",
            "  .         }\n",
            "  .         inherit <- .subset2(.subset2(cnd, \"rlang\"), \"inherit\")\n",
            "  .         if (is_false(inherit)) {\n",
            "  .             return()\n",
            "  .         }\n",
            "  .         cnd <- .subset2(cnd, \"parent\")\n",
            "  .     }\n",
            "  . }, \"object 'Social media usage' not found\", base::quote(NULL))\n",
            "29. h(simpleError(msg, call))\n",
            "30. handlers[[1L]](cnd)\n",
            "31. cli::cli_abort(c(\"Problem while {step}.\", i = \"Error occurred in the {ordinal(i)} layer.\"), \n",
            "  .     call = layers[[i]]$constructor, parent = cnd)\n",
            "32. rlang::abort(message, ..., call = call, use_cli_format = TRUE, \n",
            "  .     .frame = .frame)\n",
            "33. signal_abort(cnd, .file)\n"
          ]
        },
        {
          "output_type": "display_data",
          "data": {
            "text/plain": [
              "\n",
              "Call:\n",
              "lm(formula = propextr ~ SocialMediaUsage, data = combined_dftest2)\n",
              "\n",
              "Residuals:\n",
              "      2006       2008       2010       2012       2014       2016       2018 \n",
              " 0.0033721 -0.0001761 -0.0022477 -0.0059879 -0.0045632  0.0035895  0.0060133 \n",
              "\n",
              "Coefficients:\n",
              "                  Estimate Std. Error t value Pr(>|t|)    \n",
              "(Intercept)      6.307e-02  4.451e-03  14.170 3.15e-05 ***\n",
              "SocialMediaUsage 3.802e-04  8.149e-05   4.665  0.00551 ** \n",
              "---\n",
              "Signif. codes:  0 ‘***’ 0.001 ‘**’ 0.01 ‘*’ 0.05 ‘.’ 0.1 ‘ ’ 1\n",
              "\n",
              "Residual standard error: 0.004943 on 5 degrees of freedom\n",
              "Multiple R-squared:  0.8132,\tAdjusted R-squared:  0.7758 \n",
              "F-statistic: 21.77 on 1 and 5 DF,  p-value: 0.005506\n"
            ]
          },
          "metadata": {}
        }
      ]
    },
    {
      "cell_type": "markdown",
      "metadata": {
        "id": "z1EYxsjXlG78"
      },
      "source": [
        "## 3.3. Linear regression on extreme + near-extreme polarization"
      ]
    },
    {
      "cell_type": "code",
      "source": [],
      "metadata": {
        "id": "Rd5tD-hNszUX"
      },
      "execution_count": 132,
      "outputs": []
    },
    {
      "cell_type": "markdown",
      "source": [
        "# Trash\n",
        "Old pieces of code to remove before submitting"
      ],
      "metadata": {
        "id": "obRra9C79x4O"
      }
    },
    {
      "cell_type": "code",
      "source": [
        "# OBSOLETE APPROACH TO ADDING ROWS IN THE POLARIZATION DATA, WAY TOO COMPLEX\n",
        "\n",
        "# More detailed version, which computes the difference in proportions for each - this is the part that we'd be able to do by adding rows to the full dataset\n",
        "\n",
        "diffprop <- cleaned_data\n",
        "\n",
        "#nsurveyedperyear <- colSums(diffprop[,3:30])\n",
        "#nsurveyedperyear\n",
        "\n",
        "# diffprop %>%\n",
        "#   bind_rows(summarise(., across(where(is.numeric), sum), across(where(is.character), ~'Total')))\n",
        "#   #bind_rows(summarise(., across(Label=\"Extremely liberal\"|Label ==\"Extremely conservative\",sum), across(where(is.character),~'propextrliberal')))\n",
        "\n",
        "dfpolarizationfinal <- diffprop %>%\n",
        "  bind_rows(summarise(., across(where(is.numeric), sum), across(where(is.character), ~'Total')))\n",
        "dfpolarizationfinal\n",
        "\n",
        "diffpropextr <- diffprop %>%\n",
        "  filter(Label == \"Extremely liberal\" | Label == \"Extremely conservative\") %>%\n",
        "  bind_rows(summarise(., across(where(is.numeric), sum), across(where(is.character), ~'propextr'))) %>%\n",
        "  filter(Label ==\"propextr\")\n",
        "diffpropextr\n",
        "\n",
        "diffpropnearextr <- diffprop %>%\n",
        "  filter(Label == \"Extremely liberal\" | Label == \"Extremely conservative\" | Label == \"Liberal\" | Label == \"Conservative\") %>%\n",
        "  bind_rows(summarise(., across(where(is.numeric), sum), across(where(is.character), ~'propnearextr'))) %>%\n",
        "  filter(Label ==\"propnearextr\")\n",
        "diffpropnearextr\n",
        "\n",
        "\n",
        "diffpropcombined <- rbind(dfpolarizationfinal,diffpropextr,diffpropnearextr)\n",
        "diffpropcombined\n",
        "\n",
        "# Calculate the proportion of the total population for\n",
        "\n",
        "diffpropcombined[9,-2] <- diffpropcombined[9,-2] / diffpropcombined[8,-2]\n",
        "diffpropcombined\n",
        "\n",
        "\n",
        "# rowpropextrlib <- diffprop[1,]\n",
        "# rowpropextrlib\n",
        "# rowpropextrcons <- diffprop[6,]\n",
        "# rowpropextrcons\n",
        "# rowpropextrsum <- rowpropextrcons + rowpropextrlib\n",
        "# rowpropextrsum\n",
        "\n",
        "\n"
      ],
      "metadata": {
        "id": "r3RYJHQ6RwYK",
        "colab": {
          "base_uri": "https://localhost:8080/",
          "height": 1000
        },
        "outputId": "108a17f7-3302-47bf-a408-f1df3fd936cf"
      },
      "execution_count": 133,
      "outputs": [
        {
          "output_type": "display_data",
          "data": {
            "text/html": [
              "<table class=\"dataframe\">\n",
              "<caption>A data.frame: 8 × 34</caption>\n",
              "<thead>\n",
              "\t<tr><th scope=col>Spectrum</th><th scope=col>Label</th><th scope=col>1974</th><th scope=col>1975</th><th scope=col>1976</th><th scope=col>1977</th><th scope=col>1978</th><th scope=col>1980</th><th scope=col>1982</th><th scope=col>1983</th><th scope=col>⋯</th><th scope=col>2004</th><th scope=col>2006</th><th scope=col>2008</th><th scope=col>2010</th><th scope=col>2012</th><th scope=col>2014</th><th scope=col>2016</th><th scope=col>2018</th><th scope=col>2021</th><th scope=col>2022</th></tr>\n",
              "\t<tr><th scope=col>&lt;int&gt;</th><th scope=col>&lt;chr&gt;</th><th scope=col>&lt;int&gt;</th><th scope=col>&lt;int&gt;</th><th scope=col>&lt;int&gt;</th><th scope=col>&lt;int&gt;</th><th scope=col>&lt;int&gt;</th><th scope=col>&lt;int&gt;</th><th scope=col>&lt;int&gt;</th><th scope=col>&lt;int&gt;</th><th scope=col>⋯</th><th scope=col>&lt;int&gt;</th><th scope=col>&lt;int&gt;</th><th scope=col>&lt;int&gt;</th><th scope=col>&lt;int&gt;</th><th scope=col>&lt;int&gt;</th><th scope=col>&lt;int&gt;</th><th scope=col>&lt;int&gt;</th><th scope=col>&lt;int&gt;</th><th scope=col>&lt;int&gt;</th><th scope=col>&lt;int&gt;</th></tr>\n",
              "</thead>\n",
              "<tbody>\n",
              "\t<tr><td> 1</td><td>Extremely liberal           </td><td>  22</td><td>  46</td><td>  31</td><td>  37</td><td>  22</td><td>  36</td><td>  48</td><td> 16</td><td>⋯</td><td>  46</td><td> 139</td><td>  69</td><td>  76</td><td>  81</td><td>  94</td><td> 136</td><td> 122</td><td> 207</td><td> 192</td></tr>\n",
              "\t<tr><td> 2</td><td>Liberal                     </td><td> 201</td><td> 179</td><td> 187</td><td> 169</td><td> 142</td><td> 121</td><td> 199</td><td> 67</td><td>⋯</td><td> 120</td><td> 524</td><td> 240</td><td> 259</td><td> 244</td><td> 304</td><td> 350</td><td> 278</td><td> 623</td><td> 486</td></tr>\n",
              "\t<tr><td> 3</td><td>Slightly liberal            </td><td> 207</td><td> 196</td><td> 186</td><td> 214</td><td> 241</td><td> 208</td><td> 267</td><td> 98</td><td>⋯</td><td> 153</td><td> 517</td><td> 221</td><td> 232</td><td> 208</td><td> 263</td><td> 310</td><td> 256</td><td> 490</td><td> 400</td></tr>\n",
              "\t<tr><td> 4</td><td>Moderate, middle of the road</td><td> 564</td><td> 559</td><td> 559</td><td> 564</td><td> 549</td><td> 582</td><td> 694</td><td>319</td><td>⋯</td><td> 497</td><td>1683</td><td> 740</td><td> 746</td><td> 713</td><td> 989</td><td>1032</td><td> 855</td><td>1377</td><td>1245</td></tr>\n",
              "\t<tr><td> 5</td><td>Slightly conservative       </td><td> 221</td><td> 232</td><td> 221</td><td> 251</td><td> 263</td><td> 258</td><td> 235</td><td>142</td><td>⋯</td><td> 214</td><td> 618</td><td> 268</td><td> 265</td><td> 268</td><td> 334</td><td> 382</td><td> 283</td><td> 476</td><td> 430</td></tr>\n",
              "\t<tr><td> 6</td><td>Conservative                </td><td> 160</td><td> 150</td><td> 190</td><td> 179</td><td> 188</td><td> 180</td><td> 229</td><td>108</td><td>⋯</td><td> 223</td><td> 685</td><td> 327</td><td> 315</td><td> 292</td><td> 358</td><td> 426</td><td> 354</td><td> 617</td><td> 514</td></tr>\n",
              "\t<tr><td> 7</td><td>Extremely conservative      </td><td>  35</td><td>  35</td><td>  27</td><td>  39</td><td>  30</td><td>  44</td><td>  67</td><td> 20</td><td>⋯</td><td>  56</td><td> 167</td><td>  68</td><td>  80</td><td>  68</td><td> 107</td><td> 120</td><td>  99</td><td> 174</td><td> 159</td></tr>\n",
              "\t<tr><td>28</td><td>Total                       </td><td>1410</td><td>1397</td><td>1401</td><td>1453</td><td>1435</td><td>1429</td><td>1739</td><td>770</td><td>⋯</td><td>1309</td><td>4333</td><td>1933</td><td>1973</td><td>1874</td><td>2449</td><td>2756</td><td>2247</td><td>3964</td><td>3426</td></tr>\n",
              "</tbody>\n",
              "</table>\n"
            ],
            "text/markdown": "\nA data.frame: 8 × 34\n\n| Spectrum &lt;int&gt; | Label &lt;chr&gt; | 1974 &lt;int&gt; | 1975 &lt;int&gt; | 1976 &lt;int&gt; | 1977 &lt;int&gt; | 1978 &lt;int&gt; | 1980 &lt;int&gt; | 1982 &lt;int&gt; | 1983 &lt;int&gt; | ⋯ ⋯ | 2004 &lt;int&gt; | 2006 &lt;int&gt; | 2008 &lt;int&gt; | 2010 &lt;int&gt; | 2012 &lt;int&gt; | 2014 &lt;int&gt; | 2016 &lt;int&gt; | 2018 &lt;int&gt; | 2021 &lt;int&gt; | 2022 &lt;int&gt; |\n|---|---|---|---|---|---|---|---|---|---|---|---|---|---|---|---|---|---|---|---|---|\n|  1 | Extremely liberal            |   22 |   46 |   31 |   37 |   22 |   36 |   48 |  16 | ⋯ |   46 |  139 |   69 |   76 |   81 |   94 |  136 |  122 |  207 |  192 |\n|  2 | Liberal                      |  201 |  179 |  187 |  169 |  142 |  121 |  199 |  67 | ⋯ |  120 |  524 |  240 |  259 |  244 |  304 |  350 |  278 |  623 |  486 |\n|  3 | Slightly liberal             |  207 |  196 |  186 |  214 |  241 |  208 |  267 |  98 | ⋯ |  153 |  517 |  221 |  232 |  208 |  263 |  310 |  256 |  490 |  400 |\n|  4 | Moderate, middle of the road |  564 |  559 |  559 |  564 |  549 |  582 |  694 | 319 | ⋯ |  497 | 1683 |  740 |  746 |  713 |  989 | 1032 |  855 | 1377 | 1245 |\n|  5 | Slightly conservative        |  221 |  232 |  221 |  251 |  263 |  258 |  235 | 142 | ⋯ |  214 |  618 |  268 |  265 |  268 |  334 |  382 |  283 |  476 |  430 |\n|  6 | Conservative                 |  160 |  150 |  190 |  179 |  188 |  180 |  229 | 108 | ⋯ |  223 |  685 |  327 |  315 |  292 |  358 |  426 |  354 |  617 |  514 |\n|  7 | Extremely conservative       |   35 |   35 |   27 |   39 |   30 |   44 |   67 |  20 | ⋯ |   56 |  167 |   68 |   80 |   68 |  107 |  120 |   99 |  174 |  159 |\n| 28 | Total                        | 1410 | 1397 | 1401 | 1453 | 1435 | 1429 | 1739 | 770 | ⋯ | 1309 | 4333 | 1933 | 1973 | 1874 | 2449 | 2756 | 2247 | 3964 | 3426 |\n\n",
            "text/latex": "A data.frame: 8 × 34\n\\begin{tabular}{lllllllllllllllllllll}\n Spectrum & Label & 1974 & 1975 & 1976 & 1977 & 1978 & 1980 & 1982 & 1983 & ⋯ & 2004 & 2006 & 2008 & 2010 & 2012 & 2014 & 2016 & 2018 & 2021 & 2022\\\\\n <int> & <chr> & <int> & <int> & <int> & <int> & <int> & <int> & <int> & <int> & ⋯ & <int> & <int> & <int> & <int> & <int> & <int> & <int> & <int> & <int> & <int>\\\\\n\\hline\n\t  1 & Extremely liberal            &   22 &   46 &   31 &   37 &   22 &   36 &   48 &  16 & ⋯ &   46 &  139 &   69 &   76 &   81 &   94 &  136 &  122 &  207 &  192\\\\\n\t  2 & Liberal                      &  201 &  179 &  187 &  169 &  142 &  121 &  199 &  67 & ⋯ &  120 &  524 &  240 &  259 &  244 &  304 &  350 &  278 &  623 &  486\\\\\n\t  3 & Slightly liberal             &  207 &  196 &  186 &  214 &  241 &  208 &  267 &  98 & ⋯ &  153 &  517 &  221 &  232 &  208 &  263 &  310 &  256 &  490 &  400\\\\\n\t  4 & Moderate, middle of the road &  564 &  559 &  559 &  564 &  549 &  582 &  694 & 319 & ⋯ &  497 & 1683 &  740 &  746 &  713 &  989 & 1032 &  855 & 1377 & 1245\\\\\n\t  5 & Slightly conservative        &  221 &  232 &  221 &  251 &  263 &  258 &  235 & 142 & ⋯ &  214 &  618 &  268 &  265 &  268 &  334 &  382 &  283 &  476 &  430\\\\\n\t  6 & Conservative                 &  160 &  150 &  190 &  179 &  188 &  180 &  229 & 108 & ⋯ &  223 &  685 &  327 &  315 &  292 &  358 &  426 &  354 &  617 &  514\\\\\n\t  7 & Extremely conservative       &   35 &   35 &   27 &   39 &   30 &   44 &   67 &  20 & ⋯ &   56 &  167 &   68 &   80 &   68 &  107 &  120 &   99 &  174 &  159\\\\\n\t 28 & Total                        & 1410 & 1397 & 1401 & 1453 & 1435 & 1429 & 1739 & 770 & ⋯ & 1309 & 4333 & 1933 & 1973 & 1874 & 2449 & 2756 & 2247 & 3964 & 3426\\\\\n\\end{tabular}\n",
            "text/plain": [
              "  Spectrum Label                        1974 1975 1976 1977 1978 1980 1982 1983\n",
              "1  1       Extremely liberal              22   46   31   37   22   36   48  16 \n",
              "2  2       Liberal                       201  179  187  169  142  121  199  67 \n",
              "3  3       Slightly liberal              207  196  186  214  241  208  267  98 \n",
              "4  4       Moderate, middle of the road  564  559  559  564  549  582  694 319 \n",
              "5  5       Slightly conservative         221  232  221  251  263  258  235 142 \n",
              "6  6       Conservative                  160  150  190  179  188  180  229 108 \n",
              "7  7       Extremely conservative         35   35   27   39   30   44   67  20 \n",
              "8 28       Total                        1410 1397 1401 1453 1435 1429 1739 770 \n",
              "  ⋯ 2004 2006 2008 2010 2012 2014 2016 2018 2021 2022\n",
              "1 ⋯   46  139   69   76   81   94  136  122  207  192\n",
              "2 ⋯  120  524  240  259  244  304  350  278  623  486\n",
              "3 ⋯  153  517  221  232  208  263  310  256  490  400\n",
              "4 ⋯  497 1683  740  746  713  989 1032  855 1377 1245\n",
              "5 ⋯  214  618  268  265  268  334  382  283  476  430\n",
              "6 ⋯  223  685  327  315  292  358  426  354  617  514\n",
              "7 ⋯   56  167   68   80   68  107  120   99  174  159\n",
              "8 ⋯ 1309 4333 1933 1973 1874 2449 2756 2247 3964 3426"
            ]
          },
          "metadata": {}
        },
        {
          "output_type": "display_data",
          "data": {
            "text/html": [
              "<table class=\"dataframe\">\n",
              "<caption>A data.frame: 1 × 34</caption>\n",
              "<thead>\n",
              "\t<tr><th scope=col>Spectrum</th><th scope=col>Label</th><th scope=col>1974</th><th scope=col>1975</th><th scope=col>1976</th><th scope=col>1977</th><th scope=col>1978</th><th scope=col>1980</th><th scope=col>1982</th><th scope=col>1983</th><th scope=col>⋯</th><th scope=col>2004</th><th scope=col>2006</th><th scope=col>2008</th><th scope=col>2010</th><th scope=col>2012</th><th scope=col>2014</th><th scope=col>2016</th><th scope=col>2018</th><th scope=col>2021</th><th scope=col>2022</th></tr>\n",
              "\t<tr><th scope=col>&lt;int&gt;</th><th scope=col>&lt;chr&gt;</th><th scope=col>&lt;int&gt;</th><th scope=col>&lt;int&gt;</th><th scope=col>&lt;int&gt;</th><th scope=col>&lt;int&gt;</th><th scope=col>&lt;int&gt;</th><th scope=col>&lt;int&gt;</th><th scope=col>&lt;int&gt;</th><th scope=col>&lt;int&gt;</th><th scope=col>⋯</th><th scope=col>&lt;int&gt;</th><th scope=col>&lt;int&gt;</th><th scope=col>&lt;int&gt;</th><th scope=col>&lt;int&gt;</th><th scope=col>&lt;int&gt;</th><th scope=col>&lt;int&gt;</th><th scope=col>&lt;int&gt;</th><th scope=col>&lt;int&gt;</th><th scope=col>&lt;int&gt;</th><th scope=col>&lt;int&gt;</th></tr>\n",
              "</thead>\n",
              "<tbody>\n",
              "\t<tr><td>8</td><td>propextr</td><td>57</td><td>81</td><td>58</td><td>76</td><td>52</td><td>80</td><td>115</td><td>36</td><td>⋯</td><td>102</td><td>306</td><td>137</td><td>156</td><td>149</td><td>201</td><td>256</td><td>221</td><td>381</td><td>351</td></tr>\n",
              "</tbody>\n",
              "</table>\n"
            ],
            "text/markdown": "\nA data.frame: 1 × 34\n\n| Spectrum &lt;int&gt; | Label &lt;chr&gt; | 1974 &lt;int&gt; | 1975 &lt;int&gt; | 1976 &lt;int&gt; | 1977 &lt;int&gt; | 1978 &lt;int&gt; | 1980 &lt;int&gt; | 1982 &lt;int&gt; | 1983 &lt;int&gt; | ⋯ ⋯ | 2004 &lt;int&gt; | 2006 &lt;int&gt; | 2008 &lt;int&gt; | 2010 &lt;int&gt; | 2012 &lt;int&gt; | 2014 &lt;int&gt; | 2016 &lt;int&gt; | 2018 &lt;int&gt; | 2021 &lt;int&gt; | 2022 &lt;int&gt; |\n|---|---|---|---|---|---|---|---|---|---|---|---|---|---|---|---|---|---|---|---|---|\n| 8 | propextr | 57 | 81 | 58 | 76 | 52 | 80 | 115 | 36 | ⋯ | 102 | 306 | 137 | 156 | 149 | 201 | 256 | 221 | 381 | 351 |\n\n",
            "text/latex": "A data.frame: 1 × 34\n\\begin{tabular}{lllllllllllllllllllll}\n Spectrum & Label & 1974 & 1975 & 1976 & 1977 & 1978 & 1980 & 1982 & 1983 & ⋯ & 2004 & 2006 & 2008 & 2010 & 2012 & 2014 & 2016 & 2018 & 2021 & 2022\\\\\n <int> & <chr> & <int> & <int> & <int> & <int> & <int> & <int> & <int> & <int> & ⋯ & <int> & <int> & <int> & <int> & <int> & <int> & <int> & <int> & <int> & <int>\\\\\n\\hline\n\t 8 & propextr & 57 & 81 & 58 & 76 & 52 & 80 & 115 & 36 & ⋯ & 102 & 306 & 137 & 156 & 149 & 201 & 256 & 221 & 381 & 351\\\\\n\\end{tabular}\n",
            "text/plain": [
              "  Spectrum Label    1974 1975 1976 1977 1978 1980 1982 1983 ⋯ 2004 2006 2008\n",
              "1 8        propextr 57   81   58   76   52   80   115  36   ⋯ 102  306  137 \n",
              "  2010 2012 2014 2016 2018 2021 2022\n",
              "1 156  149  201  256  221  381  351 "
            ]
          },
          "metadata": {}
        },
        {
          "output_type": "display_data",
          "data": {
            "text/html": [
              "<table class=\"dataframe\">\n",
              "<caption>A data.frame: 1 × 34</caption>\n",
              "<thead>\n",
              "\t<tr><th scope=col>Spectrum</th><th scope=col>Label</th><th scope=col>1974</th><th scope=col>1975</th><th scope=col>1976</th><th scope=col>1977</th><th scope=col>1978</th><th scope=col>1980</th><th scope=col>1982</th><th scope=col>1983</th><th scope=col>⋯</th><th scope=col>2004</th><th scope=col>2006</th><th scope=col>2008</th><th scope=col>2010</th><th scope=col>2012</th><th scope=col>2014</th><th scope=col>2016</th><th scope=col>2018</th><th scope=col>2021</th><th scope=col>2022</th></tr>\n",
              "\t<tr><th scope=col>&lt;int&gt;</th><th scope=col>&lt;chr&gt;</th><th scope=col>&lt;int&gt;</th><th scope=col>&lt;int&gt;</th><th scope=col>&lt;int&gt;</th><th scope=col>&lt;int&gt;</th><th scope=col>&lt;int&gt;</th><th scope=col>&lt;int&gt;</th><th scope=col>&lt;int&gt;</th><th scope=col>&lt;int&gt;</th><th scope=col>⋯</th><th scope=col>&lt;int&gt;</th><th scope=col>&lt;int&gt;</th><th scope=col>&lt;int&gt;</th><th scope=col>&lt;int&gt;</th><th scope=col>&lt;int&gt;</th><th scope=col>&lt;int&gt;</th><th scope=col>&lt;int&gt;</th><th scope=col>&lt;int&gt;</th><th scope=col>&lt;int&gt;</th><th scope=col>&lt;int&gt;</th></tr>\n",
              "</thead>\n",
              "<tbody>\n",
              "\t<tr><td>16</td><td>propnearextr</td><td>418</td><td>410</td><td>435</td><td>424</td><td>382</td><td>381</td><td>543</td><td>211</td><td>⋯</td><td>445</td><td>1515</td><td>704</td><td>730</td><td>685</td><td>863</td><td>1032</td><td>853</td><td>1621</td><td>1351</td></tr>\n",
              "</tbody>\n",
              "</table>\n"
            ],
            "text/markdown": "\nA data.frame: 1 × 34\n\n| Spectrum &lt;int&gt; | Label &lt;chr&gt; | 1974 &lt;int&gt; | 1975 &lt;int&gt; | 1976 &lt;int&gt; | 1977 &lt;int&gt; | 1978 &lt;int&gt; | 1980 &lt;int&gt; | 1982 &lt;int&gt; | 1983 &lt;int&gt; | ⋯ ⋯ | 2004 &lt;int&gt; | 2006 &lt;int&gt; | 2008 &lt;int&gt; | 2010 &lt;int&gt; | 2012 &lt;int&gt; | 2014 &lt;int&gt; | 2016 &lt;int&gt; | 2018 &lt;int&gt; | 2021 &lt;int&gt; | 2022 &lt;int&gt; |\n|---|---|---|---|---|---|---|---|---|---|---|---|---|---|---|---|---|---|---|---|---|\n| 16 | propnearextr | 418 | 410 | 435 | 424 | 382 | 381 | 543 | 211 | ⋯ | 445 | 1515 | 704 | 730 | 685 | 863 | 1032 | 853 | 1621 | 1351 |\n\n",
            "text/latex": "A data.frame: 1 × 34\n\\begin{tabular}{lllllllllllllllllllll}\n Spectrum & Label & 1974 & 1975 & 1976 & 1977 & 1978 & 1980 & 1982 & 1983 & ⋯ & 2004 & 2006 & 2008 & 2010 & 2012 & 2014 & 2016 & 2018 & 2021 & 2022\\\\\n <int> & <chr> & <int> & <int> & <int> & <int> & <int> & <int> & <int> & <int> & ⋯ & <int> & <int> & <int> & <int> & <int> & <int> & <int> & <int> & <int> & <int>\\\\\n\\hline\n\t 16 & propnearextr & 418 & 410 & 435 & 424 & 382 & 381 & 543 & 211 & ⋯ & 445 & 1515 & 704 & 730 & 685 & 863 & 1032 & 853 & 1621 & 1351\\\\\n\\end{tabular}\n",
            "text/plain": [
              "  Spectrum Label        1974 1975 1976 1977 1978 1980 1982 1983 ⋯ 2004 2006\n",
              "1 16       propnearextr 418  410  435  424  382  381  543  211  ⋯ 445  1515\n",
              "  2008 2010 2012 2014 2016 2018 2021 2022\n",
              "1 704  730  685  863  1032 853  1621 1351"
            ]
          },
          "metadata": {}
        },
        {
          "output_type": "display_data",
          "data": {
            "text/html": [
              "<table class=\"dataframe\">\n",
              "<caption>A data.frame: 10 × 34</caption>\n",
              "<thead>\n",
              "\t<tr><th scope=col>Spectrum</th><th scope=col>Label</th><th scope=col>1974</th><th scope=col>1975</th><th scope=col>1976</th><th scope=col>1977</th><th scope=col>1978</th><th scope=col>1980</th><th scope=col>1982</th><th scope=col>1983</th><th scope=col>⋯</th><th scope=col>2004</th><th scope=col>2006</th><th scope=col>2008</th><th scope=col>2010</th><th scope=col>2012</th><th scope=col>2014</th><th scope=col>2016</th><th scope=col>2018</th><th scope=col>2021</th><th scope=col>2022</th></tr>\n",
              "\t<tr><th scope=col>&lt;int&gt;</th><th scope=col>&lt;chr&gt;</th><th scope=col>&lt;int&gt;</th><th scope=col>&lt;int&gt;</th><th scope=col>&lt;int&gt;</th><th scope=col>&lt;int&gt;</th><th scope=col>&lt;int&gt;</th><th scope=col>&lt;int&gt;</th><th scope=col>&lt;int&gt;</th><th scope=col>&lt;int&gt;</th><th scope=col>⋯</th><th scope=col>&lt;int&gt;</th><th scope=col>&lt;int&gt;</th><th scope=col>&lt;int&gt;</th><th scope=col>&lt;int&gt;</th><th scope=col>&lt;int&gt;</th><th scope=col>&lt;int&gt;</th><th scope=col>&lt;int&gt;</th><th scope=col>&lt;int&gt;</th><th scope=col>&lt;int&gt;</th><th scope=col>&lt;int&gt;</th></tr>\n",
              "</thead>\n",
              "<tbody>\n",
              "\t<tr><td> 1</td><td>Extremely liberal           </td><td>  22</td><td>  46</td><td>  31</td><td>  37</td><td>  22</td><td>  36</td><td>  48</td><td> 16</td><td>⋯</td><td>  46</td><td> 139</td><td>  69</td><td>  76</td><td>  81</td><td>  94</td><td> 136</td><td> 122</td><td> 207</td><td> 192</td></tr>\n",
              "\t<tr><td> 2</td><td>Liberal                     </td><td> 201</td><td> 179</td><td> 187</td><td> 169</td><td> 142</td><td> 121</td><td> 199</td><td> 67</td><td>⋯</td><td> 120</td><td> 524</td><td> 240</td><td> 259</td><td> 244</td><td> 304</td><td> 350</td><td> 278</td><td> 623</td><td> 486</td></tr>\n",
              "\t<tr><td> 3</td><td>Slightly liberal            </td><td> 207</td><td> 196</td><td> 186</td><td> 214</td><td> 241</td><td> 208</td><td> 267</td><td> 98</td><td>⋯</td><td> 153</td><td> 517</td><td> 221</td><td> 232</td><td> 208</td><td> 263</td><td> 310</td><td> 256</td><td> 490</td><td> 400</td></tr>\n",
              "\t<tr><td> 4</td><td>Moderate, middle of the road</td><td> 564</td><td> 559</td><td> 559</td><td> 564</td><td> 549</td><td> 582</td><td> 694</td><td>319</td><td>⋯</td><td> 497</td><td>1683</td><td> 740</td><td> 746</td><td> 713</td><td> 989</td><td>1032</td><td> 855</td><td>1377</td><td>1245</td></tr>\n",
              "\t<tr><td> 5</td><td>Slightly conservative       </td><td> 221</td><td> 232</td><td> 221</td><td> 251</td><td> 263</td><td> 258</td><td> 235</td><td>142</td><td>⋯</td><td> 214</td><td> 618</td><td> 268</td><td> 265</td><td> 268</td><td> 334</td><td> 382</td><td> 283</td><td> 476</td><td> 430</td></tr>\n",
              "\t<tr><td> 6</td><td>Conservative                </td><td> 160</td><td> 150</td><td> 190</td><td> 179</td><td> 188</td><td> 180</td><td> 229</td><td>108</td><td>⋯</td><td> 223</td><td> 685</td><td> 327</td><td> 315</td><td> 292</td><td> 358</td><td> 426</td><td> 354</td><td> 617</td><td> 514</td></tr>\n",
              "\t<tr><td> 7</td><td>Extremely conservative      </td><td>  35</td><td>  35</td><td>  27</td><td>  39</td><td>  30</td><td>  44</td><td>  67</td><td> 20</td><td>⋯</td><td>  56</td><td> 167</td><td>  68</td><td>  80</td><td>  68</td><td> 107</td><td> 120</td><td>  99</td><td> 174</td><td> 159</td></tr>\n",
              "\t<tr><td>28</td><td>Total                       </td><td>1410</td><td>1397</td><td>1401</td><td>1453</td><td>1435</td><td>1429</td><td>1739</td><td>770</td><td>⋯</td><td>1309</td><td>4333</td><td>1933</td><td>1973</td><td>1874</td><td>2449</td><td>2756</td><td>2247</td><td>3964</td><td>3426</td></tr>\n",
              "\t<tr><td> 8</td><td>propextr                    </td><td>  57</td><td>  81</td><td>  58</td><td>  76</td><td>  52</td><td>  80</td><td> 115</td><td> 36</td><td>⋯</td><td> 102</td><td> 306</td><td> 137</td><td> 156</td><td> 149</td><td> 201</td><td> 256</td><td> 221</td><td> 381</td><td> 351</td></tr>\n",
              "\t<tr><td>16</td><td>propnearextr                </td><td> 418</td><td> 410</td><td> 435</td><td> 424</td><td> 382</td><td> 381</td><td> 543</td><td>211</td><td>⋯</td><td> 445</td><td>1515</td><td> 704</td><td> 730</td><td> 685</td><td> 863</td><td>1032</td><td> 853</td><td>1621</td><td>1351</td></tr>\n",
              "</tbody>\n",
              "</table>\n"
            ],
            "text/markdown": "\nA data.frame: 10 × 34\n\n| Spectrum &lt;int&gt; | Label &lt;chr&gt; | 1974 &lt;int&gt; | 1975 &lt;int&gt; | 1976 &lt;int&gt; | 1977 &lt;int&gt; | 1978 &lt;int&gt; | 1980 &lt;int&gt; | 1982 &lt;int&gt; | 1983 &lt;int&gt; | ⋯ ⋯ | 2004 &lt;int&gt; | 2006 &lt;int&gt; | 2008 &lt;int&gt; | 2010 &lt;int&gt; | 2012 &lt;int&gt; | 2014 &lt;int&gt; | 2016 &lt;int&gt; | 2018 &lt;int&gt; | 2021 &lt;int&gt; | 2022 &lt;int&gt; |\n|---|---|---|---|---|---|---|---|---|---|---|---|---|---|---|---|---|---|---|---|---|\n|  1 | Extremely liberal            |   22 |   46 |   31 |   37 |   22 |   36 |   48 |  16 | ⋯ |   46 |  139 |   69 |   76 |   81 |   94 |  136 |  122 |  207 |  192 |\n|  2 | Liberal                      |  201 |  179 |  187 |  169 |  142 |  121 |  199 |  67 | ⋯ |  120 |  524 |  240 |  259 |  244 |  304 |  350 |  278 |  623 |  486 |\n|  3 | Slightly liberal             |  207 |  196 |  186 |  214 |  241 |  208 |  267 |  98 | ⋯ |  153 |  517 |  221 |  232 |  208 |  263 |  310 |  256 |  490 |  400 |\n|  4 | Moderate, middle of the road |  564 |  559 |  559 |  564 |  549 |  582 |  694 | 319 | ⋯ |  497 | 1683 |  740 |  746 |  713 |  989 | 1032 |  855 | 1377 | 1245 |\n|  5 | Slightly conservative        |  221 |  232 |  221 |  251 |  263 |  258 |  235 | 142 | ⋯ |  214 |  618 |  268 |  265 |  268 |  334 |  382 |  283 |  476 |  430 |\n|  6 | Conservative                 |  160 |  150 |  190 |  179 |  188 |  180 |  229 | 108 | ⋯ |  223 |  685 |  327 |  315 |  292 |  358 |  426 |  354 |  617 |  514 |\n|  7 | Extremely conservative       |   35 |   35 |   27 |   39 |   30 |   44 |   67 |  20 | ⋯ |   56 |  167 |   68 |   80 |   68 |  107 |  120 |   99 |  174 |  159 |\n| 28 | Total                        | 1410 | 1397 | 1401 | 1453 | 1435 | 1429 | 1739 | 770 | ⋯ | 1309 | 4333 | 1933 | 1973 | 1874 | 2449 | 2756 | 2247 | 3964 | 3426 |\n|  8 | propextr                     |   57 |   81 |   58 |   76 |   52 |   80 |  115 |  36 | ⋯ |  102 |  306 |  137 |  156 |  149 |  201 |  256 |  221 |  381 |  351 |\n| 16 | propnearextr                 |  418 |  410 |  435 |  424 |  382 |  381 |  543 | 211 | ⋯ |  445 | 1515 |  704 |  730 |  685 |  863 | 1032 |  853 | 1621 | 1351 |\n\n",
            "text/latex": "A data.frame: 10 × 34\n\\begin{tabular}{lllllllllllllllllllll}\n Spectrum & Label & 1974 & 1975 & 1976 & 1977 & 1978 & 1980 & 1982 & 1983 & ⋯ & 2004 & 2006 & 2008 & 2010 & 2012 & 2014 & 2016 & 2018 & 2021 & 2022\\\\\n <int> & <chr> & <int> & <int> & <int> & <int> & <int> & <int> & <int> & <int> & ⋯ & <int> & <int> & <int> & <int> & <int> & <int> & <int> & <int> & <int> & <int>\\\\\n\\hline\n\t  1 & Extremely liberal            &   22 &   46 &   31 &   37 &   22 &   36 &   48 &  16 & ⋯ &   46 &  139 &   69 &   76 &   81 &   94 &  136 &  122 &  207 &  192\\\\\n\t  2 & Liberal                      &  201 &  179 &  187 &  169 &  142 &  121 &  199 &  67 & ⋯ &  120 &  524 &  240 &  259 &  244 &  304 &  350 &  278 &  623 &  486\\\\\n\t  3 & Slightly liberal             &  207 &  196 &  186 &  214 &  241 &  208 &  267 &  98 & ⋯ &  153 &  517 &  221 &  232 &  208 &  263 &  310 &  256 &  490 &  400\\\\\n\t  4 & Moderate, middle of the road &  564 &  559 &  559 &  564 &  549 &  582 &  694 & 319 & ⋯ &  497 & 1683 &  740 &  746 &  713 &  989 & 1032 &  855 & 1377 & 1245\\\\\n\t  5 & Slightly conservative        &  221 &  232 &  221 &  251 &  263 &  258 &  235 & 142 & ⋯ &  214 &  618 &  268 &  265 &  268 &  334 &  382 &  283 &  476 &  430\\\\\n\t  6 & Conservative                 &  160 &  150 &  190 &  179 &  188 &  180 &  229 & 108 & ⋯ &  223 &  685 &  327 &  315 &  292 &  358 &  426 &  354 &  617 &  514\\\\\n\t  7 & Extremely conservative       &   35 &   35 &   27 &   39 &   30 &   44 &   67 &  20 & ⋯ &   56 &  167 &   68 &   80 &   68 &  107 &  120 &   99 &  174 &  159\\\\\n\t 28 & Total                        & 1410 & 1397 & 1401 & 1453 & 1435 & 1429 & 1739 & 770 & ⋯ & 1309 & 4333 & 1933 & 1973 & 1874 & 2449 & 2756 & 2247 & 3964 & 3426\\\\\n\t  8 & propextr                     &   57 &   81 &   58 &   76 &   52 &   80 &  115 &  36 & ⋯ &  102 &  306 &  137 &  156 &  149 &  201 &  256 &  221 &  381 &  351\\\\\n\t 16 & propnearextr                 &  418 &  410 &  435 &  424 &  382 &  381 &  543 & 211 & ⋯ &  445 & 1515 &  704 &  730 &  685 &  863 & 1032 &  853 & 1621 & 1351\\\\\n\\end{tabular}\n",
            "text/plain": [
              "   Spectrum Label                        1974 1975 1976 1977 1978 1980 1982\n",
              "1   1       Extremely liberal              22   46   31   37   22   36   48\n",
              "2   2       Liberal                       201  179  187  169  142  121  199\n",
              "3   3       Slightly liberal              207  196  186  214  241  208  267\n",
              "4   4       Moderate, middle of the road  564  559  559  564  549  582  694\n",
              "5   5       Slightly conservative         221  232  221  251  263  258  235\n",
              "6   6       Conservative                  160  150  190  179  188  180  229\n",
              "7   7       Extremely conservative         35   35   27   39   30   44   67\n",
              "8  28       Total                        1410 1397 1401 1453 1435 1429 1739\n",
              "9   8       propextr                       57   81   58   76   52   80  115\n",
              "10 16       propnearextr                  418  410  435  424  382  381  543\n",
              "   1983 ⋯ 2004 2006 2008 2010 2012 2014 2016 2018 2021 2022\n",
              "1   16  ⋯   46  139   69   76   81   94  136  122  207  192\n",
              "2   67  ⋯  120  524  240  259  244  304  350  278  623  486\n",
              "3   98  ⋯  153  517  221  232  208  263  310  256  490  400\n",
              "4  319  ⋯  497 1683  740  746  713  989 1032  855 1377 1245\n",
              "5  142  ⋯  214  618  268  265  268  334  382  283  476  430\n",
              "6  108  ⋯  223  685  327  315  292  358  426  354  617  514\n",
              "7   20  ⋯   56  167   68   80   68  107  120   99  174  159\n",
              "8  770  ⋯ 1309 4333 1933 1973 1874 2449 2756 2247 3964 3426\n",
              "9   36  ⋯  102  306  137  156  149  201  256  221  381  351\n",
              "10 211  ⋯  445 1515  704  730  685  863 1032  853 1621 1351"
            ]
          },
          "metadata": {}
        },
        {
          "output_type": "display_data",
          "data": {
            "text/html": [
              "<table class=\"dataframe\">\n",
              "<caption>A data.frame: 10 × 34</caption>\n",
              "<thead>\n",
              "\t<tr><th scope=col>Spectrum</th><th scope=col>Label</th><th scope=col>1974</th><th scope=col>1975</th><th scope=col>1976</th><th scope=col>1977</th><th scope=col>1978</th><th scope=col>1980</th><th scope=col>1982</th><th scope=col>1983</th><th scope=col>⋯</th><th scope=col>2004</th><th scope=col>2006</th><th scope=col>2008</th><th scope=col>2010</th><th scope=col>2012</th><th scope=col>2014</th><th scope=col>2016</th><th scope=col>2018</th><th scope=col>2021</th><th scope=col>2022</th></tr>\n",
              "\t<tr><th scope=col>&lt;dbl&gt;</th><th scope=col>&lt;chr&gt;</th><th scope=col>&lt;dbl&gt;</th><th scope=col>&lt;dbl&gt;</th><th scope=col>&lt;dbl&gt;</th><th scope=col>&lt;dbl&gt;</th><th scope=col>&lt;dbl&gt;</th><th scope=col>&lt;dbl&gt;</th><th scope=col>&lt;dbl&gt;</th><th scope=col>&lt;dbl&gt;</th><th scope=col>⋯</th><th scope=col>&lt;dbl&gt;</th><th scope=col>&lt;dbl&gt;</th><th scope=col>&lt;dbl&gt;</th><th scope=col>&lt;dbl&gt;</th><th scope=col>&lt;dbl&gt;</th><th scope=col>&lt;dbl&gt;</th><th scope=col>&lt;dbl&gt;</th><th scope=col>&lt;dbl&gt;</th><th scope=col>&lt;dbl&gt;</th><th scope=col>&lt;dbl&gt;</th></tr>\n",
              "</thead>\n",
              "<tbody>\n",
              "\t<tr><td> 1.0000000</td><td>Extremely liberal           </td><td>2.200000e+01</td><td>4.600000e+01</td><td>3.1000e+01</td><td>3.700000e+01</td><td>2.200000e+01</td><td>3.600000e+01</td><td>4.800000e+01</td><td> 16.00000000</td><td>⋯</td><td>4.600000e+01</td><td>1.390000e+02</td><td>6.900000e+01</td><td>7.600000e+01</td><td>8.100000e+01</td><td>9.400000e+01</td><td>1.360000e+02</td><td>1.220000e+02</td><td>2.070000e+02</td><td> 192.0000000</td></tr>\n",
              "\t<tr><td> 2.0000000</td><td>Liberal                     </td><td>2.010000e+02</td><td>1.790000e+02</td><td>1.8700e+02</td><td>1.690000e+02</td><td>1.420000e+02</td><td>1.210000e+02</td><td>1.990000e+02</td><td> 67.00000000</td><td>⋯</td><td>1.200000e+02</td><td>5.240000e+02</td><td>2.400000e+02</td><td>2.590000e+02</td><td>2.440000e+02</td><td>3.040000e+02</td><td>3.500000e+02</td><td>2.780000e+02</td><td>6.230000e+02</td><td> 486.0000000</td></tr>\n",
              "\t<tr><td> 3.0000000</td><td>Slightly liberal            </td><td>2.070000e+02</td><td>1.960000e+02</td><td>1.8600e+02</td><td>2.140000e+02</td><td>2.410000e+02</td><td>2.080000e+02</td><td>2.670000e+02</td><td> 98.00000000</td><td>⋯</td><td>1.530000e+02</td><td>5.170000e+02</td><td>2.210000e+02</td><td>2.320000e+02</td><td>2.080000e+02</td><td>2.630000e+02</td><td>3.100000e+02</td><td>2.560000e+02</td><td>4.900000e+02</td><td> 400.0000000</td></tr>\n",
              "\t<tr><td> 4.0000000</td><td>Moderate, middle of the road</td><td>5.640000e+02</td><td>5.590000e+02</td><td>5.5900e+02</td><td>5.640000e+02</td><td>5.490000e+02</td><td>5.820000e+02</td><td>6.940000e+02</td><td>319.00000000</td><td>⋯</td><td>4.970000e+02</td><td>1.683000e+03</td><td>7.400000e+02</td><td>7.460000e+02</td><td>7.130000e+02</td><td>9.890000e+02</td><td>1.032000e+03</td><td>8.550000e+02</td><td>1.377000e+03</td><td>1245.0000000</td></tr>\n",
              "\t<tr><td> 5.0000000</td><td>Slightly conservative       </td><td>2.210000e+02</td><td>2.320000e+02</td><td>2.2100e+02</td><td>2.510000e+02</td><td>2.630000e+02</td><td>2.580000e+02</td><td>2.350000e+02</td><td>142.00000000</td><td>⋯</td><td>2.140000e+02</td><td>6.180000e+02</td><td>2.680000e+02</td><td>2.650000e+02</td><td>2.680000e+02</td><td>3.340000e+02</td><td>3.820000e+02</td><td>2.830000e+02</td><td>4.760000e+02</td><td> 430.0000000</td></tr>\n",
              "\t<tr><td> 6.0000000</td><td>Conservative                </td><td>1.600000e+02</td><td>1.500000e+02</td><td>1.9000e+02</td><td>1.790000e+02</td><td>1.880000e+02</td><td>1.800000e+02</td><td>2.290000e+02</td><td>108.00000000</td><td>⋯</td><td>2.230000e+02</td><td>6.850000e+02</td><td>3.270000e+02</td><td>3.150000e+02</td><td>2.920000e+02</td><td>3.580000e+02</td><td>4.260000e+02</td><td>3.540000e+02</td><td>6.170000e+02</td><td> 514.0000000</td></tr>\n",
              "\t<tr><td> 7.0000000</td><td>Extremely conservative      </td><td>3.500000e+01</td><td>3.500000e+01</td><td>2.7000e+01</td><td>3.900000e+01</td><td>3.000000e+01</td><td>4.400000e+01</td><td>6.700000e+01</td><td> 20.00000000</td><td>⋯</td><td>5.600000e+01</td><td>1.670000e+02</td><td>6.800000e+01</td><td>8.000000e+01</td><td>6.800000e+01</td><td>1.070000e+02</td><td>1.200000e+02</td><td>9.900000e+01</td><td>1.740000e+02</td><td> 159.0000000</td></tr>\n",
              "\t<tr><td>28.0000000</td><td>Total                       </td><td>1.410000e+03</td><td>1.397000e+03</td><td>1.4010e+03</td><td>1.453000e+03</td><td>1.435000e+03</td><td>1.429000e+03</td><td>1.739000e+03</td><td>770.00000000</td><td>⋯</td><td>1.309000e+03</td><td>4.333000e+03</td><td>1.933000e+03</td><td>1.973000e+03</td><td>1.874000e+03</td><td>2.449000e+03</td><td>2.756000e+03</td><td>2.247000e+03</td><td>3.964000e+03</td><td>3426.0000000</td></tr>\n",
              "\t<tr><td> 0.2857143</td><td>propextr                    </td><td>4.042553e-02</td><td>5.798139e-02</td><td>4.1399e-02</td><td>5.230557e-02</td><td>3.623693e-02</td><td>5.598321e-02</td><td>6.612996e-02</td><td>  0.04675325</td><td>⋯</td><td>7.792208e-02</td><td>7.062082e-02</td><td>7.087429e-02</td><td>7.906741e-02</td><td>7.950907e-02</td><td>8.207432e-02</td><td>9.288824e-02</td><td>9.835336e-02</td><td>9.611504e-02</td><td>   0.1024518</td></tr>\n",
              "\t<tr><td>16.0000000</td><td>propnearextr                </td><td>4.180000e+02</td><td>4.100000e+02</td><td>4.3500e+02</td><td>4.240000e+02</td><td>3.820000e+02</td><td>3.810000e+02</td><td>5.430000e+02</td><td>211.00000000</td><td>⋯</td><td>4.450000e+02</td><td>1.515000e+03</td><td>7.040000e+02</td><td>7.300000e+02</td><td>6.850000e+02</td><td>8.630000e+02</td><td>1.032000e+03</td><td>8.530000e+02</td><td>1.621000e+03</td><td>1351.0000000</td></tr>\n",
              "</tbody>\n",
              "</table>\n"
            ],
            "text/markdown": "\nA data.frame: 10 × 34\n\n| Spectrum &lt;dbl&gt; | Label &lt;chr&gt; | 1974 &lt;dbl&gt; | 1975 &lt;dbl&gt; | 1976 &lt;dbl&gt; | 1977 &lt;dbl&gt; | 1978 &lt;dbl&gt; | 1980 &lt;dbl&gt; | 1982 &lt;dbl&gt; | 1983 &lt;dbl&gt; | ⋯ ⋯ | 2004 &lt;dbl&gt; | 2006 &lt;dbl&gt; | 2008 &lt;dbl&gt; | 2010 &lt;dbl&gt; | 2012 &lt;dbl&gt; | 2014 &lt;dbl&gt; | 2016 &lt;dbl&gt; | 2018 &lt;dbl&gt; | 2021 &lt;dbl&gt; | 2022 &lt;dbl&gt; |\n|---|---|---|---|---|---|---|---|---|---|---|---|---|---|---|---|---|---|---|---|---|\n|  1.0000000 | Extremely liberal            | 2.200000e+01 | 4.600000e+01 | 3.1000e+01 | 3.700000e+01 | 2.200000e+01 | 3.600000e+01 | 4.800000e+01 |  16.00000000 | ⋯ | 4.600000e+01 | 1.390000e+02 | 6.900000e+01 | 7.600000e+01 | 8.100000e+01 | 9.400000e+01 | 1.360000e+02 | 1.220000e+02 | 2.070000e+02 |  192.0000000 |\n|  2.0000000 | Liberal                      | 2.010000e+02 | 1.790000e+02 | 1.8700e+02 | 1.690000e+02 | 1.420000e+02 | 1.210000e+02 | 1.990000e+02 |  67.00000000 | ⋯ | 1.200000e+02 | 5.240000e+02 | 2.400000e+02 | 2.590000e+02 | 2.440000e+02 | 3.040000e+02 | 3.500000e+02 | 2.780000e+02 | 6.230000e+02 |  486.0000000 |\n|  3.0000000 | Slightly liberal             | 2.070000e+02 | 1.960000e+02 | 1.8600e+02 | 2.140000e+02 | 2.410000e+02 | 2.080000e+02 | 2.670000e+02 |  98.00000000 | ⋯ | 1.530000e+02 | 5.170000e+02 | 2.210000e+02 | 2.320000e+02 | 2.080000e+02 | 2.630000e+02 | 3.100000e+02 | 2.560000e+02 | 4.900000e+02 |  400.0000000 |\n|  4.0000000 | Moderate, middle of the road | 5.640000e+02 | 5.590000e+02 | 5.5900e+02 | 5.640000e+02 | 5.490000e+02 | 5.820000e+02 | 6.940000e+02 | 319.00000000 | ⋯ | 4.970000e+02 | 1.683000e+03 | 7.400000e+02 | 7.460000e+02 | 7.130000e+02 | 9.890000e+02 | 1.032000e+03 | 8.550000e+02 | 1.377000e+03 | 1245.0000000 |\n|  5.0000000 | Slightly conservative        | 2.210000e+02 | 2.320000e+02 | 2.2100e+02 | 2.510000e+02 | 2.630000e+02 | 2.580000e+02 | 2.350000e+02 | 142.00000000 | ⋯ | 2.140000e+02 | 6.180000e+02 | 2.680000e+02 | 2.650000e+02 | 2.680000e+02 | 3.340000e+02 | 3.820000e+02 | 2.830000e+02 | 4.760000e+02 |  430.0000000 |\n|  6.0000000 | Conservative                 | 1.600000e+02 | 1.500000e+02 | 1.9000e+02 | 1.790000e+02 | 1.880000e+02 | 1.800000e+02 | 2.290000e+02 | 108.00000000 | ⋯ | 2.230000e+02 | 6.850000e+02 | 3.270000e+02 | 3.150000e+02 | 2.920000e+02 | 3.580000e+02 | 4.260000e+02 | 3.540000e+02 | 6.170000e+02 |  514.0000000 |\n|  7.0000000 | Extremely conservative       | 3.500000e+01 | 3.500000e+01 | 2.7000e+01 | 3.900000e+01 | 3.000000e+01 | 4.400000e+01 | 6.700000e+01 |  20.00000000 | ⋯ | 5.600000e+01 | 1.670000e+02 | 6.800000e+01 | 8.000000e+01 | 6.800000e+01 | 1.070000e+02 | 1.200000e+02 | 9.900000e+01 | 1.740000e+02 |  159.0000000 |\n| 28.0000000 | Total                        | 1.410000e+03 | 1.397000e+03 | 1.4010e+03 | 1.453000e+03 | 1.435000e+03 | 1.429000e+03 | 1.739000e+03 | 770.00000000 | ⋯ | 1.309000e+03 | 4.333000e+03 | 1.933000e+03 | 1.973000e+03 | 1.874000e+03 | 2.449000e+03 | 2.756000e+03 | 2.247000e+03 | 3.964000e+03 | 3426.0000000 |\n|  0.2857143 | propextr                     | 4.042553e-02 | 5.798139e-02 | 4.1399e-02 | 5.230557e-02 | 3.623693e-02 | 5.598321e-02 | 6.612996e-02 |   0.04675325 | ⋯ | 7.792208e-02 | 7.062082e-02 | 7.087429e-02 | 7.906741e-02 | 7.950907e-02 | 8.207432e-02 | 9.288824e-02 | 9.835336e-02 | 9.611504e-02 |    0.1024518 |\n| 16.0000000 | propnearextr                 | 4.180000e+02 | 4.100000e+02 | 4.3500e+02 | 4.240000e+02 | 3.820000e+02 | 3.810000e+02 | 5.430000e+02 | 211.00000000 | ⋯ | 4.450000e+02 | 1.515000e+03 | 7.040000e+02 | 7.300000e+02 | 6.850000e+02 | 8.630000e+02 | 1.032000e+03 | 8.530000e+02 | 1.621000e+03 | 1351.0000000 |\n\n",
            "text/latex": "A data.frame: 10 × 34\n\\begin{tabular}{lllllllllllllllllllll}\n Spectrum & Label & 1974 & 1975 & 1976 & 1977 & 1978 & 1980 & 1982 & 1983 & ⋯ & 2004 & 2006 & 2008 & 2010 & 2012 & 2014 & 2016 & 2018 & 2021 & 2022\\\\\n <dbl> & <chr> & <dbl> & <dbl> & <dbl> & <dbl> & <dbl> & <dbl> & <dbl> & <dbl> & ⋯ & <dbl> & <dbl> & <dbl> & <dbl> & <dbl> & <dbl> & <dbl> & <dbl> & <dbl> & <dbl>\\\\\n\\hline\n\t  1.0000000 & Extremely liberal            & 2.200000e+01 & 4.600000e+01 & 3.1000e+01 & 3.700000e+01 & 2.200000e+01 & 3.600000e+01 & 4.800000e+01 &  16.00000000 & ⋯ & 4.600000e+01 & 1.390000e+02 & 6.900000e+01 & 7.600000e+01 & 8.100000e+01 & 9.400000e+01 & 1.360000e+02 & 1.220000e+02 & 2.070000e+02 &  192.0000000\\\\\n\t  2.0000000 & Liberal                      & 2.010000e+02 & 1.790000e+02 & 1.8700e+02 & 1.690000e+02 & 1.420000e+02 & 1.210000e+02 & 1.990000e+02 &  67.00000000 & ⋯ & 1.200000e+02 & 5.240000e+02 & 2.400000e+02 & 2.590000e+02 & 2.440000e+02 & 3.040000e+02 & 3.500000e+02 & 2.780000e+02 & 6.230000e+02 &  486.0000000\\\\\n\t  3.0000000 & Slightly liberal             & 2.070000e+02 & 1.960000e+02 & 1.8600e+02 & 2.140000e+02 & 2.410000e+02 & 2.080000e+02 & 2.670000e+02 &  98.00000000 & ⋯ & 1.530000e+02 & 5.170000e+02 & 2.210000e+02 & 2.320000e+02 & 2.080000e+02 & 2.630000e+02 & 3.100000e+02 & 2.560000e+02 & 4.900000e+02 &  400.0000000\\\\\n\t  4.0000000 & Moderate, middle of the road & 5.640000e+02 & 5.590000e+02 & 5.5900e+02 & 5.640000e+02 & 5.490000e+02 & 5.820000e+02 & 6.940000e+02 & 319.00000000 & ⋯ & 4.970000e+02 & 1.683000e+03 & 7.400000e+02 & 7.460000e+02 & 7.130000e+02 & 9.890000e+02 & 1.032000e+03 & 8.550000e+02 & 1.377000e+03 & 1245.0000000\\\\\n\t  5.0000000 & Slightly conservative        & 2.210000e+02 & 2.320000e+02 & 2.2100e+02 & 2.510000e+02 & 2.630000e+02 & 2.580000e+02 & 2.350000e+02 & 142.00000000 & ⋯ & 2.140000e+02 & 6.180000e+02 & 2.680000e+02 & 2.650000e+02 & 2.680000e+02 & 3.340000e+02 & 3.820000e+02 & 2.830000e+02 & 4.760000e+02 &  430.0000000\\\\\n\t  6.0000000 & Conservative                 & 1.600000e+02 & 1.500000e+02 & 1.9000e+02 & 1.790000e+02 & 1.880000e+02 & 1.800000e+02 & 2.290000e+02 & 108.00000000 & ⋯ & 2.230000e+02 & 6.850000e+02 & 3.270000e+02 & 3.150000e+02 & 2.920000e+02 & 3.580000e+02 & 4.260000e+02 & 3.540000e+02 & 6.170000e+02 &  514.0000000\\\\\n\t  7.0000000 & Extremely conservative       & 3.500000e+01 & 3.500000e+01 & 2.7000e+01 & 3.900000e+01 & 3.000000e+01 & 4.400000e+01 & 6.700000e+01 &  20.00000000 & ⋯ & 5.600000e+01 & 1.670000e+02 & 6.800000e+01 & 8.000000e+01 & 6.800000e+01 & 1.070000e+02 & 1.200000e+02 & 9.900000e+01 & 1.740000e+02 &  159.0000000\\\\\n\t 28.0000000 & Total                        & 1.410000e+03 & 1.397000e+03 & 1.4010e+03 & 1.453000e+03 & 1.435000e+03 & 1.429000e+03 & 1.739000e+03 & 770.00000000 & ⋯ & 1.309000e+03 & 4.333000e+03 & 1.933000e+03 & 1.973000e+03 & 1.874000e+03 & 2.449000e+03 & 2.756000e+03 & 2.247000e+03 & 3.964000e+03 & 3426.0000000\\\\\n\t  0.2857143 & propextr                     & 4.042553e-02 & 5.798139e-02 & 4.1399e-02 & 5.230557e-02 & 3.623693e-02 & 5.598321e-02 & 6.612996e-02 &   0.04675325 & ⋯ & 7.792208e-02 & 7.062082e-02 & 7.087429e-02 & 7.906741e-02 & 7.950907e-02 & 8.207432e-02 & 9.288824e-02 & 9.835336e-02 & 9.611504e-02 &    0.1024518\\\\\n\t 16.0000000 & propnearextr                 & 4.180000e+02 & 4.100000e+02 & 4.3500e+02 & 4.240000e+02 & 3.820000e+02 & 3.810000e+02 & 5.430000e+02 & 211.00000000 & ⋯ & 4.450000e+02 & 1.515000e+03 & 7.040000e+02 & 7.300000e+02 & 6.850000e+02 & 8.630000e+02 & 1.032000e+03 & 8.530000e+02 & 1.621000e+03 & 1351.0000000\\\\\n\\end{tabular}\n",
            "text/plain": [
              "   Spectrum   Label                        1974         1975         1976      \n",
              "1   1.0000000 Extremely liberal            2.200000e+01 4.600000e+01 3.1000e+01\n",
              "2   2.0000000 Liberal                      2.010000e+02 1.790000e+02 1.8700e+02\n",
              "3   3.0000000 Slightly liberal             2.070000e+02 1.960000e+02 1.8600e+02\n",
              "4   4.0000000 Moderate, middle of the road 5.640000e+02 5.590000e+02 5.5900e+02\n",
              "5   5.0000000 Slightly conservative        2.210000e+02 2.320000e+02 2.2100e+02\n",
              "6   6.0000000 Conservative                 1.600000e+02 1.500000e+02 1.9000e+02\n",
              "7   7.0000000 Extremely conservative       3.500000e+01 3.500000e+01 2.7000e+01\n",
              "8  28.0000000 Total                        1.410000e+03 1.397000e+03 1.4010e+03\n",
              "9   0.2857143 propextr                     4.042553e-02 5.798139e-02 4.1399e-02\n",
              "10 16.0000000 propnearextr                 4.180000e+02 4.100000e+02 4.3500e+02\n",
              "   1977         1978         1980         1982         1983         ⋯\n",
              "1  3.700000e+01 2.200000e+01 3.600000e+01 4.800000e+01  16.00000000 ⋯\n",
              "2  1.690000e+02 1.420000e+02 1.210000e+02 1.990000e+02  67.00000000 ⋯\n",
              "3  2.140000e+02 2.410000e+02 2.080000e+02 2.670000e+02  98.00000000 ⋯\n",
              "4  5.640000e+02 5.490000e+02 5.820000e+02 6.940000e+02 319.00000000 ⋯\n",
              "5  2.510000e+02 2.630000e+02 2.580000e+02 2.350000e+02 142.00000000 ⋯\n",
              "6  1.790000e+02 1.880000e+02 1.800000e+02 2.290000e+02 108.00000000 ⋯\n",
              "7  3.900000e+01 3.000000e+01 4.400000e+01 6.700000e+01  20.00000000 ⋯\n",
              "8  1.453000e+03 1.435000e+03 1.429000e+03 1.739000e+03 770.00000000 ⋯\n",
              "9  5.230557e-02 3.623693e-02 5.598321e-02 6.612996e-02   0.04675325 ⋯\n",
              "10 4.240000e+02 3.820000e+02 3.810000e+02 5.430000e+02 211.00000000 ⋯\n",
              "   2004         2006         2008         2010         2012        \n",
              "1  4.600000e+01 1.390000e+02 6.900000e+01 7.600000e+01 8.100000e+01\n",
              "2  1.200000e+02 5.240000e+02 2.400000e+02 2.590000e+02 2.440000e+02\n",
              "3  1.530000e+02 5.170000e+02 2.210000e+02 2.320000e+02 2.080000e+02\n",
              "4  4.970000e+02 1.683000e+03 7.400000e+02 7.460000e+02 7.130000e+02\n",
              "5  2.140000e+02 6.180000e+02 2.680000e+02 2.650000e+02 2.680000e+02\n",
              "6  2.230000e+02 6.850000e+02 3.270000e+02 3.150000e+02 2.920000e+02\n",
              "7  5.600000e+01 1.670000e+02 6.800000e+01 8.000000e+01 6.800000e+01\n",
              "8  1.309000e+03 4.333000e+03 1.933000e+03 1.973000e+03 1.874000e+03\n",
              "9  7.792208e-02 7.062082e-02 7.087429e-02 7.906741e-02 7.950907e-02\n",
              "10 4.450000e+02 1.515000e+03 7.040000e+02 7.300000e+02 6.850000e+02\n",
              "   2014         2016         2018         2021         2022        \n",
              "1  9.400000e+01 1.360000e+02 1.220000e+02 2.070000e+02  192.0000000\n",
              "2  3.040000e+02 3.500000e+02 2.780000e+02 6.230000e+02  486.0000000\n",
              "3  2.630000e+02 3.100000e+02 2.560000e+02 4.900000e+02  400.0000000\n",
              "4  9.890000e+02 1.032000e+03 8.550000e+02 1.377000e+03 1245.0000000\n",
              "5  3.340000e+02 3.820000e+02 2.830000e+02 4.760000e+02  430.0000000\n",
              "6  3.580000e+02 4.260000e+02 3.540000e+02 6.170000e+02  514.0000000\n",
              "7  1.070000e+02 1.200000e+02 9.900000e+01 1.740000e+02  159.0000000\n",
              "8  2.449000e+03 2.756000e+03 2.247000e+03 3.964000e+03 3426.0000000\n",
              "9  8.207432e-02 9.288824e-02 9.835336e-02 9.611504e-02    0.1024518\n",
              "10 8.630000e+02 1.032000e+03 8.530000e+02 1.621000e+03 1351.0000000"
            ]
          },
          "metadata": {}
        }
      ]
    },
    {
      "cell_type": "code",
      "source": [
        "# Trying line graph from scratch\n",
        "\n",
        "pivot_longer\n",
        "\n",
        "dfpolarizationfinal %>%\n",
        "  ggplot(aes(x = Year, y = Usage)) +\n",
        "  geom_line() +\n",
        "    labs(title = \"Social media usage, 2005 - 2019\") +\n",
        "    scale_y_continuous(breaks = c(0,10,20,30,40,50,60,70,80,90,100)) +\n",
        "      scale_x_continuous(breaks = c(2005, 2007, 2009, 2011, 2013, 2015, 2017, 2019)) +\n",
        "      theme_bw()\n"
      ],
      "metadata": {
        "colab": {
          "base_uri": "https://localhost:8080/",
          "height": 1000
        },
        "id": "D72iX_To4O1i",
        "outputId": "a24779f7-a35c-4b63-d62f-dd4838e579b2"
      },
      "execution_count": 134,
      "outputs": [
        {
          "output_type": "display_data",
          "data": {
            "text/html": [
              "<pre class=language-r><code>function (data, cols, ..., cols_vary = \"fastest\", names_to = \"name\", \n",
              "<span style=white-space:pre-wrap>    names_prefix = NULL, names_sep = NULL, names_pattern = NULL, </span>\n",
              "<span style=white-space:pre-wrap>    names_ptypes = NULL, names_transform = NULL, names_repair = \"check_unique\", </span>\n",
              "<span style=white-space:pre-wrap>    values_to = \"value\", values_drop_na = FALSE, values_ptypes = NULL, </span>\n",
              "<span style=white-space:pre-wrap>    values_transform = NULL) </span>\n",
              "{\n",
              "<span style=white-space:pre-wrap>    check_dots_used()</span>\n",
              "<span style=white-space:pre-wrap>    UseMethod(\"pivot_longer\")</span>\n",
              "}</code></pre>"
            ],
            "text/markdown": "```r\nfunction (data, cols, ..., cols_vary = \"fastest\", names_to = \"name\", \n    names_prefix = NULL, names_sep = NULL, names_pattern = NULL, \n    names_ptypes = NULL, names_transform = NULL, names_repair = \"check_unique\", \n    values_to = \"value\", values_drop_na = FALSE, values_ptypes = NULL, \n    values_transform = NULL) \n{\n    check_dots_used()\n    UseMethod(\"pivot_longer\")\n}\n```",
            "text/latex": "\\begin{minted}{r}\nfunction (data, cols, ..., cols\\_vary = \"fastest\", names\\_to = \"name\", \n    names\\_prefix = NULL, names\\_sep = NULL, names\\_pattern = NULL, \n    names\\_ptypes = NULL, names\\_transform = NULL, names\\_repair = \"check\\_unique\", \n    values\\_to = \"value\", values\\_drop\\_na = FALSE, values\\_ptypes = NULL, \n    values\\_transform = NULL) \n\\{\n    check\\_dots\\_used()\n    UseMethod(\"pivot\\_longer\")\n\\}\n\\end{minted}",
            "text/plain": [
              "function (data, cols, ..., cols_vary = \"fastest\", names_to = \"name\", \n",
              "    names_prefix = NULL, names_sep = NULL, names_pattern = NULL, \n",
              "    names_ptypes = NULL, names_transform = NULL, names_repair = \"check_unique\", \n",
              "    values_to = \"value\", values_drop_na = FALSE, values_ptypes = NULL, \n",
              "    values_transform = NULL) \n",
              "{\n",
              "    check_dots_used()\n",
              "    UseMethod(\"pivot_longer\")\n",
              "}\n",
              "<bytecode: 0x59cf6f48dab0>\n",
              "<environment: namespace:tidyr>"
            ]
          },
          "metadata": {}
        },
        {
          "output_type": "stream",
          "name": "stderr",
          "text": [
            "ERROR while rich displaying an object: \u001b[1m\u001b[33mError\u001b[39m in `geom_line()`:\u001b[22m\n",
            "\u001b[1m\u001b[22m\u001b[33m!\u001b[39m Problem while computing aesthetics.\n",
            "\u001b[36mℹ\u001b[39m Error occurred in the 1st layer.\n",
            "\u001b[1mCaused by error:\u001b[22m\n",
            "\u001b[33m!\u001b[39m object 'Year' not found\n",
            "\n",
            "Traceback:\n",
            "1. tryCatch(withCallingHandlers({\n",
            " .     if (!mime %in% names(repr::mime2repr)) \n",
            " .         stop(\"No repr_* for mimetype \", mime, \" in repr::mime2repr\")\n",
            " .     rpr <- repr::mime2repr[[mime]](obj)\n",
            " .     if (is.null(rpr)) \n",
            " .         return(NULL)\n",
            " .     prepare_content(is.raw(rpr), rpr)\n",
            " . }, error = error_handler), error = outer_handler)\n",
            "2. tryCatchList(expr, classes, parentenv, handlers)\n",
            "3. tryCatchOne(expr, names, parentenv, handlers[[1L]])\n",
            "4. doTryCatch(return(expr), name, parentenv, handler)\n",
            "5. withCallingHandlers({\n",
            " .     if (!mime %in% names(repr::mime2repr)) \n",
            " .         stop(\"No repr_* for mimetype \", mime, \" in repr::mime2repr\")\n",
            " .     rpr <- repr::mime2repr[[mime]](obj)\n",
            " .     if (is.null(rpr)) \n",
            " .         return(NULL)\n",
            " .     prepare_content(is.raw(rpr), rpr)\n",
            " . }, error = error_handler)\n",
            "6. repr::mime2repr[[mime]](obj)\n",
            "7. repr_text.default(obj)\n",
            "8. paste(capture.output(print(obj)), collapse = \"\\n\")\n",
            "9. capture.output(print(obj))\n",
            "10. withVisible(...elt(i))\n",
            "11. print(obj)\n",
            "12. print.ggplot(obj)\n",
            "13. ggplot_build(x)\n",
            "14. ggplot_build.ggplot(x)\n",
            "15. by_layer(function(l, d) l$compute_aesthetics(d, plot), layers, \n",
            "  .     data, \"computing aesthetics\")\n",
            "16. try_fetch(for (i in seq_along(data)) {\n",
            "  .     out[[i]] <- f(l = layers[[i]], d = data[[i]])\n",
            "  . }, error = function(cnd) {\n",
            "  .     cli::cli_abort(c(\"Problem while {step}.\", i = \"Error occurred in the {ordinal(i)} layer.\"), \n",
            "  .         call = layers[[i]]$constructor, parent = cnd)\n",
            "  . })\n",
            "17. tryCatch(withCallingHandlers(expr, condition = function(cnd) {\n",
            "  .     {\n",
            "  .         .__handler_frame__. <- TRUE\n",
            "  .         .__setup_frame__. <- frame\n",
            "  .         if (inherits(cnd, \"message\")) {\n",
            "  .             except <- c(\"warning\", \"error\")\n",
            "  .         }\n",
            "  .         else if (inherits(cnd, \"warning\")) {\n",
            "  .             except <- \"error\"\n",
            "  .         }\n",
            "  .         else {\n",
            "  .             except <- \"\"\n",
            "  .         }\n",
            "  .     }\n",
            "  .     while (!is_null(cnd)) {\n",
            "  .         if (inherits(cnd, \"error\")) {\n",
            "  .             out <- handlers[[1L]](cnd)\n",
            "  .             if (!inherits(out, \"rlang_zap\")) \n",
            "  .                 throw(out)\n",
            "  .         }\n",
            "  .         inherit <- .subset2(.subset2(cnd, \"rlang\"), \"inherit\")\n",
            "  .         if (is_false(inherit)) {\n",
            "  .             return()\n",
            "  .         }\n",
            "  .         cnd <- .subset2(cnd, \"parent\")\n",
            "  .     }\n",
            "  . }), stackOverflowError = handlers[[1L]])\n",
            "18. tryCatchList(expr, classes, parentenv, handlers)\n",
            "19. tryCatchOne(expr, names, parentenv, handlers[[1L]])\n",
            "20. doTryCatch(return(expr), name, parentenv, handler)\n",
            "21. withCallingHandlers(expr, condition = function(cnd) {\n",
            "  .     {\n",
            "  .         .__handler_frame__. <- TRUE\n",
            "  .         .__setup_frame__. <- frame\n",
            "  .         if (inherits(cnd, \"message\")) {\n",
            "  .             except <- c(\"warning\", \"error\")\n",
            "  .         }\n",
            "  .         else if (inherits(cnd, \"warning\")) {\n",
            "  .             except <- \"error\"\n",
            "  .         }\n",
            "  .         else {\n",
            "  .             except <- \"\"\n",
            "  .         }\n",
            "  .     }\n",
            "  .     while (!is_null(cnd)) {\n",
            "  .         if (inherits(cnd, \"error\")) {\n",
            "  .             out <- handlers[[1L]](cnd)\n",
            "  .             if (!inherits(out, \"rlang_zap\")) \n",
            "  .                 throw(out)\n",
            "  .         }\n",
            "  .         inherit <- .subset2(.subset2(cnd, \"rlang\"), \"inherit\")\n",
            "  .         if (is_false(inherit)) {\n",
            "  .             return()\n",
            "  .         }\n",
            "  .         cnd <- .subset2(cnd, \"parent\")\n",
            "  .     }\n",
            "  . })\n",
            "22. f(l = layers[[i]], d = data[[i]])\n",
            "23. l$compute_aesthetics(d, plot)\n",
            "24. compute_aesthetics(..., self = self)\n",
            "25. lapply(aesthetics, eval_tidy, data = data, env = env)\n",
            "26. FUN(X[[i]], ...)\n",
            "27. .handleSimpleError(function (cnd) \n",
            "  . {\n",
            "  .     {\n",
            "  .         .__handler_frame__. <- TRUE\n",
            "  .         .__setup_frame__. <- frame\n",
            "  .         if (inherits(cnd, \"message\")) {\n",
            "  .             except <- c(\"warning\", \"error\")\n",
            "  .         }\n",
            "  .         else if (inherits(cnd, \"warning\")) {\n",
            "  .             except <- \"error\"\n",
            "  .         }\n",
            "  .         else {\n",
            "  .             except <- \"\"\n",
            "  .         }\n",
            "  .     }\n",
            "  .     while (!is_null(cnd)) {\n",
            "  .         if (inherits(cnd, \"error\")) {\n",
            "  .             out <- handlers[[1L]](cnd)\n",
            "  .             if (!inherits(out, \"rlang_zap\")) \n",
            "  .                 throw(out)\n",
            "  .         }\n",
            "  .         inherit <- .subset2(.subset2(cnd, \"rlang\"), \"inherit\")\n",
            "  .         if (is_false(inherit)) {\n",
            "  .             return()\n",
            "  .         }\n",
            "  .         cnd <- .subset2(cnd, \"parent\")\n",
            "  .     }\n",
            "  . }, \"object 'Year' not found\", base::quote(NULL))\n",
            "28. h(simpleError(msg, call))\n",
            "29. handlers[[1L]](cnd)\n",
            "30. cli::cli_abort(c(\"Problem while {step}.\", i = \"Error occurred in the {ordinal(i)} layer.\"), \n",
            "  .     call = layers[[i]]$constructor, parent = cnd)\n",
            "31. rlang::abort(message, ..., call = call, use_cli_format = TRUE, \n",
            "  .     .frame = .frame)\n",
            "32. signal_abort(cnd, .file)\n"
          ]
        }
      ]
    },
    {
      "cell_type": "code",
      "source": [
        "# We can now Re-do this in a cleaner fashion, and for every single year, based on the new rows I created in the line graph approach above\n",
        "\n",
        "# Simple version, comparing 2022 to 1974\n",
        "# Ideally we would be able to add rows that sum over all columns and add specific rows (extremely conservative, extremely liberal). In practice I haven't found a way to do this yet\n",
        "\n",
        "# diffprop <- cleaned_data %>%\n",
        "#   summarise(across(where(is.numeric), sum, na.rm = TRUE),\n",
        "#             across(where(is.character), ~'Total')) %>%\n",
        "#   bind_rows()\n",
        "\n",
        "\n",
        "n1974extr <- dfpolarizationfinal %>%\n",
        "  filter(Label == \"propextr\" | Label == \"propnearextr\" | Label == \"Total\") %>%\n",
        "  select('Label','1974','2006','2018','2022')\n",
        "\n",
        "print(n1974extr)\n"
      ],
      "metadata": {
        "colab": {
          "base_uri": "https://localhost:8080/"
        },
        "id": "gl7koaPDaoY0",
        "outputId": "a908d559-4ad1-4427-f36d-515afc8e2683"
      },
      "execution_count": 135,
      "outputs": [
        {
          "output_type": "stream",
          "name": "stdout",
          "text": [
            "  Label 1974 2006 2018 2022\n",
            "1 Total 1410 4333 2247 3426\n"
          ]
        }
      ]
    }
  ],
  "metadata": {
    "colab": {
      "provenance": [],
      "include_colab_link": true
    },
    "kernelspec": {
      "display_name": "R",
      "name": "ir"
    },
    "language_info": {
      "name": "R"
    }
  },
  "nbformat": 4,
  "nbformat_minor": 0
}